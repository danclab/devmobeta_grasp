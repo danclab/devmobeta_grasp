{
 "cells": [
  {
   "cell_type": "code",
   "execution_count": 15,
   "id": "6211f786",
   "metadata": {},
   "outputs": [],
   "source": [
    "import numpy as np\n",
    "import matplotlib.pyplot as plt\n",
    "from scipy.signal import hilbert\n",
    "import statsmodels.api as sm\n",
    "import os.path as op\n",
    "import pandas as pd\n",
    "import os\n",
    "import mne\n",
    "from mne.io import read_epochs_fieldtrip\n",
    "from mne import create_info\n",
    "from scipy.signal.windows import hann\n",
    "import scipy.io\n",
    "from scipy.io import loadmat\n",
    "from lagged_coherence import lagged_hilbert_coherence\n",
    "import mat73"
   ]
  },
  {
   "cell_type": "code",
   "execution_count": 20,
   "id": "a8b19136",
   "metadata": {},
   "outputs": [
    {
     "name": "stdout",
     "output_type": "stream",
     "text": [
      "Extracting parameters from C:\\Users\\mgautier\\Desktop\\DEVMOBETA\\eeg_data\\devmobeta\\data\\derivatives\\NEARICA_NF\\three\\sub-201\\05_final_zapped_data\\sub-201_task-grasping_eeg_final_zapped_old_new.set...\n",
      "Not setting metadata\n",
      "7 matching events found\n",
      "No baseline correction applied\n",
      "0 projection items activated\n",
      "Ready.\n"
     ]
    },
    {
     "name": "stderr",
     "output_type": "stream",
     "text": [
      "C:\\Users\\mgautier\\AppData\\Local\\Temp/ipykernel_4924/1290931621.py:14: RuntimeWarning: At least one epoch has multiple events. Only the latency of the first event will be retained.\n",
      "  epochs = mne.read_epochs_eeglab(op.join(path, '%s_task-grasping_eeg_final_zapped_old_new.set'%(subject_id)))\n"
     ]
    },
    {
     "name": "stdout",
     "output_type": "stream",
     "text": [
      "Extracting parameters from C:\\Users\\mgautier\\Desktop\\DEVMOBETA\\eeg_data\\devmobeta\\data\\derivatives\\NEARICA_NF\\three\\sub-203\\05_final_zapped_data\\sub-203_task-grasping_eeg_final_zapped_old_new.set...\n",
      "Not setting metadata\n",
      "12 matching events found\n",
      "No baseline correction applied\n",
      "0 projection items activated\n",
      "Ready.\n"
     ]
    },
    {
     "name": "stderr",
     "output_type": "stream",
     "text": [
      "C:\\Users\\mgautier\\AppData\\Local\\Temp/ipykernel_4924/1290931621.py:14: RuntimeWarning: At least one epoch has multiple events. Only the latency of the first event will be retained.\n",
      "  epochs = mne.read_epochs_eeglab(op.join(path, '%s_task-grasping_eeg_final_zapped_old_new.set'%(subject_id)))\n"
     ]
    },
    {
     "name": "stdout",
     "output_type": "stream",
     "text": [
      "Extracting parameters from C:\\Users\\mgautier\\Desktop\\DEVMOBETA\\eeg_data\\devmobeta\\data\\derivatives\\NEARICA_NF\\three\\sub-206\\05_final_zapped_data\\sub-206_task-grasping_eeg_final_zapped_old_new.set...\n",
      "Not setting metadata\n",
      "16 matching events found\n",
      "No baseline correction applied\n",
      "0 projection items activated\n",
      "Ready.\n"
     ]
    },
    {
     "name": "stderr",
     "output_type": "stream",
     "text": [
      "C:\\Users\\mgautier\\AppData\\Local\\Temp/ipykernel_4924/1290931621.py:14: RuntimeWarning: At least one epoch has multiple events. Only the latency of the first event will be retained.\n",
      "  epochs = mne.read_epochs_eeglab(op.join(path, '%s_task-grasping_eeg_final_zapped_old_new.set'%(subject_id)))\n"
     ]
    },
    {
     "name": "stdout",
     "output_type": "stream",
     "text": [
      "Extracting parameters from C:\\Users\\mgautier\\Desktop\\DEVMOBETA\\eeg_data\\devmobeta\\data\\derivatives\\NEARICA_NF\\three\\sub-207\\05_final_zapped_data\\sub-207_task-grasping_eeg_final_zapped_old_new.set...\n",
      "Not setting metadata\n",
      "42 matching events found\n",
      "No baseline correction applied\n",
      "0 projection items activated\n",
      "Ready.\n"
     ]
    },
    {
     "name": "stderr",
     "output_type": "stream",
     "text": [
      "C:\\Users\\mgautier\\AppData\\Local\\Temp/ipykernel_4924/1290931621.py:14: RuntimeWarning: At least one epoch has multiple events. Only the latency of the first event will be retained.\n",
      "  epochs = mne.read_epochs_eeglab(op.join(path, '%s_task-grasping_eeg_final_zapped_old_new.set'%(subject_id)))\n"
     ]
    },
    {
     "name": "stdout",
     "output_type": "stream",
     "text": [
      "Extracting parameters from C:\\Users\\mgautier\\Desktop\\DEVMOBETA\\eeg_data\\devmobeta\\data\\derivatives\\NEARICA_NF\\three\\sub-208\\05_final_zapped_data\\sub-208_task-grasping_eeg_final_zapped_old_new.set...\n",
      "Not setting metadata\n",
      "3 matching events found\n",
      "No baseline correction applied\n",
      "0 projection items activated\n",
      "Ready.\n"
     ]
    },
    {
     "name": "stderr",
     "output_type": "stream",
     "text": [
      "C:\\Users\\mgautier\\AppData\\Local\\Temp/ipykernel_4924/1290931621.py:14: RuntimeWarning: At least one epoch has multiple events. Only the latency of the first event will be retained.\n",
      "  epochs = mne.read_epochs_eeglab(op.join(path, '%s_task-grasping_eeg_final_zapped_old_new.set'%(subject_id)))\n"
     ]
    },
    {
     "name": "stdout",
     "output_type": "stream",
     "text": [
      "Extracting parameters from C:\\Users\\mgautier\\Desktop\\DEVMOBETA\\eeg_data\\devmobeta\\data\\derivatives\\NEARICA_NF\\three\\sub-209\\05_final_zapped_data\\sub-209_task-grasping_eeg_final_zapped_old_new.set...\n",
      "Not setting metadata\n",
      "11 matching events found\n",
      "No baseline correction applied\n",
      "0 projection items activated\n",
      "Ready.\n"
     ]
    },
    {
     "name": "stderr",
     "output_type": "stream",
     "text": [
      "C:\\Users\\mgautier\\AppData\\Local\\Temp/ipykernel_4924/1290931621.py:14: RuntimeWarning: At least one epoch has multiple events. Only the latency of the first event will be retained.\n",
      "  epochs = mne.read_epochs_eeglab(op.join(path, '%s_task-grasping_eeg_final_zapped_old_new.set'%(subject_id)))\n"
     ]
    },
    {
     "name": "stdout",
     "output_type": "stream",
     "text": [
      "Extracting parameters from C:\\Users\\mgautier\\Desktop\\DEVMOBETA\\eeg_data\\devmobeta\\data\\derivatives\\NEARICA_NF\\three\\sub-210\\05_final_zapped_data\\sub-210_task-grasping_eeg_final_zapped_old_new.set...\n",
      "Not setting metadata\n",
      "9 matching events found\n",
      "No baseline correction applied\n",
      "0 projection items activated\n",
      "Ready.\n"
     ]
    },
    {
     "name": "stderr",
     "output_type": "stream",
     "text": [
      "C:\\Users\\mgautier\\AppData\\Local\\Temp/ipykernel_4924/1290931621.py:14: RuntimeWarning: At least one epoch has multiple events. Only the latency of the first event will be retained.\n",
      "  epochs = mne.read_epochs_eeglab(op.join(path, '%s_task-grasping_eeg_final_zapped_old_new.set'%(subject_id)))\n"
     ]
    },
    {
     "name": "stdout",
     "output_type": "stream",
     "text": [
      "Extracting parameters from C:\\Users\\mgautier\\Desktop\\DEVMOBETA\\eeg_data\\devmobeta\\data\\derivatives\\NEARICA_NF\\three\\sub-211\\05_final_zapped_data\\sub-211_task-grasping_eeg_final_zapped_old_new.set...\n",
      "Not setting metadata\n",
      "3 matching events found\n",
      "No baseline correction applied\n",
      "0 projection items activated\n",
      "Ready.\n"
     ]
    },
    {
     "name": "stderr",
     "output_type": "stream",
     "text": [
      "C:\\Users\\mgautier\\AppData\\Local\\Temp/ipykernel_4924/1290931621.py:14: RuntimeWarning: At least one epoch has multiple events. Only the latency of the first event will be retained.\n",
      "  epochs = mne.read_epochs_eeglab(op.join(path, '%s_task-grasping_eeg_final_zapped_old_new.set'%(subject_id)))\n"
     ]
    },
    {
     "name": "stdout",
     "output_type": "stream",
     "text": [
      "Extracting parameters from C:\\Users\\mgautier\\Desktop\\DEVMOBETA\\eeg_data\\devmobeta\\data\\derivatives\\NEARICA_NF\\three\\sub-212\\05_final_zapped_data\\sub-212_task-grasping_eeg_final_zapped_old_new.set...\n",
      "Not setting metadata\n",
      "8 matching events found\n",
      "No baseline correction applied\n",
      "0 projection items activated\n",
      "Ready.\n"
     ]
    },
    {
     "name": "stderr",
     "output_type": "stream",
     "text": [
      "C:\\Users\\mgautier\\AppData\\Local\\Temp/ipykernel_4924/1290931621.py:14: RuntimeWarning: At least one epoch has multiple events. Only the latency of the first event will be retained.\n",
      "  epochs = mne.read_epochs_eeglab(op.join(path, '%s_task-grasping_eeg_final_zapped_old_new.set'%(subject_id)))\n"
     ]
    },
    {
     "name": "stdout",
     "output_type": "stream",
     "text": [
      "Extracting parameters from C:\\Users\\mgautier\\Desktop\\DEVMOBETA\\eeg_data\\devmobeta\\data\\derivatives\\NEARICA_NF\\three\\sub-213\\05_final_zapped_data\\sub-213_task-grasping_eeg_final_zapped_old_new.set...\n",
      "Not setting metadata\n",
      "10 matching events found\n",
      "No baseline correction applied\n",
      "0 projection items activated\n",
      "Ready.\n"
     ]
    },
    {
     "name": "stderr",
     "output_type": "stream",
     "text": [
      "C:\\Users\\mgautier\\AppData\\Local\\Temp/ipykernel_4924/1290931621.py:14: RuntimeWarning: At least one epoch has multiple events. Only the latency of the first event will be retained.\n",
      "  epochs = mne.read_epochs_eeglab(op.join(path, '%s_task-grasping_eeg_final_zapped_old_new.set'%(subject_id)))\n"
     ]
    },
    {
     "name": "stdout",
     "output_type": "stream",
     "text": [
      "Extracting parameters from C:\\Users\\mgautier\\Desktop\\DEVMOBETA\\eeg_data\\devmobeta\\data\\derivatives\\NEARICA_NF\\three\\sub-215\\05_final_zapped_data\\sub-215_task-grasping_eeg_final_zapped_old_new.set...\n",
      "Not setting metadata\n",
      "12 matching events found\n",
      "No baseline correction applied\n",
      "0 projection items activated\n",
      "Ready.\n"
     ]
    },
    {
     "name": "stderr",
     "output_type": "stream",
     "text": [
      "C:\\Users\\mgautier\\AppData\\Local\\Temp/ipykernel_4924/1290931621.py:14: RuntimeWarning: At least one epoch has multiple events. Only the latency of the first event will be retained.\n",
      "  epochs = mne.read_epochs_eeglab(op.join(path, '%s_task-grasping_eeg_final_zapped_old_new.set'%(subject_id)))\n"
     ]
    },
    {
     "name": "stdout",
     "output_type": "stream",
     "text": [
      "Extracting parameters from C:\\Users\\mgautier\\Desktop\\DEVMOBETA\\eeg_data\\devmobeta\\data\\derivatives\\NEARICA_NF\\three\\sub-216\\05_final_zapped_data\\sub-216_task-grasping_eeg_final_zapped_old_new.set...\n",
      "Not setting metadata\n",
      "19 matching events found\n",
      "No baseline correction applied\n",
      "0 projection items activated\n",
      "Ready.\n"
     ]
    },
    {
     "name": "stderr",
     "output_type": "stream",
     "text": [
      "C:\\Users\\mgautier\\AppData\\Local\\Temp/ipykernel_4924/1290931621.py:14: RuntimeWarning: At least one epoch has multiple events. Only the latency of the first event will be retained.\n",
      "  epochs = mne.read_epochs_eeglab(op.join(path, '%s_task-grasping_eeg_final_zapped_old_new.set'%(subject_id)))\n"
     ]
    },
    {
     "name": "stdout",
     "output_type": "stream",
     "text": [
      "Extracting parameters from C:\\Users\\mgautier\\Desktop\\DEVMOBETA\\eeg_data\\devmobeta\\data\\derivatives\\NEARICA_NF\\three\\sub-217\\05_final_zapped_data\\sub-217_task-grasping_eeg_final_zapped_old_new.set...\n",
      "Not setting metadata\n",
      "14 matching events found\n",
      "No baseline correction applied\n",
      "0 projection items activated\n",
      "Ready.\n"
     ]
    },
    {
     "name": "stderr",
     "output_type": "stream",
     "text": [
      "C:\\Users\\mgautier\\AppData\\Local\\Temp/ipykernel_4924/1290931621.py:14: RuntimeWarning: At least one epoch has multiple events. Only the latency of the first event will be retained.\n",
      "  epochs = mne.read_epochs_eeglab(op.join(path, '%s_task-grasping_eeg_final_zapped_old_new.set'%(subject_id)))\n"
     ]
    },
    {
     "name": "stdout",
     "output_type": "stream",
     "text": [
      "Extracting parameters from C:\\Users\\mgautier\\Desktop\\DEVMOBETA\\eeg_data\\devmobeta\\data\\derivatives\\NEARICA_NF\\three\\sub-218\\05_final_zapped_data\\sub-218_task-grasping_eeg_final_zapped_old_new.set...\n",
      "Not setting metadata\n",
      "4 matching events found\n",
      "No baseline correction applied\n",
      "0 projection items activated\n",
      "Ready.\n"
     ]
    },
    {
     "name": "stderr",
     "output_type": "stream",
     "text": [
      "C:\\Users\\mgautier\\AppData\\Local\\Temp/ipykernel_4924/1290931621.py:14: RuntimeWarning: At least one epoch has multiple events. Only the latency of the first event will be retained.\n",
      "  epochs = mne.read_epochs_eeglab(op.join(path, '%s_task-grasping_eeg_final_zapped_old_new.set'%(subject_id)))\n"
     ]
    },
    {
     "name": "stdout",
     "output_type": "stream",
     "text": [
      "Extracting parameters from C:\\Users\\mgautier\\Desktop\\DEVMOBETA\\eeg_data\\devmobeta\\data\\derivatives\\NEARICA_NF\\three\\sub-219\\05_final_zapped_data\\sub-219_task-grasping_eeg_final_zapped_old_new.set...\n",
      "Not setting metadata\n",
      "10 matching events found\n",
      "No baseline correction applied\n",
      "0 projection items activated\n",
      "Ready.\n"
     ]
    },
    {
     "name": "stderr",
     "output_type": "stream",
     "text": [
      "C:\\Users\\mgautier\\AppData\\Local\\Temp/ipykernel_4924/1290931621.py:14: RuntimeWarning: At least one epoch has multiple events. Only the latency of the first event will be retained.\n",
      "  epochs = mne.read_epochs_eeglab(op.join(path, '%s_task-grasping_eeg_final_zapped_old_new.set'%(subject_id)))\n"
     ]
    },
    {
     "name": "stdout",
     "output_type": "stream",
     "text": [
      "Extracting parameters from C:\\Users\\mgautier\\Desktop\\DEVMOBETA\\eeg_data\\devmobeta\\data\\derivatives\\NEARICA_NF\\three\\sub-221\\05_final_zapped_data\\sub-221_task-grasping_eeg_final_zapped_old_new.set...\n",
      "Not setting metadata\n",
      "2 matching events found\n",
      "No baseline correction applied\n",
      "0 projection items activated\n",
      "Ready.\n"
     ]
    },
    {
     "name": "stderr",
     "output_type": "stream",
     "text": [
      "C:\\Users\\mgautier\\AppData\\Local\\Temp/ipykernel_4924/1290931621.py:14: RuntimeWarning: At least one epoch has multiple events. Only the latency of the first event will be retained.\n",
      "  epochs = mne.read_epochs_eeglab(op.join(path, '%s_task-grasping_eeg_final_zapped_old_new.set'%(subject_id)))\n"
     ]
    },
    {
     "name": "stdout",
     "output_type": "stream",
     "text": [
      "Extracting parameters from C:\\Users\\mgautier\\Desktop\\DEVMOBETA\\eeg_data\\devmobeta\\data\\derivatives\\NEARICA_NF\\three\\sub-224\\05_final_zapped_data\\sub-224_task-grasping_eeg_final_zapped_old_new.set...\n",
      "Not setting metadata\n",
      "7 matching events found\n",
      "No baseline correction applied\n",
      "0 projection items activated\n",
      "Ready.\n"
     ]
    },
    {
     "name": "stderr",
     "output_type": "stream",
     "text": [
      "C:\\Users\\mgautier\\AppData\\Local\\Temp/ipykernel_4924/1290931621.py:14: RuntimeWarning: At least one epoch has multiple events. Only the latency of the first event will be retained.\n",
      "  epochs = mne.read_epochs_eeglab(op.join(path, '%s_task-grasping_eeg_final_zapped_old_new.set'%(subject_id)))\n"
     ]
    },
    {
     "name": "stdout",
     "output_type": "stream",
     "text": [
      "Extracting parameters from C:\\Users\\mgautier\\Desktop\\DEVMOBETA\\eeg_data\\devmobeta\\data\\derivatives\\NEARICA_NF\\three\\sub-225\\05_final_zapped_data\\sub-225_task-grasping_eeg_final_zapped_old_new.set...\n",
      "Not setting metadata\n",
      "10 matching events found\n",
      "No baseline correction applied\n",
      "0 projection items activated\n",
      "Ready.\n"
     ]
    },
    {
     "name": "stderr",
     "output_type": "stream",
     "text": [
      "C:\\Users\\mgautier\\AppData\\Local\\Temp/ipykernel_4924/1290931621.py:14: RuntimeWarning: At least one epoch has multiple events. Only the latency of the first event will be retained.\n",
      "  epochs = mne.read_epochs_eeglab(op.join(path, '%s_task-grasping_eeg_final_zapped_old_new.set'%(subject_id)))\n"
     ]
    },
    {
     "name": "stdout",
     "output_type": "stream",
     "text": [
      "Extracting parameters from C:\\Users\\mgautier\\Desktop\\DEVMOBETA\\eeg_data\\devmobeta\\data\\derivatives\\NEARICA_NF\\three\\sub-226\\05_final_zapped_data\\sub-226_task-grasping_eeg_final_zapped_old_new.set...\n",
      "Not setting metadata\n",
      "6 matching events found\n",
      "No baseline correction applied\n",
      "0 projection items activated\n",
      "Ready.\n"
     ]
    },
    {
     "name": "stderr",
     "output_type": "stream",
     "text": [
      "C:\\Users\\mgautier\\AppData\\Local\\Temp/ipykernel_4924/1290931621.py:14: RuntimeWarning: At least one epoch has multiple events. Only the latency of the first event will be retained.\n",
      "  epochs = mne.read_epochs_eeglab(op.join(path, '%s_task-grasping_eeg_final_zapped_old_new.set'%(subject_id)))\n"
     ]
    },
    {
     "name": "stdout",
     "output_type": "stream",
     "text": [
      "Extracting parameters from C:\\Users\\mgautier\\Desktop\\DEVMOBETA\\eeg_data\\devmobeta\\data\\derivatives\\NEARICA_NF\\three\\sub-230\\05_final_zapped_data\\sub-230_task-grasping_eeg_final_zapped_old_new.set...\n",
      "Not setting metadata\n",
      "8 matching events found\n",
      "No baseline correction applied\n",
      "0 projection items activated\n",
      "Ready.\n"
     ]
    },
    {
     "name": "stderr",
     "output_type": "stream",
     "text": [
      "C:\\Users\\mgautier\\AppData\\Local\\Temp/ipykernel_4924/1290931621.py:14: RuntimeWarning: At least one epoch has multiple events. Only the latency of the first event will be retained.\n",
      "  epochs = mne.read_epochs_eeglab(op.join(path, '%s_task-grasping_eeg_final_zapped_old_new.set'%(subject_id)))\n"
     ]
    },
    {
     "name": "stdout",
     "output_type": "stream",
     "text": [
      "Extracting parameters from C:\\Users\\mgautier\\Desktop\\DEVMOBETA\\eeg_data\\devmobeta\\data\\derivatives\\NEARICA_NF\\three\\sub-232\\05_final_zapped_data\\sub-232_task-grasping_eeg_final_zapped_old_new.set...\n",
      "Not setting metadata\n",
      "3 matching events found\n",
      "No baseline correction applied\n",
      "0 projection items activated\n",
      "Ready.\n"
     ]
    },
    {
     "name": "stderr",
     "output_type": "stream",
     "text": [
      "C:\\Users\\mgautier\\AppData\\Local\\Temp/ipykernel_4924/1290931621.py:14: RuntimeWarning: At least one epoch has multiple events. Only the latency of the first event will be retained.\n",
      "  epochs = mne.read_epochs_eeglab(op.join(path, '%s_task-grasping_eeg_final_zapped_old_new.set'%(subject_id)))\n"
     ]
    },
    {
     "name": "stdout",
     "output_type": "stream",
     "text": [
      "Extracting parameters from C:\\Users\\mgautier\\Desktop\\DEVMOBETA\\eeg_data\\devmobeta\\data\\derivatives\\NEARICA_NF\\three\\sub-229\\05_final_zapped_data\\sub-229_task-grasping_eeg_final_zapped_old_new.set...\n",
      "Not setting metadata\n",
      "18 matching events found\n",
      "No baseline correction applied\n",
      "0 projection items activated\n",
      "Ready.\n"
     ]
    },
    {
     "name": "stderr",
     "output_type": "stream",
     "text": [
      "C:\\Users\\mgautier\\AppData\\Local\\Temp/ipykernel_4924/1290931621.py:14: RuntimeWarning: At least one epoch has multiple events. Only the latency of the first event will be retained.\n",
      "  epochs = mne.read_epochs_eeglab(op.join(path, '%s_task-grasping_eeg_final_zapped_old_new.set'%(subject_id)))\n"
     ]
    },
    {
     "name": "stdout",
     "output_type": "stream",
     "text": [
      "Extracting parameters from C:\\Users\\mgautier\\Desktop\\DEVMOBETA\\eeg_data\\devmobeta\\data\\derivatives\\NEARICA_NF\\three\\sub-201\\05_final_zapped_data\\sub-201_task-grasping_eeg_final_zapped_old_new.set...\n",
      "Not setting metadata\n",
      "7 matching events found\n",
      "No baseline correction applied\n",
      "0 projection items activated\n",
      "Ready.\n"
     ]
    },
    {
     "name": "stderr",
     "output_type": "stream",
     "text": [
      "C:\\Users\\mgautier\\AppData\\Local\\Temp/ipykernel_4924/1290931621.py:14: RuntimeWarning: At least one epoch has multiple events. Only the latency of the first event will be retained.\n",
      "  epochs = mne.read_epochs_eeglab(op.join(path, '%s_task-grasping_eeg_final_zapped_old_new.set'%(subject_id)))\n"
     ]
    },
    {
     "name": "stdout",
     "output_type": "stream",
     "text": [
      "Extracting parameters from C:\\Users\\mgautier\\Desktop\\DEVMOBETA\\eeg_data\\devmobeta\\data\\derivatives\\NEARICA_NF\\three\\sub-203\\05_final_zapped_data\\sub-203_task-grasping_eeg_final_zapped_old_new.set...\n",
      "Not setting metadata\n",
      "12 matching events found\n",
      "No baseline correction applied\n",
      "0 projection items activated\n",
      "Ready.\n"
     ]
    },
    {
     "name": "stderr",
     "output_type": "stream",
     "text": [
      "C:\\Users\\mgautier\\AppData\\Local\\Temp/ipykernel_4924/1290931621.py:14: RuntimeWarning: At least one epoch has multiple events. Only the latency of the first event will be retained.\n",
      "  epochs = mne.read_epochs_eeglab(op.join(path, '%s_task-grasping_eeg_final_zapped_old_new.set'%(subject_id)))\n"
     ]
    },
    {
     "name": "stdout",
     "output_type": "stream",
     "text": [
      "Extracting parameters from C:\\Users\\mgautier\\Desktop\\DEVMOBETA\\eeg_data\\devmobeta\\data\\derivatives\\NEARICA_NF\\three\\sub-206\\05_final_zapped_data\\sub-206_task-grasping_eeg_final_zapped_old_new.set...\n",
      "Not setting metadata\n",
      "16 matching events found\n",
      "No baseline correction applied\n",
      "0 projection items activated\n",
      "Ready.\n"
     ]
    },
    {
     "name": "stderr",
     "output_type": "stream",
     "text": [
      "C:\\Users\\mgautier\\AppData\\Local\\Temp/ipykernel_4924/1290931621.py:14: RuntimeWarning: At least one epoch has multiple events. Only the latency of the first event will be retained.\n",
      "  epochs = mne.read_epochs_eeglab(op.join(path, '%s_task-grasping_eeg_final_zapped_old_new.set'%(subject_id)))\n"
     ]
    },
    {
     "name": "stdout",
     "output_type": "stream",
     "text": [
      "Extracting parameters from C:\\Users\\mgautier\\Desktop\\DEVMOBETA\\eeg_data\\devmobeta\\data\\derivatives\\NEARICA_NF\\three\\sub-207\\05_final_zapped_data\\sub-207_task-grasping_eeg_final_zapped_old_new.set...\n",
      "Not setting metadata\n",
      "42 matching events found\n",
      "No baseline correction applied\n",
      "0 projection items activated\n",
      "Ready.\n"
     ]
    },
    {
     "name": "stderr",
     "output_type": "stream",
     "text": [
      "C:\\Users\\mgautier\\AppData\\Local\\Temp/ipykernel_4924/1290931621.py:14: RuntimeWarning: At least one epoch has multiple events. Only the latency of the first event will be retained.\n",
      "  epochs = mne.read_epochs_eeglab(op.join(path, '%s_task-grasping_eeg_final_zapped_old_new.set'%(subject_id)))\n"
     ]
    },
    {
     "name": "stdout",
     "output_type": "stream",
     "text": [
      "Extracting parameters from C:\\Users\\mgautier\\Desktop\\DEVMOBETA\\eeg_data\\devmobeta\\data\\derivatives\\NEARICA_NF\\three\\sub-208\\05_final_zapped_data\\sub-208_task-grasping_eeg_final_zapped_old_new.set...\n",
      "Not setting metadata\n",
      "3 matching events found\n",
      "No baseline correction applied\n",
      "0 projection items activated\n",
      "Ready.\n"
     ]
    },
    {
     "name": "stderr",
     "output_type": "stream",
     "text": [
      "C:\\Users\\mgautier\\AppData\\Local\\Temp/ipykernel_4924/1290931621.py:14: RuntimeWarning: At least one epoch has multiple events. Only the latency of the first event will be retained.\n",
      "  epochs = mne.read_epochs_eeglab(op.join(path, '%s_task-grasping_eeg_final_zapped_old_new.set'%(subject_id)))\n"
     ]
    },
    {
     "name": "stdout",
     "output_type": "stream",
     "text": [
      "Extracting parameters from C:\\Users\\mgautier\\Desktop\\DEVMOBETA\\eeg_data\\devmobeta\\data\\derivatives\\NEARICA_NF\\three\\sub-209\\05_final_zapped_data\\sub-209_task-grasping_eeg_final_zapped_old_new.set...\n",
      "Not setting metadata\n",
      "11 matching events found\n",
      "No baseline correction applied\n",
      "0 projection items activated\n",
      "Ready.\n"
     ]
    },
    {
     "name": "stderr",
     "output_type": "stream",
     "text": [
      "C:\\Users\\mgautier\\AppData\\Local\\Temp/ipykernel_4924/1290931621.py:14: RuntimeWarning: At least one epoch has multiple events. Only the latency of the first event will be retained.\n",
      "  epochs = mne.read_epochs_eeglab(op.join(path, '%s_task-grasping_eeg_final_zapped_old_new.set'%(subject_id)))\n"
     ]
    },
    {
     "name": "stdout",
     "output_type": "stream",
     "text": [
      "Extracting parameters from C:\\Users\\mgautier\\Desktop\\DEVMOBETA\\eeg_data\\devmobeta\\data\\derivatives\\NEARICA_NF\\three\\sub-210\\05_final_zapped_data\\sub-210_task-grasping_eeg_final_zapped_old_new.set...\n",
      "Not setting metadata\n",
      "9 matching events found\n",
      "No baseline correction applied\n",
      "0 projection items activated\n",
      "Ready.\n"
     ]
    },
    {
     "name": "stderr",
     "output_type": "stream",
     "text": [
      "C:\\Users\\mgautier\\AppData\\Local\\Temp/ipykernel_4924/1290931621.py:14: RuntimeWarning: At least one epoch has multiple events. Only the latency of the first event will be retained.\n",
      "  epochs = mne.read_epochs_eeglab(op.join(path, '%s_task-grasping_eeg_final_zapped_old_new.set'%(subject_id)))\n"
     ]
    },
    {
     "name": "stdout",
     "output_type": "stream",
     "text": [
      "Extracting parameters from C:\\Users\\mgautier\\Desktop\\DEVMOBETA\\eeg_data\\devmobeta\\data\\derivatives\\NEARICA_NF\\three\\sub-211\\05_final_zapped_data\\sub-211_task-grasping_eeg_final_zapped_old_new.set...\n",
      "Not setting metadata\n",
      "3 matching events found\n",
      "No baseline correction applied\n",
      "0 projection items activated\n",
      "Ready.\n"
     ]
    },
    {
     "name": "stderr",
     "output_type": "stream",
     "text": [
      "C:\\Users\\mgautier\\AppData\\Local\\Temp/ipykernel_4924/1290931621.py:14: RuntimeWarning: At least one epoch has multiple events. Only the latency of the first event will be retained.\n",
      "  epochs = mne.read_epochs_eeglab(op.join(path, '%s_task-grasping_eeg_final_zapped_old_new.set'%(subject_id)))\n"
     ]
    },
    {
     "name": "stdout",
     "output_type": "stream",
     "text": [
      "Extracting parameters from C:\\Users\\mgautier\\Desktop\\DEVMOBETA\\eeg_data\\devmobeta\\data\\derivatives\\NEARICA_NF\\three\\sub-212\\05_final_zapped_data\\sub-212_task-grasping_eeg_final_zapped_old_new.set...\n",
      "Not setting metadata\n",
      "8 matching events found\n",
      "No baseline correction applied\n",
      "0 projection items activated\n",
      "Ready.\n"
     ]
    },
    {
     "name": "stderr",
     "output_type": "stream",
     "text": [
      "C:\\Users\\mgautier\\AppData\\Local\\Temp/ipykernel_4924/1290931621.py:14: RuntimeWarning: At least one epoch has multiple events. Only the latency of the first event will be retained.\n",
      "  epochs = mne.read_epochs_eeglab(op.join(path, '%s_task-grasping_eeg_final_zapped_old_new.set'%(subject_id)))\n"
     ]
    },
    {
     "name": "stdout",
     "output_type": "stream",
     "text": [
      "Extracting parameters from C:\\Users\\mgautier\\Desktop\\DEVMOBETA\\eeg_data\\devmobeta\\data\\derivatives\\NEARICA_NF\\three\\sub-213\\05_final_zapped_data\\sub-213_task-grasping_eeg_final_zapped_old_new.set...\n",
      "Not setting metadata\n",
      "10 matching events found\n",
      "No baseline correction applied\n",
      "0 projection items activated\n",
      "Ready.\n"
     ]
    },
    {
     "name": "stderr",
     "output_type": "stream",
     "text": [
      "C:\\Users\\mgautier\\AppData\\Local\\Temp/ipykernel_4924/1290931621.py:14: RuntimeWarning: At least one epoch has multiple events. Only the latency of the first event will be retained.\n",
      "  epochs = mne.read_epochs_eeglab(op.join(path, '%s_task-grasping_eeg_final_zapped_old_new.set'%(subject_id)))\n"
     ]
    },
    {
     "name": "stdout",
     "output_type": "stream",
     "text": [
      "Extracting parameters from C:\\Users\\mgautier\\Desktop\\DEVMOBETA\\eeg_data\\devmobeta\\data\\derivatives\\NEARICA_NF\\three\\sub-215\\05_final_zapped_data\\sub-215_task-grasping_eeg_final_zapped_old_new.set...\n",
      "Not setting metadata\n",
      "12 matching events found\n",
      "No baseline correction applied\n",
      "0 projection items activated\n",
      "Ready.\n"
     ]
    },
    {
     "name": "stderr",
     "output_type": "stream",
     "text": [
      "C:\\Users\\mgautier\\AppData\\Local\\Temp/ipykernel_4924/1290931621.py:14: RuntimeWarning: At least one epoch has multiple events. Only the latency of the first event will be retained.\n",
      "  epochs = mne.read_epochs_eeglab(op.join(path, '%s_task-grasping_eeg_final_zapped_old_new.set'%(subject_id)))\n"
     ]
    },
    {
     "name": "stdout",
     "output_type": "stream",
     "text": [
      "Extracting parameters from C:\\Users\\mgautier\\Desktop\\DEVMOBETA\\eeg_data\\devmobeta\\data\\derivatives\\NEARICA_NF\\three\\sub-216\\05_final_zapped_data\\sub-216_task-grasping_eeg_final_zapped_old_new.set...\n",
      "Not setting metadata\n",
      "19 matching events found\n",
      "No baseline correction applied\n",
      "0 projection items activated\n",
      "Ready.\n"
     ]
    },
    {
     "name": "stderr",
     "output_type": "stream",
     "text": [
      "C:\\Users\\mgautier\\AppData\\Local\\Temp/ipykernel_4924/1290931621.py:14: RuntimeWarning: At least one epoch has multiple events. Only the latency of the first event will be retained.\n",
      "  epochs = mne.read_epochs_eeglab(op.join(path, '%s_task-grasping_eeg_final_zapped_old_new.set'%(subject_id)))\n"
     ]
    },
    {
     "name": "stdout",
     "output_type": "stream",
     "text": [
      "Extracting parameters from C:\\Users\\mgautier\\Desktop\\DEVMOBETA\\eeg_data\\devmobeta\\data\\derivatives\\NEARICA_NF\\three\\sub-217\\05_final_zapped_data\\sub-217_task-grasping_eeg_final_zapped_old_new.set...\n",
      "Not setting metadata\n",
      "14 matching events found\n",
      "No baseline correction applied\n",
      "0 projection items activated\n",
      "Ready.\n"
     ]
    },
    {
     "name": "stderr",
     "output_type": "stream",
     "text": [
      "C:\\Users\\mgautier\\AppData\\Local\\Temp/ipykernel_4924/1290931621.py:14: RuntimeWarning: At least one epoch has multiple events. Only the latency of the first event will be retained.\n",
      "  epochs = mne.read_epochs_eeglab(op.join(path, '%s_task-grasping_eeg_final_zapped_old_new.set'%(subject_id)))\n"
     ]
    },
    {
     "name": "stdout",
     "output_type": "stream",
     "text": [
      "Extracting parameters from C:\\Users\\mgautier\\Desktop\\DEVMOBETA\\eeg_data\\devmobeta\\data\\derivatives\\NEARICA_NF\\three\\sub-218\\05_final_zapped_data\\sub-218_task-grasping_eeg_final_zapped_old_new.set...\n",
      "Not setting metadata\n",
      "4 matching events found\n",
      "No baseline correction applied\n",
      "0 projection items activated\n",
      "Ready.\n"
     ]
    },
    {
     "name": "stderr",
     "output_type": "stream",
     "text": [
      "C:\\Users\\mgautier\\AppData\\Local\\Temp/ipykernel_4924/1290931621.py:14: RuntimeWarning: At least one epoch has multiple events. Only the latency of the first event will be retained.\n",
      "  epochs = mne.read_epochs_eeglab(op.join(path, '%s_task-grasping_eeg_final_zapped_old_new.set'%(subject_id)))\n"
     ]
    },
    {
     "name": "stdout",
     "output_type": "stream",
     "text": [
      "Extracting parameters from C:\\Users\\mgautier\\Desktop\\DEVMOBETA\\eeg_data\\devmobeta\\data\\derivatives\\NEARICA_NF\\three\\sub-219\\05_final_zapped_data\\sub-219_task-grasping_eeg_final_zapped_old_new.set...\n",
      "Not setting metadata\n",
      "10 matching events found\n",
      "No baseline correction applied\n",
      "0 projection items activated\n",
      "Ready.\n"
     ]
    },
    {
     "name": "stderr",
     "output_type": "stream",
     "text": [
      "C:\\Users\\mgautier\\AppData\\Local\\Temp/ipykernel_4924/1290931621.py:14: RuntimeWarning: At least one epoch has multiple events. Only the latency of the first event will be retained.\n",
      "  epochs = mne.read_epochs_eeglab(op.join(path, '%s_task-grasping_eeg_final_zapped_old_new.set'%(subject_id)))\n"
     ]
    },
    {
     "name": "stdout",
     "output_type": "stream",
     "text": [
      "Extracting parameters from C:\\Users\\mgautier\\Desktop\\DEVMOBETA\\eeg_data\\devmobeta\\data\\derivatives\\NEARICA_NF\\three\\sub-221\\05_final_zapped_data\\sub-221_task-grasping_eeg_final_zapped_old_new.set...\n",
      "Not setting metadata\n",
      "2 matching events found\n",
      "No baseline correction applied\n",
      "0 projection items activated\n",
      "Ready.\n"
     ]
    },
    {
     "name": "stderr",
     "output_type": "stream",
     "text": [
      "C:\\Users\\mgautier\\AppData\\Local\\Temp/ipykernel_4924/1290931621.py:14: RuntimeWarning: At least one epoch has multiple events. Only the latency of the first event will be retained.\n",
      "  epochs = mne.read_epochs_eeglab(op.join(path, '%s_task-grasping_eeg_final_zapped_old_new.set'%(subject_id)))\n"
     ]
    },
    {
     "name": "stdout",
     "output_type": "stream",
     "text": [
      "Extracting parameters from C:\\Users\\mgautier\\Desktop\\DEVMOBETA\\eeg_data\\devmobeta\\data\\derivatives\\NEARICA_NF\\three\\sub-224\\05_final_zapped_data\\sub-224_task-grasping_eeg_final_zapped_old_new.set...\n",
      "Not setting metadata\n",
      "7 matching events found\n",
      "No baseline correction applied\n",
      "0 projection items activated\n",
      "Ready.\n"
     ]
    },
    {
     "name": "stderr",
     "output_type": "stream",
     "text": [
      "C:\\Users\\mgautier\\AppData\\Local\\Temp/ipykernel_4924/1290931621.py:14: RuntimeWarning: At least one epoch has multiple events. Only the latency of the first event will be retained.\n",
      "  epochs = mne.read_epochs_eeglab(op.join(path, '%s_task-grasping_eeg_final_zapped_old_new.set'%(subject_id)))\n"
     ]
    },
    {
     "name": "stdout",
     "output_type": "stream",
     "text": [
      "Extracting parameters from C:\\Users\\mgautier\\Desktop\\DEVMOBETA\\eeg_data\\devmobeta\\data\\derivatives\\NEARICA_NF\\three\\sub-207\\05_final_zapped_data\\sub-207_task-grasping_eeg_final_zapped_old_new.set...\n",
      "Not setting metadata\n",
      "42 matching events found\n",
      "No baseline correction applied\n",
      "0 projection items activated\n",
      "Ready.\n"
     ]
    },
    {
     "name": "stderr",
     "output_type": "stream",
     "text": [
      "C:\\Users\\mgautier\\AppData\\Local\\Temp/ipykernel_4924/1290931621.py:14: RuntimeWarning: At least one epoch has multiple events. Only the latency of the first event will be retained.\n",
      "  epochs = mne.read_epochs_eeglab(op.join(path, '%s_task-grasping_eeg_final_zapped_old_new.set'%(subject_id)))\n"
     ]
    },
    {
     "name": "stdout",
     "output_type": "stream",
     "text": [
      "Extracting parameters from C:\\Users\\mgautier\\Desktop\\DEVMOBETA\\eeg_data\\devmobeta\\data\\derivatives\\NEARICA_NF\\three\\sub-208\\05_final_zapped_data\\sub-208_task-grasping_eeg_final_zapped_old_new.set...\n",
      "Not setting metadata\n",
      "3 matching events found\n",
      "No baseline correction applied\n",
      "0 projection items activated\n",
      "Ready.\n"
     ]
    },
    {
     "name": "stderr",
     "output_type": "stream",
     "text": [
      "C:\\Users\\mgautier\\AppData\\Local\\Temp/ipykernel_4924/1290931621.py:14: RuntimeWarning: At least one epoch has multiple events. Only the latency of the first event will be retained.\n",
      "  epochs = mne.read_epochs_eeglab(op.join(path, '%s_task-grasping_eeg_final_zapped_old_new.set'%(subject_id)))\n"
     ]
    },
    {
     "name": "stdout",
     "output_type": "stream",
     "text": [
      "Extracting parameters from C:\\Users\\mgautier\\Desktop\\DEVMOBETA\\eeg_data\\devmobeta\\data\\derivatives\\NEARICA_NF\\three\\sub-203\\05_final_zapped_data\\sub-203_task-grasping_eeg_final_zapped_old_new.set...\n",
      "Not setting metadata\n",
      "12 matching events found\n",
      "No baseline correction applied\n",
      "0 projection items activated\n",
      "Ready.\n"
     ]
    },
    {
     "name": "stderr",
     "output_type": "stream",
     "text": [
      "C:\\Users\\mgautier\\AppData\\Local\\Temp/ipykernel_4924/1290931621.py:14: RuntimeWarning: At least one epoch has multiple events. Only the latency of the first event will be retained.\n",
      "  epochs = mne.read_epochs_eeglab(op.join(path, '%s_task-grasping_eeg_final_zapped_old_new.set'%(subject_id)))\n"
     ]
    },
    {
     "name": "stdout",
     "output_type": "stream",
     "text": [
      "Extracting parameters from C:\\Users\\mgautier\\Desktop\\DEVMOBETA\\eeg_data\\devmobeta\\data\\derivatives\\NEARICA_NF\\three\\sub-201\\05_final_zapped_data\\sub-201_task-grasping_eeg_final_zapped_old_new.set...\n",
      "Not setting metadata\n",
      "7 matching events found\n",
      "No baseline correction applied\n",
      "0 projection items activated\n",
      "Ready.\n"
     ]
    },
    {
     "name": "stderr",
     "output_type": "stream",
     "text": [
      "C:\\Users\\mgautier\\AppData\\Local\\Temp/ipykernel_4924/1290931621.py:14: RuntimeWarning: At least one epoch has multiple events. Only the latency of the first event will be retained.\n",
      "  epochs = mne.read_epochs_eeglab(op.join(path, '%s_task-grasping_eeg_final_zapped_old_new.set'%(subject_id)))\n"
     ]
    }
   ],
   "source": [
    "base_dir = r'C:\\Users\\mgautier\\Desktop\\DEVMOBETA\\eeg_data\\devmobeta\\data'\n",
    "subjects = pd.read_csv(op.join(base_dir, 'participants.tsv'), sep='\\t')\n",
    "subject_ids = subjects['participant_id']\n",
    "pipeline='NEARICA_NF'\n",
    "age='three'\n",
    "ch_names = ['E35', 'E30', 'E36', 'E42','E41', 'E37', 'E104', 'E105', 'E103','E110','E87','E93']\n",
    "sfreq = 512\n",
    "info = create_info(ch_names, sfreq, ch_types='eeg', verbose=None)\n",
    "\n",
    "for subject_id in subject_ids:\n",
    "    path = op.join(base_dir, 'derivatives', pipeline,age, subject_id, '05_final_zapped_data')\n",
    "    if os.path.exists(op.join(path, '%s_task-grasping_eeg_final_zapped_old_new.set' %(subject_id))):\n",
    "\n",
    "        epochs = mne.read_epochs_eeglab(op.join(path, '%s_task-grasping_eeg_final_zapped_old_new.set'%(subject_id)))\n",
    "        times = epochs.times\n",
    "        trials = epochs.get_data()[:, 11, :]\n",
    "\n",
    "        freqs=np.arange(1.25,50.25,.25)\n",
    "        lags=np.arange(0.1,1,.05)\n",
    "        srate=1000\n",
    "        ch_lc=lagged_hilbert_coherence(trials, freqs, lags, srate, n_jobs=20)\n",
    "        \n",
    "    else: \n",
    "        continue"
   ]
  },
  {
   "cell_type": "code",
   "execution_count": 21,
   "id": "0fe5d860",
   "metadata": {},
   "outputs": [
    {
     "data": {
      "image/png": "[encoded data removed]",
      "text/plain": [
       "<Figure size 432x288 with 2 Axes>"
      ]
     },
     "metadata": {
      "needs_background": "light"
     },
     "output_type": "display_data"
    }
   ],
   "source": [
    "low_frange=np.where((freqs>=7) & (freqs<=13))[0]\n",
    "high_frange=np.where((freqs>=13) & (freqs<=30))[0]\n",
    "\n",
    "plt.figure()\n",
    "plt.subplot(2,2,1)\n",
    "i1=plt.imshow(np.nanmean(ch_lc,axis=0), aspect='auto', cmap='plasma', \n",
    "              extent=[lags[0], lags[-1], freqs[0], freqs[-1]], \n",
    "              origin='lower')\n",
    "plt.ylabel('Frequency (Hz)')\n",
    "plt.subplot(2,2,3)\n",
    "plt.plot(lags,np.nanmean(np.nanmean(ch_lc[:,low_frange,:],axis=1),axis=0),label='alpha')\n",
    "plt.plot(lags,np.nanmean(np.nanmean(ch_lc[:,high_frange,:],axis=1),axis=0),label='beta')\n",
    "plt.xlabel('Lag (cycles)')\n",
    "plt.ylabel('Lagged coherence')\n",
    "plt.legend()\n",
    "plt.tight_layout()"
   ]
  },
  {
   "cell_type": "code",
   "execution_count": null,
   "id": "25f4ed02",
   "metadata": {},
   "outputs": [],
   "source": []
  }
 ],
 "metadata": {
  "kernelspec": {
   "display_name": "Python 3 (ipykernel)",
   "language": "python",
   "name": "python3"
  },
  "language_info": {
   "codemirror_mode": {
    "name": "ipython",
    "version": 3
   },
   "file_extension": ".py",
   "mimetype": "text/x-python",
   "name": "python",
   "nbconvert_exporter": "python",
   "pygments_lexer": "ipython3",
   "version": "3.9.5"
  }
 },
 "nbformat": 4,
 "nbformat_minor": 5
}
