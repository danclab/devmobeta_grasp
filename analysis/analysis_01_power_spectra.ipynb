{
 "cells": [
  {
   "cell_type": "code",
   "execution_count": 86,
   "id": "0d40d6ef",
   "metadata": {},
   "outputs": [],
   "source": [
    "import os\n",
    "import glob\n",
    "import mne\n",
    "import csv\n",
    "import matplotlib.pyplot as plt\n",
    "import numpy as np\n",
    "import scipy\n",
    "from fooof import FOOOF, FOOOFGroup, fit_fooof_3d\n",
    "from fooof.sim.gen import gen_aperiodic\n",
    "import json"
   ]
  },
  {
   "cell_type": "code",
   "execution_count": 87,
   "id": "e9649454",
   "metadata": {},
   "outputs": [],
   "source": [
    "c3_chans=['E30','E36','E41','E31','E37','E42','E54','E53']\n",
    "c4_chans=['E105','E104','E103','E80','E87','E93','E79','E86']\n",
    "c_chans=[]\n",
    "c_chans.extend(c3_chans)\n",
    "c_chans.extend(c4_chans)"
   ]
  },
  {
   "cell_type": "code",
   "execution_count": 88,
   "id": "567b4128",
   "metadata": {},
   "outputs": [],
   "source": [
    "def compute_psds(age):\n",
    "    subjects=[os.path.split(x)[-1] for x in glob.glob('/home/common/bonaiuto/devmobeta/data/sub-*')]\n",
    "    subject_age_path=os.path.join('/home/common/bonaiuto/devmobeta/derivatives/')\n",
    "    subject_age= os.path.join(subject_age_path,'participants.csv')\n",
    "\n",
    "    sub_psds=[]\n",
    "    freqs=None\n",
    "            \n",
    "    with open(subject_age, 'r') as csvfile:\n",
    "        reader = csv.DictReader(csvfile, delimiter='\\t')\n",
    "        for row in reader:\n",
    "            print(\"Processing row:\", row)\n",
    "            subject=row['subject_id']\n",
    "            session=row['session']\n",
    "            subject_age = row['age']\n",
    "            print(\"Subject:\", subject, \"Age:\", subject_age)\n",
    "            if subject_age==age:\n",
    "                print(f\"Processing subject {subject} with age {subject_age}\")\n",
    "                sub_path=os.path.join('/home/common/bonaiuto/devmobeta/derivatives/',subject)\n",
    "                ses_path=os.path.join(sub_path, session)\n",
    "                print(ses_path)\n",
    "                if os.path.exists(os.path.join(ses_path,'eeg','NEARICA_NF')): \n",
    "                    print(f\"Processing subject {subject} with age {subject_age}and session{session}\")\n",
    "                    eeg_path=os.path.join(ses_path,'eeg','NEARICA_NF')\n",
    "                    fname=os.path.join(eeg_path, f'03_ica_data/{subject}_task-devmobeta_grasp_eeg_ica_art_rej_interp_reref.set')\n",
    "                    if os.path.exists(fname):\n",
    "                        raw_data=mne.io.read_raw_eeglab(fname, preload=True)\n",
    "                        srate=raw_data.info['sfreq']\n",
    "\n",
    "                        c_chan_idx=[]\n",
    "                        for chan in c_chans:\n",
    "                            if chan in raw_data.info['ch_names']:\n",
    "                                c_chan_idx.append(raw_data.info['ch_names'].index(chan))\n",
    "                        c_chan_idx=np.array(c_chan_idx)\n",
    "                        \n",
    "                        if len(c_chan_idx)==len(c_chans):\n",
    "            \n",
    "                            data=raw_data.get_data()\n",
    "                            n_chans=data.shape[0]\n",
    "                            n_samps=data.shape[1]\n",
    "\n",
    "                            # Use a window size of 1s with a 50% overlap\n",
    "                            winsize=srate\n",
    "                            overlap=int(winsize/2)    \n",
    "\n",
    "                            chan_data=data[c_chan_idx,:]\n",
    "                            freqs, chan_psd=scipy.signal.welch(\n",
    "                                chan_data, \n",
    "                                fs=srate, \n",
    "                                window='hann', \n",
    "                                nperseg=winsize, \n",
    "                                noverlap=overlap, \n",
    "                                nfft=int(winsize*20),\n",
    "                                detrend='constant',\n",
    "                                return_onesided=True, \n",
    "                                scaling='density', \n",
    "                                axis=- 1, \n",
    "                                average='mean'\n",
    "                            )\n",
    "                            f_idx=(freqs<=40)\n",
    "                            freqs=freqs[f_idx]\n",
    "                            chan_psd=chan_psd[:,f_idx]\n",
    "                            sub_psds.append(chan_psd)\n",
    "                else: \n",
    "                    print (f\"Processing subject {subject} with age {subject_age} and {session} doesn't exist\")\n",
    "    sub_psds=np.array(sub_psds)\n",
    "    return freqs, sub_psds"
   ]
  },
  {
   "cell_type": "code",
   "execution_count": 89,
   "id": "94114204",
   "metadata": {
    "scrolled": true
   },
   "outputs": [
    {
     "name": "stdout",
     "output_type": "stream",
     "text": [
      "Processing row: {'subject_id': 'sub-201', 'orig_participant_id': 'LZ', 'session': 'ses-01', 'age': 'three', 'sex': 'M'}\n",
      "Subject: sub-201 Age: three\n",
      "Processing subject sub-201 with age three\n",
      "/home/common/bonaiuto/devmobeta/derivatives/sub-201/ses-01\n",
      "Processing subject sub-201 with age threeand sessionses-01\n"
     ]
    },
    {
     "name": "stderr",
     "output_type": "stream",
     "text": [
      "/tmp/ipykernel_20728/4108613221.py:27: RuntimeWarning: Limited 1 annotation(s) that were expanding outside the data range.\n",
      "  raw_data=mne.io.read_raw_eeglab(fname, preload=True)\n",
      "/tmp/ipykernel_20728/4108613221.py:27: RuntimeWarning: The data contains 'boundary' events, indicating data discontinuities. Be cautious of filtering and epoching around these events.\n",
      "  raw_data=mne.io.read_raw_eeglab(fname, preload=True)\n"
     ]
    },
    {
     "name": "stdout",
     "output_type": "stream",
     "text": [
      "Processing row: {'subject_id': 'sub-201', 'orig_participant_id': 'LZ', 'session': 'ses-04', 'age': 'six', 'sex': 'M'}\n",
      "Subject: sub-201 Age: six\n",
      "Processing row: {'subject_id': 'sub-201', 'orig_participant_id': 'LZ', 'session': 'ses-06', 'age': 'twelve', 'sex': 'M'}\n",
      "Subject: sub-201 Age: twelve\n",
      "Processing row: {'subject_id': 'sub-202', 'orig_participant_id': 'RA', 'session': 'ses-02', 'age': 'six', 'sex': 'F'}\n",
      "Subject: sub-202 Age: six\n",
      "Processing row: {'subject_id': 'sub-203', 'orig_participant_id': 'NP', 'session': 'ses-02', 'age': 'three', 'sex': 'F'}\n",
      "Subject: sub-203 Age: three\n",
      "Processing subject sub-203 with age three\n",
      "/home/common/bonaiuto/devmobeta/derivatives/sub-203/ses-02\n",
      "Processing subject sub-203 with age threeand sessionses-02\n"
     ]
    },
    {
     "name": "stderr",
     "output_type": "stream",
     "text": [
      "/tmp/ipykernel_20728/4108613221.py:27: RuntimeWarning: Limited 1 annotation(s) that were expanding outside the data range.\n",
      "  raw_data=mne.io.read_raw_eeglab(fname, preload=True)\n",
      "/tmp/ipykernel_20728/4108613221.py:27: RuntimeWarning: The data contains 'boundary' events, indicating data discontinuities. Be cautious of filtering and epoching around these events.\n",
      "  raw_data=mne.io.read_raw_eeglab(fname, preload=True)\n"
     ]
    },
    {
     "name": "stdout",
     "output_type": "stream",
     "text": [
      "Processing row: {'subject_id': 'sub-203', 'orig_participant_id': 'NP', 'session': 'ses-04', 'age': 'six', 'sex': 'F'}\n",
      "Subject: sub-203 Age: six\n",
      "Processing row: {'subject_id': 'sub-203', 'orig_participant_id': 'NP', 'session': 'ses-05', 'age': 'twelve', 'sex': 'F'}\n",
      "Subject: sub-203 Age: twelve\n",
      "Processing row: {'subject_id': 'sub-204', 'orig_participant_id': 'AJG', 'session': 'ses-01', 'age': 'six', 'sex': 'F'}\n",
      "Subject: sub-204 Age: six\n",
      "Processing row: {'subject_id': 'sub-204', 'orig_participant_id': 'AJG', 'session': 'ses-04', 'age': 'twelve', 'sex': 'F'}\n",
      "Subject: sub-204 Age: twelve\n",
      "Processing row: {'subject_id': 'sub-205', 'orig_participant_id': 'AL', 'session': 'ses-01', 'age': 'three', 'sex': 'F'}\n",
      "Subject: sub-205 Age: three\n",
      "Processing subject sub-205 with age three\n",
      "/home/common/bonaiuto/devmobeta/derivatives/sub-205/ses-01\n",
      "Processing subject sub-205 with age threeand sessionses-01\n"
     ]
    },
    {
     "name": "stderr",
     "output_type": "stream",
     "text": [
      "/tmp/ipykernel_20728/4108613221.py:27: RuntimeWarning: Limited 1 annotation(s) that were expanding outside the data range.\n",
      "  raw_data=mne.io.read_raw_eeglab(fname, preload=True)\n",
      "/tmp/ipykernel_20728/4108613221.py:27: RuntimeWarning: The data contains 'boundary' events, indicating data discontinuities. Be cautious of filtering and epoching around these events.\n",
      "  raw_data=mne.io.read_raw_eeglab(fname, preload=True)\n"
     ]
    },
    {
     "name": "stdout",
     "output_type": "stream",
     "text": [
      "Processing row: {'subject_id': 'sub-205', 'orig_participant_id': 'AL', 'session': 'ses-02', 'age': 'six', 'sex': 'F'}\n",
      "Subject: sub-205 Age: six\n",
      "Processing row: {'subject_id': 'sub-205', 'orig_participant_id': 'AL', 'session': 'ses-03', 'age': 'twelve', 'sex': 'F'}\n",
      "Subject: sub-205 Age: twelve\n",
      "Processing row: {'subject_id': 'sub-206', 'orig_participant_id': 'MF', 'session': 'ses-02', 'age': 'three', 'sex': 'M'}\n",
      "Subject: sub-206 Age: three\n",
      "Processing subject sub-206 with age three\n",
      "/home/common/bonaiuto/devmobeta/derivatives/sub-206/ses-02\n",
      "Processing subject sub-206 with age threeand sessionses-02\n"
     ]
    },
    {
     "name": "stderr",
     "output_type": "stream",
     "text": [
      "/tmp/ipykernel_20728/4108613221.py:27: RuntimeWarning: Limited 1 annotation(s) that were expanding outside the data range.\n",
      "  raw_data=mne.io.read_raw_eeglab(fname, preload=True)\n",
      "/tmp/ipykernel_20728/4108613221.py:27: RuntimeWarning: The data contains 'boundary' events, indicating data discontinuities. Be cautious of filtering and epoching around these events.\n",
      "  raw_data=mne.io.read_raw_eeglab(fname, preload=True)\n"
     ]
    },
    {
     "name": "stdout",
     "output_type": "stream",
     "text": [
      "Processing row: {'subject_id': 'sub-206', 'orig_participant_id': 'MF', 'session': 'ses-04', 'age': 'six', 'sex': 'M'}\n",
      "Subject: sub-206 Age: six\n",
      "Processing row: {'subject_id': 'sub-206', 'orig_participant_id': 'MF', 'session': 'ses-05', 'age': 'twelve', 'sex': 'M'}\n",
      "Subject: sub-206 Age: twelve\n",
      "Processing row: {'subject_id': 'sub-207', 'orig_participant_id': 'FM', 'session': 'ses-02', 'age': 'three', 'sex': 'M'}\n",
      "Subject: sub-207 Age: three\n",
      "Processing subject sub-207 with age three\n",
      "/home/common/bonaiuto/devmobeta/derivatives/sub-207/ses-02\n",
      "Processing subject sub-207 with age threeand sessionses-02\n"
     ]
    },
    {
     "name": "stderr",
     "output_type": "stream",
     "text": [
      "/tmp/ipykernel_20728/4108613221.py:27: RuntimeWarning: Limited 1 annotation(s) that were expanding outside the data range.\n",
      "  raw_data=mne.io.read_raw_eeglab(fname, preload=True)\n",
      "/tmp/ipykernel_20728/4108613221.py:27: RuntimeWarning: The data contains 'boundary' events, indicating data discontinuities. Be cautious of filtering and epoching around these events.\n",
      "  raw_data=mne.io.read_raw_eeglab(fname, preload=True)\n"
     ]
    },
    {
     "name": "stdout",
     "output_type": "stream",
     "text": [
      "Processing row: {'subject_id': 'sub-207', 'orig_participant_id': 'FM', 'session': 'ses-04', 'age': 'six', 'sex': 'M'}\n",
      "Subject: sub-207 Age: six\n",
      "Processing row: {'subject_id': 'sub-207', 'orig_participant_id': 'FM', 'session': 'ses-05', 'age': 'twelve', 'sex': 'M'}\n",
      "Subject: sub-207 Age: twelve\n",
      "Processing row: {'subject_id': 'sub-208', 'orig_participant_id': 'MPG', 'session': 'ses-02', 'age': 'three', 'sex': 'F'}\n",
      "Subject: sub-208 Age: three\n",
      "Processing subject sub-208 with age three\n",
      "/home/common/bonaiuto/devmobeta/derivatives/sub-208/ses-02\n",
      "Processing subject sub-208 with age threeand sessionses-02\n"
     ]
    },
    {
     "name": "stderr",
     "output_type": "stream",
     "text": [
      "/tmp/ipykernel_20728/4108613221.py:27: RuntimeWarning: Limited 1 annotation(s) that were expanding outside the data range.\n",
      "  raw_data=mne.io.read_raw_eeglab(fname, preload=True)\n",
      "/tmp/ipykernel_20728/4108613221.py:27: RuntimeWarning: The data contains 'boundary' events, indicating data discontinuities. Be cautious of filtering and epoching around these events.\n",
      "  raw_data=mne.io.read_raw_eeglab(fname, preload=True)\n"
     ]
    },
    {
     "name": "stdout",
     "output_type": "stream",
     "text": [
      "Processing row: {'subject_id': 'sub-208', 'orig_participant_id': 'MPG', 'session': 'ses-03', 'age': 'six', 'sex': 'F'}\n",
      "Subject: sub-208 Age: six\n",
      "Processing row: {'subject_id': 'sub-208', 'orig_participant_id': 'MPG', 'session': 'ses-05', 'age': 'twelve', 'sex': 'F'}\n",
      "Subject: sub-208 Age: twelve\n",
      "Processing row: {'subject_id': 'sub-209', 'orig_participant_id': 'TA', 'session': 'ses-01', 'age': 'three', 'sex': 'M'}\n",
      "Subject: sub-209 Age: three\n",
      "Processing subject sub-209 with age three\n",
      "/home/common/bonaiuto/devmobeta/derivatives/sub-209/ses-01\n",
      "Processing subject sub-209 with age threeand sessionses-01\n"
     ]
    },
    {
     "name": "stderr",
     "output_type": "stream",
     "text": [
      "/tmp/ipykernel_20728/4108613221.py:27: RuntimeWarning: Limited 1 annotation(s) that were expanding outside the data range.\n",
      "  raw_data=mne.io.read_raw_eeglab(fname, preload=True)\n",
      "/tmp/ipykernel_20728/4108613221.py:27: RuntimeWarning: The data contains 'boundary' events, indicating data discontinuities. Be cautious of filtering and epoching around these events.\n",
      "  raw_data=mne.io.read_raw_eeglab(fname, preload=True)\n"
     ]
    },
    {
     "name": "stdout",
     "output_type": "stream",
     "text": [
      "Processing row: {'subject_id': 'sub-209', 'orig_participant_id': 'TA', 'session': 'ses-03', 'age': 'six', 'sex': 'M'}\n",
      "Subject: sub-209 Age: six\n",
      "Processing row: {'subject_id': 'sub-209', 'orig_participant_id': 'TA', 'session': 'ses-05', 'age': 'twelve', 'sex': 'M'}\n",
      "Subject: sub-209 Age: twelve\n",
      "Processing row: {'subject_id': 'sub-210', 'orig_participant_id': 'SLO', 'session': 'ses-01', 'age': 'three', 'sex': 'M'}\n",
      "Subject: sub-210 Age: three\n",
      "Processing subject sub-210 with age three\n",
      "/home/common/bonaiuto/devmobeta/derivatives/sub-210/ses-01\n",
      "Processing subject sub-210 with age threeand sessionses-01\n"
     ]
    },
    {
     "name": "stderr",
     "output_type": "stream",
     "text": [
      "/tmp/ipykernel_20728/4108613221.py:27: RuntimeWarning: Limited 1 annotation(s) that were expanding outside the data range.\n",
      "  raw_data=mne.io.read_raw_eeglab(fname, preload=True)\n",
      "/tmp/ipykernel_20728/4108613221.py:27: RuntimeWarning: The data contains 'boundary' events, indicating data discontinuities. Be cautious of filtering and epoching around these events.\n",
      "  raw_data=mne.io.read_raw_eeglab(fname, preload=True)\n"
     ]
    },
    {
     "name": "stdout",
     "output_type": "stream",
     "text": [
      "Processing row: {'subject_id': 'sub-210', 'orig_participant_id': 'SLO', 'session': 'ses-03', 'age': 'six', 'sex': 'M'}\n",
      "Subject: sub-210 Age: six\n",
      "Processing row: {'subject_id': 'sub-210', 'orig_participant_id': 'SLO', 'session': 'ses-04', 'age': 'twelve', 'sex': 'M'}\n",
      "Subject: sub-210 Age: twelve\n",
      "Processing row: {'subject_id': 'sub-211', 'orig_participant_id': 'CMB', 'session': 'ses-01', 'age': 'three', 'sex': 'F'}\n",
      "Subject: sub-211 Age: three\n",
      "Processing subject sub-211 with age three\n",
      "/home/common/bonaiuto/devmobeta/derivatives/sub-211/ses-01\n",
      "Processing subject sub-211 with age threeand sessionses-01\n"
     ]
    },
    {
     "name": "stderr",
     "output_type": "stream",
     "text": [
      "/tmp/ipykernel_20728/4108613221.py:27: RuntimeWarning: Limited 1 annotation(s) that were expanding outside the data range.\n",
      "  raw_data=mne.io.read_raw_eeglab(fname, preload=True)\n",
      "/tmp/ipykernel_20728/4108613221.py:27: RuntimeWarning: The data contains 'boundary' events, indicating data discontinuities. Be cautious of filtering and epoching around these events.\n",
      "  raw_data=mne.io.read_raw_eeglab(fname, preload=True)\n"
     ]
    },
    {
     "name": "stdout",
     "output_type": "stream",
     "text": [
      "Processing row: {'subject_id': 'sub-211', 'orig_participant_id': 'CMB', 'session': 'ses-03', 'age': 'six', 'sex': 'F'}\n",
      "Subject: sub-211 Age: six\n",
      "Processing row: {'subject_id': 'sub-211', 'orig_participant_id': 'CMB', 'session': 'ses-05', 'age': 'twelve', 'sex': 'F'}\n",
      "Subject: sub-211 Age: twelve\n",
      "Processing row: {'subject_id': 'sub-212', 'orig_participant_id': 'IV', 'session': 'ses-02', 'age': 'three', 'sex': 'F'}\n",
      "Subject: sub-212 Age: three\n",
      "Processing subject sub-212 with age three\n",
      "/home/common/bonaiuto/devmobeta/derivatives/sub-212/ses-02\n",
      "Processing subject sub-212 with age threeand sessionses-02\n"
     ]
    },
    {
     "name": "stderr",
     "output_type": "stream",
     "text": [
      "/tmp/ipykernel_20728/4108613221.py:27: RuntimeWarning: Limited 1 annotation(s) that were expanding outside the data range.\n",
      "  raw_data=mne.io.read_raw_eeglab(fname, preload=True)\n",
      "/tmp/ipykernel_20728/4108613221.py:27: RuntimeWarning: The data contains 'boundary' events, indicating data discontinuities. Be cautious of filtering and epoching around these events.\n",
      "  raw_data=mne.io.read_raw_eeglab(fname, preload=True)\n"
     ]
    },
    {
     "name": "stdout",
     "output_type": "stream",
     "text": [
      "Processing row: {'subject_id': 'sub-212', 'orig_participant_id': 'IV', 'session': 'ses-03', 'age': 'six', 'sex': 'F'}\n",
      "Subject: sub-212 Age: six\n",
      "Processing row: {'subject_id': 'sub-213', 'orig_participant_id': 'PG', 'session': 'ses-01', 'age': 'three', 'sex': 'F'}\n",
      "Subject: sub-213 Age: three\n",
      "Processing subject sub-213 with age three\n",
      "/home/common/bonaiuto/devmobeta/derivatives/sub-213/ses-01\n",
      "Processing subject sub-213 with age threeand sessionses-01\n"
     ]
    },
    {
     "name": "stderr",
     "output_type": "stream",
     "text": [
      "/tmp/ipykernel_20728/4108613221.py:27: RuntimeWarning: Limited 1 annotation(s) that were expanding outside the data range.\n",
      "  raw_data=mne.io.read_raw_eeglab(fname, preload=True)\n",
      "/tmp/ipykernel_20728/4108613221.py:27: RuntimeWarning: The data contains 'boundary' events, indicating data discontinuities. Be cautious of filtering and epoching around these events.\n",
      "  raw_data=mne.io.read_raw_eeglab(fname, preload=True)\n"
     ]
    },
    {
     "name": "stdout",
     "output_type": "stream",
     "text": [
      "Processing row: {'subject_id': 'sub-213', 'orig_participant_id': 'PG', 'session': 'ses-04', 'age': 'six', 'sex': 'F'}\n",
      "Subject: sub-213 Age: six\n",
      "Processing row: {'subject_id': 'sub-213', 'orig_participant_id': 'PG', 'session': 'ses-05', 'age': 'twelve', 'sex': 'F'}\n",
      "Subject: sub-213 Age: twelve\n",
      "Processing row: {'subject_id': 'sub-214', 'orig_participant_id': 'AD', 'session': 'ses-01', 'age': 'three', 'sex': 'F'}\n",
      "Subject: sub-214 Age: three\n",
      "Processing subject sub-214 with age three\n",
      "/home/common/bonaiuto/devmobeta/derivatives/sub-214/ses-01\n",
      "Processing subject sub-214 with age threeand sessionses-01\n",
      "Processing row: {'subject_id': 'sub-214', 'orig_participant_id': 'AD', 'session': 'ses-03', 'age': 'six', 'sex': 'F'}\n",
      "Subject: sub-214 Age: six\n",
      "Processing row: {'subject_id': 'sub-214', 'orig_participant_id': 'AD', 'session': 'ses-04', 'age': 'twelve', 'sex': 'F'}\n",
      "Subject: sub-214 Age: twelve\n",
      "Processing row: {'subject_id': 'sub-215', 'orig_participant_id': 'BG', 'session': 'ses-01', 'age': 'three', 'sex': 'F'}\n",
      "Subject: sub-215 Age: three\n",
      "Processing subject sub-215 with age three\n",
      "/home/common/bonaiuto/devmobeta/derivatives/sub-215/ses-01\n",
      "Processing subject sub-215 with age threeand sessionses-01\n"
     ]
    },
    {
     "name": "stderr",
     "output_type": "stream",
     "text": [
      "/tmp/ipykernel_20728/4108613221.py:27: RuntimeWarning: Limited 1 annotation(s) that were expanding outside the data range.\n",
      "  raw_data=mne.io.read_raw_eeglab(fname, preload=True)\n",
      "/tmp/ipykernel_20728/4108613221.py:27: RuntimeWarning: The data contains 'boundary' events, indicating data discontinuities. Be cautious of filtering and epoching around these events.\n",
      "  raw_data=mne.io.read_raw_eeglab(fname, preload=True)\n"
     ]
    },
    {
     "name": "stdout",
     "output_type": "stream",
     "text": [
      "Processing row: {'subject_id': 'sub-215', 'orig_participant_id': 'BG', 'session': 'ses-03', 'age': 'six', 'sex': 'F'}\n",
      "Subject: sub-215 Age: six\n",
      "Processing row: {'subject_id': 'sub-215', 'orig_participant_id': 'BG', 'session': 'ses-05', 'age': 'twelve', 'sex': 'F'}\n",
      "Subject: sub-215 Age: twelve\n",
      "Processing row: {'subject_id': 'sub-216', 'orig_participant_id': 'CG', 'session': 'ses-01', 'age': 'three', 'sex': 'F'}\n",
      "Subject: sub-216 Age: three\n",
      "Processing subject sub-216 with age three\n",
      "/home/common/bonaiuto/devmobeta/derivatives/sub-216/ses-01\n",
      "Processing subject sub-216 with age threeand sessionses-01\n"
     ]
    },
    {
     "name": "stderr",
     "output_type": "stream",
     "text": [
      "/tmp/ipykernel_20728/4108613221.py:27: RuntimeWarning: Limited 1 annotation(s) that were expanding outside the data range.\n",
      "  raw_data=mne.io.read_raw_eeglab(fname, preload=True)\n",
      "/tmp/ipykernel_20728/4108613221.py:27: RuntimeWarning: The data contains 'boundary' events, indicating data discontinuities. Be cautious of filtering and epoching around these events.\n",
      "  raw_data=mne.io.read_raw_eeglab(fname, preload=True)\n"
     ]
    },
    {
     "name": "stdout",
     "output_type": "stream",
     "text": [
      "Processing row: {'subject_id': 'sub-216', 'orig_participant_id': 'CG', 'session': 'ses-03', 'age': 'six', 'sex': 'F'}\n",
      "Subject: sub-216 Age: six\n",
      "Processing row: {'subject_id': 'sub-216', 'orig_participant_id': 'CG', 'session': 'ses-05', 'age': 'twelve', 'sex': 'F'}\n",
      "Subject: sub-216 Age: twelve\n",
      "Processing row: {'subject_id': 'sub-217', 'orig_participant_id': 'MA', 'session': 'ses-01', 'age': 'three', 'sex': 'M'}\n",
      "Subject: sub-217 Age: three\n",
      "Processing subject sub-217 with age three\n",
      "/home/common/bonaiuto/devmobeta/derivatives/sub-217/ses-01\n",
      "Processing subject sub-217 with age threeand sessionses-01\n"
     ]
    },
    {
     "name": "stderr",
     "output_type": "stream",
     "text": [
      "/tmp/ipykernel_20728/4108613221.py:27: RuntimeWarning: Limited 1 annotation(s) that were expanding outside the data range.\n",
      "  raw_data=mne.io.read_raw_eeglab(fname, preload=True)\n",
      "/tmp/ipykernel_20728/4108613221.py:27: RuntimeWarning: The data contains 'boundary' events, indicating data discontinuities. Be cautious of filtering and epoching around these events.\n",
      "  raw_data=mne.io.read_raw_eeglab(fname, preload=True)\n"
     ]
    },
    {
     "name": "stdout",
     "output_type": "stream",
     "text": [
      "Processing row: {'subject_id': 'sub-217', 'orig_participant_id': 'MA', 'session': 'ses-03', 'age': 'six', 'sex': 'M'}\n",
      "Subject: sub-217 Age: six\n",
      "Processing row: {'subject_id': 'sub-217', 'orig_participant_id': 'MA', 'session': 'ses-04', 'age': 'twelve', 'sex': 'M'}\n",
      "Subject: sub-217 Age: twelve\n",
      "Processing row: {'subject_id': 'sub-218', 'orig_participant_id': 'ABL', 'session': 'ses-01', 'age': 'three', 'sex': 'F'}\n",
      "Subject: sub-218 Age: three\n",
      "Processing subject sub-218 with age three\n",
      "/home/common/bonaiuto/devmobeta/derivatives/sub-218/ses-01\n",
      "Processing subject sub-218 with age threeand sessionses-01\n"
     ]
    },
    {
     "name": "stderr",
     "output_type": "stream",
     "text": [
      "/tmp/ipykernel_20728/4108613221.py:27: RuntimeWarning: Limited 1 annotation(s) that were expanding outside the data range.\n",
      "  raw_data=mne.io.read_raw_eeglab(fname, preload=True)\n",
      "/tmp/ipykernel_20728/4108613221.py:27: RuntimeWarning: The data contains 'boundary' events, indicating data discontinuities. Be cautious of filtering and epoching around these events.\n",
      "  raw_data=mne.io.read_raw_eeglab(fname, preload=True)\n"
     ]
    },
    {
     "name": "stdout",
     "output_type": "stream",
     "text": [
      "Processing row: {'subject_id': 'sub-218', 'orig_participant_id': 'ABL', 'session': 'ses-02', 'age': 'six', 'sex': 'F'}\n",
      "Subject: sub-218 Age: six\n",
      "Processing row: {'subject_id': 'sub-218', 'orig_participant_id': 'AB', 'session': 'ses-05', 'age': 'twelve', 'sex': 'F'}\n",
      "Subject: sub-218 Age: twelve\n",
      "Processing row: {'subject_id': 'sub-219', 'orig_participant_id': 'EBL', 'session': 'ses-01', 'age': 'three', 'sex': 'F'}\n",
      "Subject: sub-219 Age: three\n",
      "Processing subject sub-219 with age three\n",
      "/home/common/bonaiuto/devmobeta/derivatives/sub-219/ses-01\n",
      "Processing subject sub-219 with age threeand sessionses-01\n"
     ]
    },
    {
     "name": "stderr",
     "output_type": "stream",
     "text": [
      "/tmp/ipykernel_20728/4108613221.py:27: RuntimeWarning: Limited 1 annotation(s) that were expanding outside the data range.\n",
      "  raw_data=mne.io.read_raw_eeglab(fname, preload=True)\n",
      "/tmp/ipykernel_20728/4108613221.py:27: RuntimeWarning: The data contains 'boundary' events, indicating data discontinuities. Be cautious of filtering and epoching around these events.\n",
      "  raw_data=mne.io.read_raw_eeglab(fname, preload=True)\n"
     ]
    },
    {
     "name": "stdout",
     "output_type": "stream",
     "text": [
      "Processing row: {'subject_id': 'sub-219', 'orig_participant_id': 'EBL', 'session': 'ses-02', 'age': 'six', 'sex': 'F'}\n",
      "Subject: sub-219 Age: six\n",
      "Processing row: {'subject_id': 'sub-220', 'orig_participant_id': 'SM', 'session': 'ses-01', 'age': 'three', 'sex': 'F'}\n",
      "Subject: sub-220 Age: three\n",
      "Processing subject sub-220 with age three\n",
      "/home/common/bonaiuto/devmobeta/derivatives/sub-220/ses-01\n",
      "Processing subject sub-220 with age threeand sessionses-01\n"
     ]
    },
    {
     "name": "stderr",
     "output_type": "stream",
     "text": [
      "/tmp/ipykernel_20728/4108613221.py:27: RuntimeWarning: Limited 1 annotation(s) that were expanding outside the data range.\n",
      "  raw_data=mne.io.read_raw_eeglab(fname, preload=True)\n",
      "/tmp/ipykernel_20728/4108613221.py:27: RuntimeWarning: The data contains 'boundary' events, indicating data discontinuities. Be cautious of filtering and epoching around these events.\n",
      "  raw_data=mne.io.read_raw_eeglab(fname, preload=True)\n"
     ]
    },
    {
     "name": "stdout",
     "output_type": "stream",
     "text": [
      "Processing row: {'subject_id': 'sub-220', 'orig_participant_id': 'SM', 'session': 'ses-03', 'age': 'six', 'sex': 'F'}\n",
      "Subject: sub-220 Age: six\n",
      "Processing row: {'subject_id': 'sub-221', 'orig_participant_id': 'MA', 'session': 'ses-02', 'age': 'three', 'sex': 'F'}\n",
      "Subject: sub-221 Age: three\n",
      "Processing subject sub-221 with age three\n",
      "/home/common/bonaiuto/devmobeta/derivatives/sub-221/ses-02\n",
      "Processing subject sub-221 with age threeand sessionses-02\n"
     ]
    },
    {
     "name": "stderr",
     "output_type": "stream",
     "text": [
      "/tmp/ipykernel_20728/4108613221.py:27: RuntimeWarning: Limited 1 annotation(s) that were expanding outside the data range.\n",
      "  raw_data=mne.io.read_raw_eeglab(fname, preload=True)\n",
      "/tmp/ipykernel_20728/4108613221.py:27: RuntimeWarning: The data contains 'boundary' events, indicating data discontinuities. Be cautious of filtering and epoching around these events.\n",
      "  raw_data=mne.io.read_raw_eeglab(fname, preload=True)\n"
     ]
    },
    {
     "name": "stdout",
     "output_type": "stream",
     "text": [
      "Processing row: {'subject_id': 'sub-221', 'orig_participant_id': 'MA', 'session': 'ses-03', 'age': 'six', 'sex': 'F'}\n",
      "Subject: sub-221 Age: six\n",
      "Processing row: {'subject_id': 'sub-221', 'orig_participant_id': 'MA', 'session': 'ses-05', 'age': 'twelve', 'sex': 'F'}\n",
      "Subject: sub-221 Age: twelve\n",
      "Processing row: {'subject_id': 'sub-222', 'orig_participant_id': 'SM', 'session': 'ses-01', 'age': 'three', 'sex': 'F'}\n",
      "Subject: sub-222 Age: three\n",
      "Processing subject sub-222 with age three\n",
      "/home/common/bonaiuto/devmobeta/derivatives/sub-222/ses-01\n",
      "Processing subject sub-222 with age threeand sessionses-01\n",
      "Processing row: {'subject_id': 'sub-222', 'orig_participant_id': 'SM', 'session': 'ses-03', 'age': 'six', 'sex': 'F'}\n",
      "Subject: sub-222 Age: six\n",
      "Processing row: {'subject_id': 'sub-222', 'orig_participant_id': 'SM', 'session': 'ses-04', 'age': 'twelve', 'sex': 'F'}\n",
      "Subject: sub-222 Age: twelve\n",
      "Processing row: {'subject_id': 'sub-223', 'orig_participant_id': 'LB', 'session': 'ses-02', 'age': 'three', 'sex': 'M'}\n",
      "Subject: sub-223 Age: three\n",
      "Processing subject sub-223 with age three\n",
      "/home/common/bonaiuto/devmobeta/derivatives/sub-223/ses-02\n",
      "Processing subject sub-223 with age threeand sessionses-02\n"
     ]
    },
    {
     "name": "stderr",
     "output_type": "stream",
     "text": [
      "/tmp/ipykernel_20728/4108613221.py:27: RuntimeWarning: Limited 1 annotation(s) that were expanding outside the data range.\n",
      "  raw_data=mne.io.read_raw_eeglab(fname, preload=True)\n",
      "/tmp/ipykernel_20728/4108613221.py:27: RuntimeWarning: The data contains 'boundary' events, indicating data discontinuities. Be cautious of filtering and epoching around these events.\n",
      "  raw_data=mne.io.read_raw_eeglab(fname, preload=True)\n"
     ]
    },
    {
     "name": "stdout",
     "output_type": "stream",
     "text": [
      "Processing row: {'subject_id': 'sub-223', 'orig_participant_id': 'LB', 'session': 'ses-04', 'age': 'six', 'sex': 'M'}\n",
      "Subject: sub-223 Age: six\n",
      "Processing row: {'subject_id': 'sub-223', 'orig_participant_id': 'LB', 'session': 'ses-05', 'age': 'twelve', 'sex': 'M'}\n",
      "Subject: sub-223 Age: twelve\n",
      "Processing row: {'subject_id': 'sub-224', 'orig_participant_id': 'OM', 'session': 'ses-02', 'age': 'three', 'sex': 'M'}\n",
      "Subject: sub-224 Age: three\n",
      "Processing subject sub-224 with age three\n",
      "/home/common/bonaiuto/devmobeta/derivatives/sub-224/ses-02\n",
      "Processing subject sub-224 with age threeand sessionses-02\n"
     ]
    },
    {
     "name": "stderr",
     "output_type": "stream",
     "text": [
      "/tmp/ipykernel_20728/4108613221.py:27: RuntimeWarning: Limited 1 annotation(s) that were expanding outside the data range.\n",
      "  raw_data=mne.io.read_raw_eeglab(fname, preload=True)\n",
      "/tmp/ipykernel_20728/4108613221.py:27: RuntimeWarning: The data contains 'boundary' events, indicating data discontinuities. Be cautious of filtering and epoching around these events.\n",
      "  raw_data=mne.io.read_raw_eeglab(fname, preload=True)\n"
     ]
    },
    {
     "name": "stdout",
     "output_type": "stream",
     "text": [
      "Processing row: {'subject_id': 'sub-224', 'orig_participant_id': 'OM', 'session': 'ses-03', 'age': 'six', 'sex': 'M'}\n",
      "Subject: sub-224 Age: six\n",
      "Processing row: {'subject_id': 'sub-224', 'orig_participant_id': 'OM', 'session': 'ses-04', 'age': 'twelve', 'sex': 'M'}\n",
      "Subject: sub-224 Age: twelve\n",
      "Processing row: {'subject_id': 'sub-225', 'orig_participant_id': 'MD', 'session': 'ses-02', 'age': 'three', 'sex': 'M'}\n",
      "Subject: sub-225 Age: three\n",
      "Processing subject sub-225 with age three\n",
      "/home/common/bonaiuto/devmobeta/derivatives/sub-225/ses-02\n",
      "Processing subject sub-225 with age threeand sessionses-02\n"
     ]
    },
    {
     "name": "stderr",
     "output_type": "stream",
     "text": [
      "/tmp/ipykernel_20728/4108613221.py:27: RuntimeWarning: Limited 1 annotation(s) that were expanding outside the data range.\n",
      "  raw_data=mne.io.read_raw_eeglab(fname, preload=True)\n",
      "/tmp/ipykernel_20728/4108613221.py:27: RuntimeWarning: The data contains 'boundary' events, indicating data discontinuities. Be cautious of filtering and epoching around these events.\n",
      "  raw_data=mne.io.read_raw_eeglab(fname, preload=True)\n"
     ]
    },
    {
     "name": "stdout",
     "output_type": "stream",
     "text": [
      "Processing row: {'subject_id': 'sub-225', 'orig_participant_id': 'MD', 'session': 'ses-03', 'age': 'six', 'sex': 'M'}\n",
      "Subject: sub-225 Age: six\n",
      "Processing row: {'subject_id': 'sub-226', 'orig_participant_id': 'DLC', 'session': 'ses-02', 'age': 'three', 'sex': 'M'}\n",
      "Subject: sub-226 Age: three\n",
      "Processing subject sub-226 with age three\n",
      "/home/common/bonaiuto/devmobeta/derivatives/sub-226/ses-02\n",
      "Processing subject sub-226 with age threeand sessionses-02\n"
     ]
    },
    {
     "name": "stderr",
     "output_type": "stream",
     "text": [
      "/tmp/ipykernel_20728/4108613221.py:27: RuntimeWarning: Limited 1 annotation(s) that were expanding outside the data range.\n",
      "  raw_data=mne.io.read_raw_eeglab(fname, preload=True)\n",
      "/tmp/ipykernel_20728/4108613221.py:27: RuntimeWarning: The data contains 'boundary' events, indicating data discontinuities. Be cautious of filtering and epoching around these events.\n",
      "  raw_data=mne.io.read_raw_eeglab(fname, preload=True)\n"
     ]
    },
    {
     "name": "stdout",
     "output_type": "stream",
     "text": [
      "Processing row: {'subject_id': 'sub-226', 'orig_participant_id': 'DLC', 'session': 'ses-04', 'age': 'six', 'sex': 'M'}\n",
      "Subject: sub-226 Age: six\n",
      "Processing row: {'subject_id': 'sub-227', 'orig_participant_id': 'HC', 'session': 'ses-01', 'age': 'three', 'sex': 'M'}\n",
      "Subject: sub-227 Age: three\n",
      "Processing subject sub-227 with age three\n",
      "/home/common/bonaiuto/devmobeta/derivatives/sub-227/ses-01\n",
      "Processing subject sub-227 with age threeand sessionses-01\n",
      "Processing row: {'subject_id': 'sub-227', 'orig_participant_id': 'HC', 'session': 'ses-02', 'age': 'six', 'sex': 'M'}\n",
      "Subject: sub-227 Age: six\n",
      "Processing row: {'subject_id': 'sub-228', 'orig_participant_id': 'AFW', 'session': 'ses-02', 'age': 'three', 'sex': 'F'}\n",
      "Subject: sub-228 Age: three\n",
      "Processing subject sub-228 with age three\n",
      "/home/common/bonaiuto/devmobeta/derivatives/sub-228/ses-02\n",
      "Processing subject sub-228 with age threeand sessionses-02\n",
      "Processing row: {'subject_id': 'sub-229', 'orig_participant_id': 'AE', 'session': 'ses-02', 'age': 'three', 'sex': 'F'}\n",
      "Subject: sub-229 Age: three\n",
      "Processing subject sub-229 with age three\n",
      "/home/common/bonaiuto/devmobeta/derivatives/sub-229/ses-02\n",
      "Processing subject sub-229 with age threeand sessionses-02\n"
     ]
    },
    {
     "name": "stderr",
     "output_type": "stream",
     "text": [
      "/tmp/ipykernel_20728/4108613221.py:27: RuntimeWarning: Limited 1 annotation(s) that were expanding outside the data range.\n",
      "  raw_data=mne.io.read_raw_eeglab(fname, preload=True)\n",
      "/tmp/ipykernel_20728/4108613221.py:27: RuntimeWarning: The data contains 'boundary' events, indicating data discontinuities. Be cautious of filtering and epoching around these events.\n",
      "  raw_data=mne.io.read_raw_eeglab(fname, preload=True)\n"
     ]
    },
    {
     "name": "stdout",
     "output_type": "stream",
     "text": [
      "Processing row: {'subject_id': 'sub-229', 'orig_participant_id': 'AE', 'session': 'ses-03', 'age': 'six', 'sex': 'F'}\n",
      "Subject: sub-229 Age: six\n",
      "Processing row: {'subject_id': 'sub-230', 'orig_participant_id': 'IM', 'session': 'ses-01', 'age': 'three', 'sex': 'M'}\n",
      "Subject: sub-230 Age: three\n",
      "Processing subject sub-230 with age three\n",
      "/home/common/bonaiuto/devmobeta/derivatives/sub-230/ses-01\n",
      "Processing subject sub-230 with age threeand sessionses-01\n"
     ]
    },
    {
     "name": "stderr",
     "output_type": "stream",
     "text": [
      "/tmp/ipykernel_20728/4108613221.py:27: RuntimeWarning: Limited 1 annotation(s) that were expanding outside the data range.\n",
      "  raw_data=mne.io.read_raw_eeglab(fname, preload=True)\n",
      "/tmp/ipykernel_20728/4108613221.py:27: RuntimeWarning: The data contains 'boundary' events, indicating data discontinuities. Be cautious of filtering and epoching around these events.\n",
      "  raw_data=mne.io.read_raw_eeglab(fname, preload=True)\n"
     ]
    },
    {
     "name": "stdout",
     "output_type": "stream",
     "text": [
      "Processing row: {'subject_id': 'sub-230', 'orig_participant_id': 'IM', 'session': 'ses-03', 'age': 'six', 'sex': 'M'}\n",
      "Subject: sub-230 Age: six\n",
      "Processing row: {'subject_id': 'sub-231', 'orig_participant_id': 'JC', 'session': 'ses-01', 'age': 'three', 'sex': 'M'}\n",
      "Subject: sub-231 Age: three\n",
      "Processing subject sub-231 with age three\n",
      "/home/common/bonaiuto/devmobeta/derivatives/sub-231/ses-01\n",
      "Processing subject sub-231 with age threeand sessionses-01\n"
     ]
    },
    {
     "name": "stderr",
     "output_type": "stream",
     "text": [
      "/tmp/ipykernel_20728/4108613221.py:27: RuntimeWarning: Limited 1 annotation(s) that were expanding outside the data range.\n",
      "  raw_data=mne.io.read_raw_eeglab(fname, preload=True)\n",
      "/tmp/ipykernel_20728/4108613221.py:27: RuntimeWarning: The data contains 'boundary' events, indicating data discontinuities. Be cautious of filtering and epoching around these events.\n",
      "  raw_data=mne.io.read_raw_eeglab(fname, preload=True)\n"
     ]
    },
    {
     "name": "stdout",
     "output_type": "stream",
     "text": [
      "Processing row: {'subject_id': 'sub-231', 'orig_participant_id': 'JC', 'session': 'ses-02', 'age': 'six', 'sex': 'M'}\n",
      "Subject: sub-231 Age: six\n",
      "Processing row: {'subject_id': 'sub-232', 'orig_participant_id': 'TG', 'session': 'ses-01', 'age': 'three', 'sex': 'M'}\n",
      "Subject: sub-232 Age: three\n",
      "Processing subject sub-232 with age three\n",
      "/home/common/bonaiuto/devmobeta/derivatives/sub-232/ses-01\n",
      "Processing subject sub-232 with age threeand sessionses-01\n"
     ]
    },
    {
     "name": "stderr",
     "output_type": "stream",
     "text": [
      "/tmp/ipykernel_20728/4108613221.py:27: RuntimeWarning: Limited 1 annotation(s) that were expanding outside the data range.\n",
      "  raw_data=mne.io.read_raw_eeglab(fname, preload=True)\n",
      "/tmp/ipykernel_20728/4108613221.py:27: RuntimeWarning: The data contains 'boundary' events, indicating data discontinuities. Be cautious of filtering and epoching around these events.\n",
      "  raw_data=mne.io.read_raw_eeglab(fname, preload=True)\n"
     ]
    },
    {
     "name": "stdout",
     "output_type": "stream",
     "text": [
      "Processing row: {'subject_id': 'sub-232', 'orig_participant_id': 'TG', 'session': 'ses-04', 'age': 'six', 'sex': 'M'}\n",
      "Subject: sub-232 Age: six\n",
      "Processing row: {'subject_id': 'sub-233', 'orig_participant_id': 'TB', 'session': 'ses-01', 'age': 'three', 'sex': 'M'}\n",
      "Subject: sub-233 Age: three\n",
      "Processing subject sub-233 with age three\n",
      "/home/common/bonaiuto/devmobeta/derivatives/sub-233/ses-01\n",
      "Processing subject sub-233 with age threeand sessionses-01\n"
     ]
    },
    {
     "name": "stderr",
     "output_type": "stream",
     "text": [
      "/tmp/ipykernel_20728/4108613221.py:27: RuntimeWarning: Limited 1 annotation(s) that were expanding outside the data range.\n",
      "  raw_data=mne.io.read_raw_eeglab(fname, preload=True)\n",
      "/tmp/ipykernel_20728/4108613221.py:27: RuntimeWarning: The data contains 'boundary' events, indicating data discontinuities. Be cautious of filtering and epoching around these events.\n",
      "  raw_data=mne.io.read_raw_eeglab(fname, preload=True)\n"
     ]
    },
    {
     "name": "stdout",
     "output_type": "stream",
     "text": [
      "Processing row: {'subject_id': 'sub-233', 'orig_participant_id': 'TB', 'session': 'ses-04', 'age': 'six', 'sex': 'M'}\n",
      "Subject: sub-233 Age: six\n",
      "Processing row: {'subject_id': 'sub-234', 'orig_participant_id': 'MR', 'session': 'ses-02', 'age': 'three', 'sex': 'F'}\n",
      "Subject: sub-234 Age: three\n",
      "Processing subject sub-234 with age three\n",
      "/home/common/bonaiuto/devmobeta/derivatives/sub-234/ses-02\n",
      "Processing subject sub-234 with age threeand sessionses-02\n"
     ]
    },
    {
     "name": "stderr",
     "output_type": "stream",
     "text": [
      "/tmp/ipykernel_20728/4108613221.py:27: RuntimeWarning: Limited 1 annotation(s) that were expanding outside the data range.\n",
      "  raw_data=mne.io.read_raw_eeglab(fname, preload=True)\n",
      "/tmp/ipykernel_20728/4108613221.py:27: RuntimeWarning: The data contains 'boundary' events, indicating data discontinuities. Be cautious of filtering and epoching around these events.\n",
      "  raw_data=mne.io.read_raw_eeglab(fname, preload=True)\n"
     ]
    },
    {
     "name": "stdout",
     "output_type": "stream",
     "text": [
      "Processing row: {'subject_id': 'sub-234', 'orig_participant_id': 'MR', 'session': 'ses-04', 'age': 'six', 'sex': 'F'}\n",
      "Subject: sub-234 Age: six\n",
      "Processing row: {'subject_id': 'sub-235', 'orig_participant_id': 'LC', 'session': 'ses-01', 'age': 'three', 'sex': 'F'}\n",
      "Subject: sub-235 Age: three\n",
      "Processing subject sub-235 with age three\n",
      "/home/common/bonaiuto/devmobeta/derivatives/sub-235/ses-01\n",
      "Processing subject sub-235 with age threeand sessionses-01\n"
     ]
    },
    {
     "name": "stderr",
     "output_type": "stream",
     "text": [
      "/tmp/ipykernel_20728/4108613221.py:27: RuntimeWarning: Limited 1 annotation(s) that were expanding outside the data range.\n",
      "  raw_data=mne.io.read_raw_eeglab(fname, preload=True)\n",
      "/tmp/ipykernel_20728/4108613221.py:27: RuntimeWarning: The data contains 'boundary' events, indicating data discontinuities. Be cautious of filtering and epoching around these events.\n",
      "  raw_data=mne.io.read_raw_eeglab(fname, preload=True)\n"
     ]
    },
    {
     "name": "stdout",
     "output_type": "stream",
     "text": [
      "Processing row: {'subject_id': 'sub-235', 'orig_participant_id': 'LC', 'session': 'ses-02', 'age': 'six', 'sex': 'F'}\n",
      "Subject: sub-235 Age: six\n",
      "Processing row: {'subject_id': 'sub-236', 'orig_participant_id': 'ES', 'session': 'ses-01', 'age': 'three', 'sex': 'F'}\n",
      "Subject: sub-236 Age: three\n",
      "Processing subject sub-236 with age three\n",
      "/home/common/bonaiuto/devmobeta/derivatives/sub-236/ses-01\n",
      "Processing subject sub-236 with age threeand sessionses-01\n"
     ]
    },
    {
     "name": "stderr",
     "output_type": "stream",
     "text": [
      "/tmp/ipykernel_20728/4108613221.py:27: RuntimeWarning: Limited 1 annotation(s) that were expanding outside the data range.\n",
      "  raw_data=mne.io.read_raw_eeglab(fname, preload=True)\n",
      "/tmp/ipykernel_20728/4108613221.py:27: RuntimeWarning: The data contains 'boundary' events, indicating data discontinuities. Be cautious of filtering and epoching around these events.\n",
      "  raw_data=mne.io.read_raw_eeglab(fname, preload=True)\n"
     ]
    },
    {
     "name": "stdout",
     "output_type": "stream",
     "text": [
      "Processing row: {'subject_id': 'sub-236', 'orig_participant_id': 'ES', 'session': 'ses-02', 'age': 'six', 'sex': 'F'}\n",
      "Subject: sub-236 Age: six\n",
      "Processing row: {'subject_id': 'sub-237', 'orig_participant_id': 'LMP', 'session': 'ses-01', 'age': 'three', 'sex': 'M'}\n",
      "Subject: sub-237 Age: three\n",
      "Processing subject sub-237 with age three\n",
      "/home/common/bonaiuto/devmobeta/derivatives/sub-237/ses-01\n",
      "Processing subject sub-237 with age threeand sessionses-01\n"
     ]
    },
    {
     "name": "stderr",
     "output_type": "stream",
     "text": [
      "/tmp/ipykernel_20728/4108613221.py:27: RuntimeWarning: Limited 1 annotation(s) that were expanding outside the data range.\n",
      "  raw_data=mne.io.read_raw_eeglab(fname, preload=True)\n",
      "/tmp/ipykernel_20728/4108613221.py:27: RuntimeWarning: The data contains 'boundary' events, indicating data discontinuities. Be cautious of filtering and epoching around these events.\n",
      "  raw_data=mne.io.read_raw_eeglab(fname, preload=True)\n"
     ]
    },
    {
     "name": "stdout",
     "output_type": "stream",
     "text": [
      "Processing row: {'subject_id': 'sub-238', 'orig_participant_id': 'LM', 'session': 'ses-02', 'age': 'three', 'sex': 'F'}\n",
      "Subject: sub-238 Age: three\n",
      "Processing subject sub-238 with age three\n",
      "/home/common/bonaiuto/devmobeta/derivatives/sub-238/ses-02\n",
      "Processing subject sub-238 with age threeand sessionses-02\n"
     ]
    },
    {
     "name": "stderr",
     "output_type": "stream",
     "text": [
      "/tmp/ipykernel_20728/4108613221.py:27: RuntimeWarning: Limited 1 annotation(s) that were expanding outside the data range.\n",
      "  raw_data=mne.io.read_raw_eeglab(fname, preload=True)\n",
      "/tmp/ipykernel_20728/4108613221.py:27: RuntimeWarning: The data contains 'boundary' events, indicating data discontinuities. Be cautious of filtering and epoching around these events.\n",
      "  raw_data=mne.io.read_raw_eeglab(fname, preload=True)\n"
     ]
    },
    {
     "name": "stdout",
     "output_type": "stream",
     "text": [
      "Processing row: {'subject_id': 'sub-238', 'orig_participant_id': 'LM', 'session': 'ses-03', 'age': 'six', 'sex': 'F'}\n",
      "Subject: sub-238 Age: six\n",
      "Processing row: {'subject_id': 'sub-239', 'orig_participant_id': 'ABV', 'session': 'ses-02', 'age': 'six', 'sex': 'F'}\n",
      "Subject: sub-239 Age: six\n",
      "Processing row: {'subject_id': 'sub-240', 'orig_participant_id': 'ABV', 'session': 'ses-02', 'age': 'six', 'sex': 'M'}\n",
      "Subject: sub-240 Age: six\n",
      "Processing row: {'subject_id': 'sub-241', 'orig_participant_id': 'IB', 'session': 'ses-01', 'age': 'three', 'sex': 'M'}\n",
      "Subject: sub-241 Age: three\n",
      "Processing subject sub-241 with age three\n",
      "/home/common/bonaiuto/devmobeta/derivatives/sub-241/ses-01\n",
      "Processing subject sub-241 with age threeand sessionses-01\n"
     ]
    },
    {
     "name": "stderr",
     "output_type": "stream",
     "text": [
      "/tmp/ipykernel_20728/4108613221.py:27: RuntimeWarning: Limited 1 annotation(s) that were expanding outside the data range.\n",
      "  raw_data=mne.io.read_raw_eeglab(fname, preload=True)\n",
      "/tmp/ipykernel_20728/4108613221.py:27: RuntimeWarning: The data contains 'boundary' events, indicating data discontinuities. Be cautious of filtering and epoching around these events.\n",
      "  raw_data=mne.io.read_raw_eeglab(fname, preload=True)\n"
     ]
    },
    {
     "name": "stdout",
     "output_type": "stream",
     "text": [
      "Processing row: {'subject_id': 'sub-241', 'orig_participant_id': 'IB', 'session': 'ses-04', 'age': 'six', 'sex': 'M'}\n",
      "Subject: sub-241 Age: six\n",
      "Processing row: {'subject_id': 'sub-242', 'orig_participant_id': 'LM', 'session': 'ses-01', 'age': 'three', 'sex': 'F'}\n",
      "Subject: sub-242 Age: three\n",
      "Processing subject sub-242 with age three\n",
      "/home/common/bonaiuto/devmobeta/derivatives/sub-242/ses-01\n",
      "Processing subject sub-242 with age three and ses-01 doesn't exist\n",
      "Processing row: {'subject_id': 'sub-243', 'orig_participant_id': 'CD', 'session': 'ses-01', 'age': 'three', 'sex': 'F'}\n",
      "Subject: sub-243 Age: three\n",
      "Processing subject sub-243 with age three\n",
      "/home/common/bonaiuto/devmobeta/derivatives/sub-243/ses-01\n",
      "Processing subject sub-243 with age three and ses-01 doesn't exist\n",
      "Processing row: {'subject_id': 'sub-244', 'orig_participant_id': 'GB', 'session': 'ses-01', 'age': 'three', 'sex': 'M'}\n",
      "Subject: sub-244 Age: three\n",
      "Processing subject sub-244 with age three\n",
      "/home/common/bonaiuto/devmobeta/derivatives/sub-244/ses-01\n",
      "Processing subject sub-244 with age three and ses-01 doesn't exist\n",
      "Processing row: {'subject_id': 'sub-245', 'orig_participant_id': 'MP', 'session': 'ses-01', 'age': 'three', 'sex': 'M'}\n",
      "Subject: sub-245 Age: three\n",
      "Processing subject sub-245 with age three\n",
      "/home/common/bonaiuto/devmobeta/derivatives/sub-245/ses-01\n",
      "Processing subject sub-245 with age three and ses-01 doesn't exist\n",
      "Processing row: {'subject_id': 'sub-246', 'orig_participant_id': 'LMD', 'session': 'ses-01', 'age': 'three', 'sex': 'M'}\n",
      "Subject: sub-246 Age: three\n",
      "Processing subject sub-246 with age three\n",
      "/home/common/bonaiuto/devmobeta/derivatives/sub-246/ses-01\n",
      "Processing subject sub-246 with age three and ses-01 doesn't exist\n",
      "Processing row: {'subject_id': 'sub-201', 'orig_participant_id': 'LZ', 'session': 'ses-01', 'age': 'three', 'sex': 'M'}\n",
      "Subject: sub-201 Age: three\n",
      "Processing row: {'subject_id': 'sub-201', 'orig_participant_id': 'LZ', 'session': 'ses-04', 'age': 'six', 'sex': 'M'}\n",
      "Subject: sub-201 Age: six\n",
      "Processing subject sub-201 with age six\n",
      "/home/common/bonaiuto/devmobeta/derivatives/sub-201/ses-04\n",
      "Processing subject sub-201 with age sixand sessionses-04\n"
     ]
    },
    {
     "name": "stderr",
     "output_type": "stream",
     "text": [
      "/tmp/ipykernel_20728/4108613221.py:27: RuntimeWarning: Limited 1 annotation(s) that were expanding outside the data range.\n",
      "  raw_data=mne.io.read_raw_eeglab(fname, preload=True)\n",
      "/tmp/ipykernel_20728/4108613221.py:27: RuntimeWarning: The data contains 'boundary' events, indicating data discontinuities. Be cautious of filtering and epoching around these events.\n",
      "  raw_data=mne.io.read_raw_eeglab(fname, preload=True)\n"
     ]
    },
    {
     "name": "stdout",
     "output_type": "stream",
     "text": [
      "Processing row: {'subject_id': 'sub-201', 'orig_participant_id': 'LZ', 'session': 'ses-06', 'age': 'twelve', 'sex': 'M'}\n",
      "Subject: sub-201 Age: twelve\n",
      "Processing row: {'subject_id': 'sub-202', 'orig_participant_id': 'RA', 'session': 'ses-02', 'age': 'six', 'sex': 'F'}\n",
      "Subject: sub-202 Age: six\n",
      "Processing subject sub-202 with age six\n",
      "/home/common/bonaiuto/devmobeta/derivatives/sub-202/ses-02\n",
      "Processing subject sub-202 with age sixand sessionses-02\n",
      "Processing row: {'subject_id': 'sub-203', 'orig_participant_id': 'NP', 'session': 'ses-02', 'age': 'three', 'sex': 'F'}\n",
      "Subject: sub-203 Age: three\n",
      "Processing row: {'subject_id': 'sub-203', 'orig_participant_id': 'NP', 'session': 'ses-04', 'age': 'six', 'sex': 'F'}\n",
      "Subject: sub-203 Age: six\n",
      "Processing subject sub-203 with age six\n",
      "/home/common/bonaiuto/devmobeta/derivatives/sub-203/ses-04\n",
      "Processing subject sub-203 with age sixand sessionses-04\n"
     ]
    },
    {
     "name": "stderr",
     "output_type": "stream",
     "text": [
      "/tmp/ipykernel_20728/4108613221.py:27: RuntimeWarning: Limited 1 annotation(s) that were expanding outside the data range.\n",
      "  raw_data=mne.io.read_raw_eeglab(fname, preload=True)\n",
      "/tmp/ipykernel_20728/4108613221.py:27: RuntimeWarning: The data contains 'boundary' events, indicating data discontinuities. Be cautious of filtering and epoching around these events.\n",
      "  raw_data=mne.io.read_raw_eeglab(fname, preload=True)\n"
     ]
    },
    {
     "name": "stdout",
     "output_type": "stream",
     "text": [
      "Processing row: {'subject_id': 'sub-203', 'orig_participant_id': 'NP', 'session': 'ses-05', 'age': 'twelve', 'sex': 'F'}\n",
      "Subject: sub-203 Age: twelve\n",
      "Processing row: {'subject_id': 'sub-204', 'orig_participant_id': 'AJG', 'session': 'ses-01', 'age': 'six', 'sex': 'F'}\n",
      "Subject: sub-204 Age: six\n",
      "Processing subject sub-204 with age six\n",
      "/home/common/bonaiuto/devmobeta/derivatives/sub-204/ses-01\n",
      "Processing subject sub-204 with age sixand sessionses-01\n"
     ]
    },
    {
     "name": "stderr",
     "output_type": "stream",
     "text": [
      "/tmp/ipykernel_20728/4108613221.py:27: RuntimeWarning: Limited 1 annotation(s) that were expanding outside the data range.\n",
      "  raw_data=mne.io.read_raw_eeglab(fname, preload=True)\n",
      "/tmp/ipykernel_20728/4108613221.py:27: RuntimeWarning: The data contains 'boundary' events, indicating data discontinuities. Be cautious of filtering and epoching around these events.\n",
      "  raw_data=mne.io.read_raw_eeglab(fname, preload=True)\n"
     ]
    },
    {
     "name": "stdout",
     "output_type": "stream",
     "text": [
      "Processing row: {'subject_id': 'sub-204', 'orig_participant_id': 'AJG', 'session': 'ses-04', 'age': 'twelve', 'sex': 'F'}\n",
      "Subject: sub-204 Age: twelve\n",
      "Processing row: {'subject_id': 'sub-205', 'orig_participant_id': 'AL', 'session': 'ses-01', 'age': 'three', 'sex': 'F'}\n",
      "Subject: sub-205 Age: three\n",
      "Processing row: {'subject_id': 'sub-205', 'orig_participant_id': 'AL', 'session': 'ses-02', 'age': 'six', 'sex': 'F'}\n",
      "Subject: sub-205 Age: six\n",
      "Processing subject sub-205 with age six\n",
      "/home/common/bonaiuto/devmobeta/derivatives/sub-205/ses-02\n",
      "Processing subject sub-205 with age sixand sessionses-02\n"
     ]
    },
    {
     "name": "stderr",
     "output_type": "stream",
     "text": [
      "/tmp/ipykernel_20728/4108613221.py:27: RuntimeWarning: Limited 1 annotation(s) that were expanding outside the data range.\n",
      "  raw_data=mne.io.read_raw_eeglab(fname, preload=True)\n",
      "/tmp/ipykernel_20728/4108613221.py:27: RuntimeWarning: The data contains 'boundary' events, indicating data discontinuities. Be cautious of filtering and epoching around these events.\n",
      "  raw_data=mne.io.read_raw_eeglab(fname, preload=True)\n"
     ]
    },
    {
     "name": "stdout",
     "output_type": "stream",
     "text": [
      "Processing row: {'subject_id': 'sub-205', 'orig_participant_id': 'AL', 'session': 'ses-03', 'age': 'twelve', 'sex': 'F'}\n",
      "Subject: sub-205 Age: twelve\n",
      "Processing row: {'subject_id': 'sub-206', 'orig_participant_id': 'MF', 'session': 'ses-02', 'age': 'three', 'sex': 'M'}\n",
      "Subject: sub-206 Age: three\n",
      "Processing row: {'subject_id': 'sub-206', 'orig_participant_id': 'MF', 'session': 'ses-04', 'age': 'six', 'sex': 'M'}\n",
      "Subject: sub-206 Age: six\n",
      "Processing subject sub-206 with age six\n",
      "/home/common/bonaiuto/devmobeta/derivatives/sub-206/ses-04\n",
      "Processing subject sub-206 with age sixand sessionses-04\n"
     ]
    },
    {
     "name": "stderr",
     "output_type": "stream",
     "text": [
      "/tmp/ipykernel_20728/4108613221.py:27: RuntimeWarning: Limited 1 annotation(s) that were expanding outside the data range.\n",
      "  raw_data=mne.io.read_raw_eeglab(fname, preload=True)\n",
      "/tmp/ipykernel_20728/4108613221.py:27: RuntimeWarning: The data contains 'boundary' events, indicating data discontinuities. Be cautious of filtering and epoching around these events.\n",
      "  raw_data=mne.io.read_raw_eeglab(fname, preload=True)\n"
     ]
    },
    {
     "name": "stdout",
     "output_type": "stream",
     "text": [
      "Processing row: {'subject_id': 'sub-206', 'orig_participant_id': 'MF', 'session': 'ses-05', 'age': 'twelve', 'sex': 'M'}\n",
      "Subject: sub-206 Age: twelve\n",
      "Processing row: {'subject_id': 'sub-207', 'orig_participant_id': 'FM', 'session': 'ses-02', 'age': 'three', 'sex': 'M'}\n",
      "Subject: sub-207 Age: three\n",
      "Processing row: {'subject_id': 'sub-207', 'orig_participant_id': 'FM', 'session': 'ses-04', 'age': 'six', 'sex': 'M'}\n",
      "Subject: sub-207 Age: six\n",
      "Processing subject sub-207 with age six\n",
      "/home/common/bonaiuto/devmobeta/derivatives/sub-207/ses-04\n",
      "Processing subject sub-207 with age sixand sessionses-04\n"
     ]
    },
    {
     "name": "stderr",
     "output_type": "stream",
     "text": [
      "/tmp/ipykernel_20728/4108613221.py:27: RuntimeWarning: Limited 1 annotation(s) that were expanding outside the data range.\n",
      "  raw_data=mne.io.read_raw_eeglab(fname, preload=True)\n",
      "/tmp/ipykernel_20728/4108613221.py:27: RuntimeWarning: The data contains 'boundary' events, indicating data discontinuities. Be cautious of filtering and epoching around these events.\n",
      "  raw_data=mne.io.read_raw_eeglab(fname, preload=True)\n"
     ]
    },
    {
     "name": "stdout",
     "output_type": "stream",
     "text": [
      "Processing row: {'subject_id': 'sub-207', 'orig_participant_id': 'FM', 'session': 'ses-05', 'age': 'twelve', 'sex': 'M'}\n",
      "Subject: sub-207 Age: twelve\n",
      "Processing row: {'subject_id': 'sub-208', 'orig_participant_id': 'MPG', 'session': 'ses-02', 'age': 'three', 'sex': 'F'}\n",
      "Subject: sub-208 Age: three\n",
      "Processing row: {'subject_id': 'sub-208', 'orig_participant_id': 'MPG', 'session': 'ses-03', 'age': 'six', 'sex': 'F'}\n",
      "Subject: sub-208 Age: six\n",
      "Processing subject sub-208 with age six\n",
      "/home/common/bonaiuto/devmobeta/derivatives/sub-208/ses-03\n",
      "Processing subject sub-208 with age sixand sessionses-03\n"
     ]
    },
    {
     "name": "stderr",
     "output_type": "stream",
     "text": [
      "/tmp/ipykernel_20728/4108613221.py:27: RuntimeWarning: Limited 1 annotation(s) that were expanding outside the data range.\n",
      "  raw_data=mne.io.read_raw_eeglab(fname, preload=True)\n",
      "/tmp/ipykernel_20728/4108613221.py:27: RuntimeWarning: The data contains 'boundary' events, indicating data discontinuities. Be cautious of filtering and epoching around these events.\n",
      "  raw_data=mne.io.read_raw_eeglab(fname, preload=True)\n"
     ]
    },
    {
     "name": "stdout",
     "output_type": "stream",
     "text": [
      "Processing row: {'subject_id': 'sub-208', 'orig_participant_id': 'MPG', 'session': 'ses-05', 'age': 'twelve', 'sex': 'F'}\n",
      "Subject: sub-208 Age: twelve\n",
      "Processing row: {'subject_id': 'sub-209', 'orig_participant_id': 'TA', 'session': 'ses-01', 'age': 'three', 'sex': 'M'}\n",
      "Subject: sub-209 Age: three\n",
      "Processing row: {'subject_id': 'sub-209', 'orig_participant_id': 'TA', 'session': 'ses-03', 'age': 'six', 'sex': 'M'}\n",
      "Subject: sub-209 Age: six\n",
      "Processing subject sub-209 with age six\n",
      "/home/common/bonaiuto/devmobeta/derivatives/sub-209/ses-03\n",
      "Processing subject sub-209 with age sixand sessionses-03\n"
     ]
    },
    {
     "name": "stderr",
     "output_type": "stream",
     "text": [
      "/tmp/ipykernel_20728/4108613221.py:27: RuntimeWarning: Limited 1 annotation(s) that were expanding outside the data range.\n",
      "  raw_data=mne.io.read_raw_eeglab(fname, preload=True)\n",
      "/tmp/ipykernel_20728/4108613221.py:27: RuntimeWarning: The data contains 'boundary' events, indicating data discontinuities. Be cautious of filtering and epoching around these events.\n",
      "  raw_data=mne.io.read_raw_eeglab(fname, preload=True)\n"
     ]
    },
    {
     "name": "stdout",
     "output_type": "stream",
     "text": [
      "Processing row: {'subject_id': 'sub-209', 'orig_participant_id': 'TA', 'session': 'ses-05', 'age': 'twelve', 'sex': 'M'}\n",
      "Subject: sub-209 Age: twelve\n",
      "Processing row: {'subject_id': 'sub-210', 'orig_participant_id': 'SLO', 'session': 'ses-01', 'age': 'three', 'sex': 'M'}\n",
      "Subject: sub-210 Age: three\n",
      "Processing row: {'subject_id': 'sub-210', 'orig_participant_id': 'SLO', 'session': 'ses-03', 'age': 'six', 'sex': 'M'}\n",
      "Subject: sub-210 Age: six\n",
      "Processing subject sub-210 with age six\n",
      "/home/common/bonaiuto/devmobeta/derivatives/sub-210/ses-03\n",
      "Processing subject sub-210 with age sixand sessionses-03\n"
     ]
    },
    {
     "name": "stderr",
     "output_type": "stream",
     "text": [
      "/tmp/ipykernel_20728/4108613221.py:27: RuntimeWarning: Limited 1 annotation(s) that were expanding outside the data range.\n",
      "  raw_data=mne.io.read_raw_eeglab(fname, preload=True)\n",
      "/tmp/ipykernel_20728/4108613221.py:27: RuntimeWarning: The data contains 'boundary' events, indicating data discontinuities. Be cautious of filtering and epoching around these events.\n",
      "  raw_data=mne.io.read_raw_eeglab(fname, preload=True)\n"
     ]
    },
    {
     "name": "stdout",
     "output_type": "stream",
     "text": [
      "Processing row: {'subject_id': 'sub-210', 'orig_participant_id': 'SLO', 'session': 'ses-04', 'age': 'twelve', 'sex': 'M'}\n",
      "Subject: sub-210 Age: twelve\n",
      "Processing row: {'subject_id': 'sub-211', 'orig_participant_id': 'CMB', 'session': 'ses-01', 'age': 'three', 'sex': 'F'}\n",
      "Subject: sub-211 Age: three\n",
      "Processing row: {'subject_id': 'sub-211', 'orig_participant_id': 'CMB', 'session': 'ses-03', 'age': 'six', 'sex': 'F'}\n",
      "Subject: sub-211 Age: six\n",
      "Processing subject sub-211 with age six\n",
      "/home/common/bonaiuto/devmobeta/derivatives/sub-211/ses-03\n",
      "Processing subject sub-211 with age sixand sessionses-03\n"
     ]
    },
    {
     "name": "stderr",
     "output_type": "stream",
     "text": [
      "/tmp/ipykernel_20728/4108613221.py:27: RuntimeWarning: Limited 1 annotation(s) that were expanding outside the data range.\n",
      "  raw_data=mne.io.read_raw_eeglab(fname, preload=True)\n",
      "/tmp/ipykernel_20728/4108613221.py:27: RuntimeWarning: The data contains 'boundary' events, indicating data discontinuities. Be cautious of filtering and epoching around these events.\n",
      "  raw_data=mne.io.read_raw_eeglab(fname, preload=True)\n"
     ]
    },
    {
     "name": "stdout",
     "output_type": "stream",
     "text": [
      "Processing row: {'subject_id': 'sub-211', 'orig_participant_id': 'CMB', 'session': 'ses-05', 'age': 'twelve', 'sex': 'F'}\n",
      "Subject: sub-211 Age: twelve\n",
      "Processing row: {'subject_id': 'sub-212', 'orig_participant_id': 'IV', 'session': 'ses-02', 'age': 'three', 'sex': 'F'}\n",
      "Subject: sub-212 Age: three\n",
      "Processing row: {'subject_id': 'sub-212', 'orig_participant_id': 'IV', 'session': 'ses-03', 'age': 'six', 'sex': 'F'}\n",
      "Subject: sub-212 Age: six\n",
      "Processing subject sub-212 with age six\n",
      "/home/common/bonaiuto/devmobeta/derivatives/sub-212/ses-03\n",
      "Processing subject sub-212 with age sixand sessionses-03\n"
     ]
    },
    {
     "name": "stderr",
     "output_type": "stream",
     "text": [
      "/tmp/ipykernel_20728/4108613221.py:27: RuntimeWarning: Limited 1 annotation(s) that were expanding outside the data range.\n",
      "  raw_data=mne.io.read_raw_eeglab(fname, preload=True)\n",
      "/tmp/ipykernel_20728/4108613221.py:27: RuntimeWarning: The data contains 'boundary' events, indicating data discontinuities. Be cautious of filtering and epoching around these events.\n",
      "  raw_data=mne.io.read_raw_eeglab(fname, preload=True)\n"
     ]
    },
    {
     "name": "stdout",
     "output_type": "stream",
     "text": [
      "Processing row: {'subject_id': 'sub-213', 'orig_participant_id': 'PG', 'session': 'ses-01', 'age': 'three', 'sex': 'F'}\n",
      "Subject: sub-213 Age: three\n",
      "Processing row: {'subject_id': 'sub-213', 'orig_participant_id': 'PG', 'session': 'ses-04', 'age': 'six', 'sex': 'F'}\n",
      "Subject: sub-213 Age: six\n",
      "Processing subject sub-213 with age six\n",
      "/home/common/bonaiuto/devmobeta/derivatives/sub-213/ses-04\n",
      "Processing subject sub-213 with age sixand sessionses-04\n"
     ]
    },
    {
     "name": "stderr",
     "output_type": "stream",
     "text": [
      "/tmp/ipykernel_20728/4108613221.py:27: RuntimeWarning: Limited 1 annotation(s) that were expanding outside the data range.\n",
      "  raw_data=mne.io.read_raw_eeglab(fname, preload=True)\n",
      "/tmp/ipykernel_20728/4108613221.py:27: RuntimeWarning: The data contains 'boundary' events, indicating data discontinuities. Be cautious of filtering and epoching around these events.\n",
      "  raw_data=mne.io.read_raw_eeglab(fname, preload=True)\n"
     ]
    },
    {
     "name": "stdout",
     "output_type": "stream",
     "text": [
      "Processing row: {'subject_id': 'sub-213', 'orig_participant_id': 'PG', 'session': 'ses-05', 'age': 'twelve', 'sex': 'F'}\n",
      "Subject: sub-213 Age: twelve\n",
      "Processing row: {'subject_id': 'sub-214', 'orig_participant_id': 'AD', 'session': 'ses-01', 'age': 'three', 'sex': 'F'}\n",
      "Subject: sub-214 Age: three\n",
      "Processing row: {'subject_id': 'sub-214', 'orig_participant_id': 'AD', 'session': 'ses-03', 'age': 'six', 'sex': 'F'}\n",
      "Subject: sub-214 Age: six\n",
      "Processing subject sub-214 with age six\n",
      "/home/common/bonaiuto/devmobeta/derivatives/sub-214/ses-03\n",
      "Processing subject sub-214 with age sixand sessionses-03\n"
     ]
    },
    {
     "name": "stderr",
     "output_type": "stream",
     "text": [
      "/tmp/ipykernel_20728/4108613221.py:27: RuntimeWarning: Limited 1 annotation(s) that were expanding outside the data range.\n",
      "  raw_data=mne.io.read_raw_eeglab(fname, preload=True)\n",
      "/tmp/ipykernel_20728/4108613221.py:27: RuntimeWarning: The data contains 'boundary' events, indicating data discontinuities. Be cautious of filtering and epoching around these events.\n",
      "  raw_data=mne.io.read_raw_eeglab(fname, preload=True)\n"
     ]
    },
    {
     "name": "stdout",
     "output_type": "stream",
     "text": [
      "Processing row: {'subject_id': 'sub-214', 'orig_participant_id': 'AD', 'session': 'ses-04', 'age': 'twelve', 'sex': 'F'}\n",
      "Subject: sub-214 Age: twelve\n",
      "Processing row: {'subject_id': 'sub-215', 'orig_participant_id': 'BG', 'session': 'ses-01', 'age': 'three', 'sex': 'F'}\n",
      "Subject: sub-215 Age: three\n",
      "Processing row: {'subject_id': 'sub-215', 'orig_participant_id': 'BG', 'session': 'ses-03', 'age': 'six', 'sex': 'F'}\n",
      "Subject: sub-215 Age: six\n",
      "Processing subject sub-215 with age six\n",
      "/home/common/bonaiuto/devmobeta/derivatives/sub-215/ses-03\n",
      "Processing subject sub-215 with age sixand sessionses-03\n"
     ]
    },
    {
     "name": "stderr",
     "output_type": "stream",
     "text": [
      "/tmp/ipykernel_20728/4108613221.py:27: RuntimeWarning: Limited 1 annotation(s) that were expanding outside the data range.\n",
      "  raw_data=mne.io.read_raw_eeglab(fname, preload=True)\n",
      "/tmp/ipykernel_20728/4108613221.py:27: RuntimeWarning: The data contains 'boundary' events, indicating data discontinuities. Be cautious of filtering and epoching around these events.\n",
      "  raw_data=mne.io.read_raw_eeglab(fname, preload=True)\n"
     ]
    },
    {
     "name": "stdout",
     "output_type": "stream",
     "text": [
      "Processing row: {'subject_id': 'sub-215', 'orig_participant_id': 'BG', 'session': 'ses-05', 'age': 'twelve', 'sex': 'F'}\n",
      "Subject: sub-215 Age: twelve\n",
      "Processing row: {'subject_id': 'sub-216', 'orig_participant_id': 'CG', 'session': 'ses-01', 'age': 'three', 'sex': 'F'}\n",
      "Subject: sub-216 Age: three\n",
      "Processing row: {'subject_id': 'sub-216', 'orig_participant_id': 'CG', 'session': 'ses-03', 'age': 'six', 'sex': 'F'}\n",
      "Subject: sub-216 Age: six\n",
      "Processing subject sub-216 with age six\n",
      "/home/common/bonaiuto/devmobeta/derivatives/sub-216/ses-03\n",
      "Processing subject sub-216 with age sixand sessionses-03\n"
     ]
    },
    {
     "name": "stderr",
     "output_type": "stream",
     "text": [
      "/tmp/ipykernel_20728/4108613221.py:27: RuntimeWarning: Limited 1 annotation(s) that were expanding outside the data range.\n",
      "  raw_data=mne.io.read_raw_eeglab(fname, preload=True)\n",
      "/tmp/ipykernel_20728/4108613221.py:27: RuntimeWarning: The data contains 'boundary' events, indicating data discontinuities. Be cautious of filtering and epoching around these events.\n",
      "  raw_data=mne.io.read_raw_eeglab(fname, preload=True)\n"
     ]
    },
    {
     "name": "stdout",
     "output_type": "stream",
     "text": [
      "Processing row: {'subject_id': 'sub-216', 'orig_participant_id': 'CG', 'session': 'ses-05', 'age': 'twelve', 'sex': 'F'}\n",
      "Subject: sub-216 Age: twelve\n",
      "Processing row: {'subject_id': 'sub-217', 'orig_participant_id': 'MA', 'session': 'ses-01', 'age': 'three', 'sex': 'M'}\n",
      "Subject: sub-217 Age: three\n",
      "Processing row: {'subject_id': 'sub-217', 'orig_participant_id': 'MA', 'session': 'ses-03', 'age': 'six', 'sex': 'M'}\n",
      "Subject: sub-217 Age: six\n",
      "Processing subject sub-217 with age six\n",
      "/home/common/bonaiuto/devmobeta/derivatives/sub-217/ses-03\n",
      "Processing subject sub-217 with age sixand sessionses-03\n"
     ]
    },
    {
     "name": "stderr",
     "output_type": "stream",
     "text": [
      "/tmp/ipykernel_20728/4108613221.py:27: RuntimeWarning: Limited 1 annotation(s) that were expanding outside the data range.\n",
      "  raw_data=mne.io.read_raw_eeglab(fname, preload=True)\n",
      "/tmp/ipykernel_20728/4108613221.py:27: RuntimeWarning: The data contains 'boundary' events, indicating data discontinuities. Be cautious of filtering and epoching around these events.\n",
      "  raw_data=mne.io.read_raw_eeglab(fname, preload=True)\n"
     ]
    },
    {
     "name": "stdout",
     "output_type": "stream",
     "text": [
      "Processing row: {'subject_id': 'sub-217', 'orig_participant_id': 'MA', 'session': 'ses-04', 'age': 'twelve', 'sex': 'M'}\n",
      "Subject: sub-217 Age: twelve\n",
      "Processing row: {'subject_id': 'sub-218', 'orig_participant_id': 'ABL', 'session': 'ses-01', 'age': 'three', 'sex': 'F'}\n",
      "Subject: sub-218 Age: three\n",
      "Processing row: {'subject_id': 'sub-218', 'orig_participant_id': 'ABL', 'session': 'ses-02', 'age': 'six', 'sex': 'F'}\n",
      "Subject: sub-218 Age: six\n",
      "Processing subject sub-218 with age six\n",
      "/home/common/bonaiuto/devmobeta/derivatives/sub-218/ses-02\n",
      "Processing subject sub-218 with age sixand sessionses-02\n"
     ]
    },
    {
     "name": "stderr",
     "output_type": "stream",
     "text": [
      "/tmp/ipykernel_20728/4108613221.py:27: RuntimeWarning: Limited 1 annotation(s) that were expanding outside the data range.\n",
      "  raw_data=mne.io.read_raw_eeglab(fname, preload=True)\n",
      "/tmp/ipykernel_20728/4108613221.py:27: RuntimeWarning: The data contains 'boundary' events, indicating data discontinuities. Be cautious of filtering and epoching around these events.\n",
      "  raw_data=mne.io.read_raw_eeglab(fname, preload=True)\n"
     ]
    },
    {
     "name": "stdout",
     "output_type": "stream",
     "text": [
      "Processing row: {'subject_id': 'sub-218', 'orig_participant_id': 'AB', 'session': 'ses-05', 'age': 'twelve', 'sex': 'F'}\n",
      "Subject: sub-218 Age: twelve\n",
      "Processing row: {'subject_id': 'sub-219', 'orig_participant_id': 'EBL', 'session': 'ses-01', 'age': 'three', 'sex': 'F'}\n",
      "Subject: sub-219 Age: three\n",
      "Processing row: {'subject_id': 'sub-219', 'orig_participant_id': 'EBL', 'session': 'ses-02', 'age': 'six', 'sex': 'F'}\n",
      "Subject: sub-219 Age: six\n",
      "Processing subject sub-219 with age six\n",
      "/home/common/bonaiuto/devmobeta/derivatives/sub-219/ses-02\n",
      "Processing subject sub-219 with age sixand sessionses-02\n"
     ]
    },
    {
     "name": "stderr",
     "output_type": "stream",
     "text": [
      "/tmp/ipykernel_20728/4108613221.py:27: RuntimeWarning: Limited 1 annotation(s) that were expanding outside the data range.\n",
      "  raw_data=mne.io.read_raw_eeglab(fname, preload=True)\n",
      "/tmp/ipykernel_20728/4108613221.py:27: RuntimeWarning: The data contains 'boundary' events, indicating data discontinuities. Be cautious of filtering and epoching around these events.\n",
      "  raw_data=mne.io.read_raw_eeglab(fname, preload=True)\n"
     ]
    },
    {
     "name": "stdout",
     "output_type": "stream",
     "text": [
      "Processing row: {'subject_id': 'sub-220', 'orig_participant_id': 'SM', 'session': 'ses-01', 'age': 'three', 'sex': 'F'}\n",
      "Subject: sub-220 Age: three\n",
      "Processing row: {'subject_id': 'sub-220', 'orig_participant_id': 'SM', 'session': 'ses-03', 'age': 'six', 'sex': 'F'}\n",
      "Subject: sub-220 Age: six\n",
      "Processing subject sub-220 with age six\n",
      "/home/common/bonaiuto/devmobeta/derivatives/sub-220/ses-03\n",
      "Processing subject sub-220 with age sixand sessionses-03\n"
     ]
    },
    {
     "name": "stderr",
     "output_type": "stream",
     "text": [
      "/tmp/ipykernel_20728/4108613221.py:27: RuntimeWarning: Limited 1 annotation(s) that were expanding outside the data range.\n",
      "  raw_data=mne.io.read_raw_eeglab(fname, preload=True)\n",
      "/tmp/ipykernel_20728/4108613221.py:27: RuntimeWarning: The data contains 'boundary' events, indicating data discontinuities. Be cautious of filtering and epoching around these events.\n",
      "  raw_data=mne.io.read_raw_eeglab(fname, preload=True)\n"
     ]
    },
    {
     "name": "stdout",
     "output_type": "stream",
     "text": [
      "Processing row: {'subject_id': 'sub-221', 'orig_participant_id': 'MA', 'session': 'ses-02', 'age': 'three', 'sex': 'F'}\n",
      "Subject: sub-221 Age: three\n",
      "Processing row: {'subject_id': 'sub-221', 'orig_participant_id': 'MA', 'session': 'ses-03', 'age': 'six', 'sex': 'F'}\n",
      "Subject: sub-221 Age: six\n",
      "Processing subject sub-221 with age six\n",
      "/home/common/bonaiuto/devmobeta/derivatives/sub-221/ses-03\n",
      "Processing subject sub-221 with age sixand sessionses-03\n"
     ]
    },
    {
     "name": "stderr",
     "output_type": "stream",
     "text": [
      "/tmp/ipykernel_20728/4108613221.py:27: RuntimeWarning: Limited 1 annotation(s) that were expanding outside the data range.\n",
      "  raw_data=mne.io.read_raw_eeglab(fname, preload=True)\n",
      "/tmp/ipykernel_20728/4108613221.py:27: RuntimeWarning: The data contains 'boundary' events, indicating data discontinuities. Be cautious of filtering and epoching around these events.\n",
      "  raw_data=mne.io.read_raw_eeglab(fname, preload=True)\n"
     ]
    },
    {
     "name": "stdout",
     "output_type": "stream",
     "text": [
      "Processing row: {'subject_id': 'sub-221', 'orig_participant_id': 'MA', 'session': 'ses-05', 'age': 'twelve', 'sex': 'F'}\n",
      "Subject: sub-221 Age: twelve\n",
      "Processing row: {'subject_id': 'sub-222', 'orig_participant_id': 'SM', 'session': 'ses-01', 'age': 'three', 'sex': 'F'}\n",
      "Subject: sub-222 Age: three\n",
      "Processing row: {'subject_id': 'sub-222', 'orig_participant_id': 'SM', 'session': 'ses-03', 'age': 'six', 'sex': 'F'}\n",
      "Subject: sub-222 Age: six\n",
      "Processing subject sub-222 with age six\n",
      "/home/common/bonaiuto/devmobeta/derivatives/sub-222/ses-03\n",
      "Processing subject sub-222 with age sixand sessionses-03\n"
     ]
    },
    {
     "name": "stderr",
     "output_type": "stream",
     "text": [
      "/tmp/ipykernel_20728/4108613221.py:27: RuntimeWarning: Limited 1 annotation(s) that were expanding outside the data range.\n",
      "  raw_data=mne.io.read_raw_eeglab(fname, preload=True)\n",
      "/tmp/ipykernel_20728/4108613221.py:27: RuntimeWarning: The data contains 'boundary' events, indicating data discontinuities. Be cautious of filtering and epoching around these events.\n",
      "  raw_data=mne.io.read_raw_eeglab(fname, preload=True)\n"
     ]
    },
    {
     "name": "stdout",
     "output_type": "stream",
     "text": [
      "Processing row: {'subject_id': 'sub-222', 'orig_participant_id': 'SM', 'session': 'ses-04', 'age': 'twelve', 'sex': 'F'}\n",
      "Subject: sub-222 Age: twelve\n",
      "Processing row: {'subject_id': 'sub-223', 'orig_participant_id': 'LB', 'session': 'ses-02', 'age': 'three', 'sex': 'M'}\n",
      "Subject: sub-223 Age: three\n",
      "Processing row: {'subject_id': 'sub-223', 'orig_participant_id': 'LB', 'session': 'ses-04', 'age': 'six', 'sex': 'M'}\n",
      "Subject: sub-223 Age: six\n",
      "Processing subject sub-223 with age six\n",
      "/home/common/bonaiuto/devmobeta/derivatives/sub-223/ses-04\n",
      "Processing subject sub-223 with age sixand sessionses-04\n"
     ]
    },
    {
     "name": "stderr",
     "output_type": "stream",
     "text": [
      "/tmp/ipykernel_20728/4108613221.py:27: RuntimeWarning: Limited 1 annotation(s) that were expanding outside the data range.\n",
      "  raw_data=mne.io.read_raw_eeglab(fname, preload=True)\n",
      "/tmp/ipykernel_20728/4108613221.py:27: RuntimeWarning: The data contains 'boundary' events, indicating data discontinuities. Be cautious of filtering and epoching around these events.\n",
      "  raw_data=mne.io.read_raw_eeglab(fname, preload=True)\n"
     ]
    },
    {
     "name": "stdout",
     "output_type": "stream",
     "text": [
      "Processing row: {'subject_id': 'sub-223', 'orig_participant_id': 'LB', 'session': 'ses-05', 'age': 'twelve', 'sex': 'M'}\n",
      "Subject: sub-223 Age: twelve\n",
      "Processing row: {'subject_id': 'sub-224', 'orig_participant_id': 'OM', 'session': 'ses-02', 'age': 'three', 'sex': 'M'}\n",
      "Subject: sub-224 Age: three\n",
      "Processing row: {'subject_id': 'sub-224', 'orig_participant_id': 'OM', 'session': 'ses-03', 'age': 'six', 'sex': 'M'}\n",
      "Subject: sub-224 Age: six\n",
      "Processing subject sub-224 with age six\n",
      "/home/common/bonaiuto/devmobeta/derivatives/sub-224/ses-03\n",
      "Processing subject sub-224 with age sixand sessionses-03\n"
     ]
    },
    {
     "name": "stderr",
     "output_type": "stream",
     "text": [
      "/tmp/ipykernel_20728/4108613221.py:27: RuntimeWarning: Limited 1 annotation(s) that were expanding outside the data range.\n",
      "  raw_data=mne.io.read_raw_eeglab(fname, preload=True)\n",
      "/tmp/ipykernel_20728/4108613221.py:27: RuntimeWarning: The data contains 'boundary' events, indicating data discontinuities. Be cautious of filtering and epoching around these events.\n",
      "  raw_data=mne.io.read_raw_eeglab(fname, preload=True)\n"
     ]
    },
    {
     "name": "stdout",
     "output_type": "stream",
     "text": [
      "Processing row: {'subject_id': 'sub-224', 'orig_participant_id': 'OM', 'session': 'ses-04', 'age': 'twelve', 'sex': 'M'}\n",
      "Subject: sub-224 Age: twelve\n",
      "Processing row: {'subject_id': 'sub-225', 'orig_participant_id': 'MD', 'session': 'ses-02', 'age': 'three', 'sex': 'M'}\n",
      "Subject: sub-225 Age: three\n",
      "Processing row: {'subject_id': 'sub-225', 'orig_participant_id': 'MD', 'session': 'ses-03', 'age': 'six', 'sex': 'M'}\n",
      "Subject: sub-225 Age: six\n",
      "Processing subject sub-225 with age six\n",
      "/home/common/bonaiuto/devmobeta/derivatives/sub-225/ses-03\n",
      "Processing subject sub-225 with age sixand sessionses-03\n"
     ]
    },
    {
     "name": "stderr",
     "output_type": "stream",
     "text": [
      "/tmp/ipykernel_20728/4108613221.py:27: RuntimeWarning: Limited 1 annotation(s) that were expanding outside the data range.\n",
      "  raw_data=mne.io.read_raw_eeglab(fname, preload=True)\n",
      "/tmp/ipykernel_20728/4108613221.py:27: RuntimeWarning: The data contains 'boundary' events, indicating data discontinuities. Be cautious of filtering and epoching around these events.\n",
      "  raw_data=mne.io.read_raw_eeglab(fname, preload=True)\n"
     ]
    },
    {
     "name": "stdout",
     "output_type": "stream",
     "text": [
      "Processing row: {'subject_id': 'sub-226', 'orig_participant_id': 'DLC', 'session': 'ses-02', 'age': 'three', 'sex': 'M'}\n",
      "Subject: sub-226 Age: three\n",
      "Processing row: {'subject_id': 'sub-226', 'orig_participant_id': 'DLC', 'session': 'ses-04', 'age': 'six', 'sex': 'M'}\n",
      "Subject: sub-226 Age: six\n",
      "Processing subject sub-226 with age six\n",
      "/home/common/bonaiuto/devmobeta/derivatives/sub-226/ses-04\n",
      "Processing subject sub-226 with age sixand sessionses-04\n"
     ]
    },
    {
     "name": "stderr",
     "output_type": "stream",
     "text": [
      "/tmp/ipykernel_20728/4108613221.py:27: RuntimeWarning: Limited 1 annotation(s) that were expanding outside the data range.\n",
      "  raw_data=mne.io.read_raw_eeglab(fname, preload=True)\n",
      "/tmp/ipykernel_20728/4108613221.py:27: RuntimeWarning: The data contains 'boundary' events, indicating data discontinuities. Be cautious of filtering and epoching around these events.\n",
      "  raw_data=mne.io.read_raw_eeglab(fname, preload=True)\n"
     ]
    },
    {
     "name": "stdout",
     "output_type": "stream",
     "text": [
      "Processing row: {'subject_id': 'sub-227', 'orig_participant_id': 'HC', 'session': 'ses-01', 'age': 'three', 'sex': 'M'}\n",
      "Subject: sub-227 Age: three\n",
      "Processing row: {'subject_id': 'sub-227', 'orig_participant_id': 'HC', 'session': 'ses-02', 'age': 'six', 'sex': 'M'}\n",
      "Subject: sub-227 Age: six\n",
      "Processing subject sub-227 with age six\n",
      "/home/common/bonaiuto/devmobeta/derivatives/sub-227/ses-02\n",
      "Processing subject sub-227 with age sixand sessionses-02\n"
     ]
    },
    {
     "name": "stderr",
     "output_type": "stream",
     "text": [
      "/tmp/ipykernel_20728/4108613221.py:27: RuntimeWarning: Limited 1 annotation(s) that were expanding outside the data range.\n",
      "  raw_data=mne.io.read_raw_eeglab(fname, preload=True)\n",
      "/tmp/ipykernel_20728/4108613221.py:27: RuntimeWarning: The data contains 'boundary' events, indicating data discontinuities. Be cautious of filtering and epoching around these events.\n",
      "  raw_data=mne.io.read_raw_eeglab(fname, preload=True)\n"
     ]
    },
    {
     "name": "stdout",
     "output_type": "stream",
     "text": [
      "Processing row: {'subject_id': 'sub-228', 'orig_participant_id': 'AFW', 'session': 'ses-02', 'age': 'three', 'sex': 'F'}\n",
      "Subject: sub-228 Age: three\n",
      "Processing row: {'subject_id': 'sub-229', 'orig_participant_id': 'AE', 'session': 'ses-02', 'age': 'three', 'sex': 'F'}\n",
      "Subject: sub-229 Age: three\n",
      "Processing row: {'subject_id': 'sub-229', 'orig_participant_id': 'AE', 'session': 'ses-03', 'age': 'six', 'sex': 'F'}\n",
      "Subject: sub-229 Age: six\n",
      "Processing subject sub-229 with age six\n",
      "/home/common/bonaiuto/devmobeta/derivatives/sub-229/ses-03\n",
      "Processing subject sub-229 with age six and ses-03 doesn't exist\n",
      "Processing row: {'subject_id': 'sub-230', 'orig_participant_id': 'IM', 'session': 'ses-01', 'age': 'three', 'sex': 'M'}\n",
      "Subject: sub-230 Age: three\n",
      "Processing row: {'subject_id': 'sub-230', 'orig_participant_id': 'IM', 'session': 'ses-03', 'age': 'six', 'sex': 'M'}\n",
      "Subject: sub-230 Age: six\n",
      "Processing subject sub-230 with age six\n",
      "/home/common/bonaiuto/devmobeta/derivatives/sub-230/ses-03\n",
      "Processing subject sub-230 with age sixand sessionses-03\n"
     ]
    },
    {
     "name": "stderr",
     "output_type": "stream",
     "text": [
      "/tmp/ipykernel_20728/4108613221.py:27: RuntimeWarning: Limited 1 annotation(s) that were expanding outside the data range.\n",
      "  raw_data=mne.io.read_raw_eeglab(fname, preload=True)\n",
      "/tmp/ipykernel_20728/4108613221.py:27: RuntimeWarning: The data contains 'boundary' events, indicating data discontinuities. Be cautious of filtering and epoching around these events.\n",
      "  raw_data=mne.io.read_raw_eeglab(fname, preload=True)\n"
     ]
    },
    {
     "name": "stdout",
     "output_type": "stream",
     "text": [
      "Processing row: {'subject_id': 'sub-231', 'orig_participant_id': 'JC', 'session': 'ses-01', 'age': 'three', 'sex': 'M'}\n",
      "Subject: sub-231 Age: three\n",
      "Processing row: {'subject_id': 'sub-231', 'orig_participant_id': 'JC', 'session': 'ses-02', 'age': 'six', 'sex': 'M'}\n",
      "Subject: sub-231 Age: six\n",
      "Processing subject sub-231 with age six\n",
      "/home/common/bonaiuto/devmobeta/derivatives/sub-231/ses-02\n",
      "Processing subject sub-231 with age six and ses-02 doesn't exist\n",
      "Processing row: {'subject_id': 'sub-232', 'orig_participant_id': 'TG', 'session': 'ses-01', 'age': 'three', 'sex': 'M'}\n",
      "Subject: sub-232 Age: three\n",
      "Processing row: {'subject_id': 'sub-232', 'orig_participant_id': 'TG', 'session': 'ses-04', 'age': 'six', 'sex': 'M'}\n",
      "Subject: sub-232 Age: six\n",
      "Processing subject sub-232 with age six\n",
      "/home/common/bonaiuto/devmobeta/derivatives/sub-232/ses-04\n",
      "Processing subject sub-232 with age sixand sessionses-04\n"
     ]
    },
    {
     "name": "stderr",
     "output_type": "stream",
     "text": [
      "/tmp/ipykernel_20728/4108613221.py:27: RuntimeWarning: Limited 1 annotation(s) that were expanding outside the data range.\n",
      "  raw_data=mne.io.read_raw_eeglab(fname, preload=True)\n",
      "/tmp/ipykernel_20728/4108613221.py:27: RuntimeWarning: The data contains 'boundary' events, indicating data discontinuities. Be cautious of filtering and epoching around these events.\n",
      "  raw_data=mne.io.read_raw_eeglab(fname, preload=True)\n"
     ]
    },
    {
     "name": "stdout",
     "output_type": "stream",
     "text": [
      "Processing row: {'subject_id': 'sub-233', 'orig_participant_id': 'TB', 'session': 'ses-01', 'age': 'three', 'sex': 'M'}\n",
      "Subject: sub-233 Age: three\n",
      "Processing row: {'subject_id': 'sub-233', 'orig_participant_id': 'TB', 'session': 'ses-04', 'age': 'six', 'sex': 'M'}\n",
      "Subject: sub-233 Age: six\n",
      "Processing subject sub-233 with age six\n",
      "/home/common/bonaiuto/devmobeta/derivatives/sub-233/ses-04\n",
      "Processing subject sub-233 with age sixand sessionses-04\n"
     ]
    },
    {
     "name": "stderr",
     "output_type": "stream",
     "text": [
      "/tmp/ipykernel_20728/4108613221.py:27: RuntimeWarning: Limited 1 annotation(s) that were expanding outside the data range.\n",
      "  raw_data=mne.io.read_raw_eeglab(fname, preload=True)\n",
      "/tmp/ipykernel_20728/4108613221.py:27: RuntimeWarning: The data contains 'boundary' events, indicating data discontinuities. Be cautious of filtering and epoching around these events.\n",
      "  raw_data=mne.io.read_raw_eeglab(fname, preload=True)\n"
     ]
    },
    {
     "name": "stdout",
     "output_type": "stream",
     "text": [
      "Processing row: {'subject_id': 'sub-234', 'orig_participant_id': 'MR', 'session': 'ses-02', 'age': 'three', 'sex': 'F'}\n",
      "Subject: sub-234 Age: three\n",
      "Processing row: {'subject_id': 'sub-234', 'orig_participant_id': 'MR', 'session': 'ses-04', 'age': 'six', 'sex': 'F'}\n",
      "Subject: sub-234 Age: six\n",
      "Processing subject sub-234 with age six\n",
      "/home/common/bonaiuto/devmobeta/derivatives/sub-234/ses-04\n",
      "Processing subject sub-234 with age six and ses-04 doesn't exist\n",
      "Processing row: {'subject_id': 'sub-235', 'orig_participant_id': 'LC', 'session': 'ses-01', 'age': 'three', 'sex': 'F'}\n",
      "Subject: sub-235 Age: three\n",
      "Processing row: {'subject_id': 'sub-235', 'orig_participant_id': 'LC', 'session': 'ses-02', 'age': 'six', 'sex': 'F'}\n",
      "Subject: sub-235 Age: six\n",
      "Processing subject sub-235 with age six\n",
      "/home/common/bonaiuto/devmobeta/derivatives/sub-235/ses-02\n",
      "Processing subject sub-235 with age six and ses-02 doesn't exist\n",
      "Processing row: {'subject_id': 'sub-236', 'orig_participant_id': 'ES', 'session': 'ses-01', 'age': 'three', 'sex': 'F'}\n",
      "Subject: sub-236 Age: three\n",
      "Processing row: {'subject_id': 'sub-236', 'orig_participant_id': 'ES', 'session': 'ses-02', 'age': 'six', 'sex': 'F'}\n",
      "Subject: sub-236 Age: six\n",
      "Processing subject sub-236 with age six\n",
      "/home/common/bonaiuto/devmobeta/derivatives/sub-236/ses-02\n",
      "Processing subject sub-236 with age six and ses-02 doesn't exist\n",
      "Processing row: {'subject_id': 'sub-237', 'orig_participant_id': 'LMP', 'session': 'ses-01', 'age': 'three', 'sex': 'M'}\n",
      "Subject: sub-237 Age: three\n",
      "Processing row: {'subject_id': 'sub-238', 'orig_participant_id': 'LM', 'session': 'ses-02', 'age': 'three', 'sex': 'F'}\n",
      "Subject: sub-238 Age: three\n",
      "Processing row: {'subject_id': 'sub-238', 'orig_participant_id': 'LM', 'session': 'ses-03', 'age': 'six', 'sex': 'F'}\n",
      "Subject: sub-238 Age: six\n",
      "Processing subject sub-238 with age six\n",
      "/home/common/bonaiuto/devmobeta/derivatives/sub-238/ses-03\n",
      "Processing subject sub-238 with age six and ses-03 doesn't exist\n",
      "Processing row: {'subject_id': 'sub-239', 'orig_participant_id': 'ABV', 'session': 'ses-02', 'age': 'six', 'sex': 'F'}\n",
      "Subject: sub-239 Age: six\n",
      "Processing subject sub-239 with age six\n",
      "/home/common/bonaiuto/devmobeta/derivatives/sub-239/ses-02\n",
      "Processing subject sub-239 with age sixand sessionses-02\n"
     ]
    },
    {
     "name": "stderr",
     "output_type": "stream",
     "text": [
      "/tmp/ipykernel_20728/4108613221.py:27: RuntimeWarning: Limited 1 annotation(s) that were expanding outside the data range.\n",
      "  raw_data=mne.io.read_raw_eeglab(fname, preload=True)\n",
      "/tmp/ipykernel_20728/4108613221.py:27: RuntimeWarning: The data contains 'boundary' events, indicating data discontinuities. Be cautious of filtering and epoching around these events.\n",
      "  raw_data=mne.io.read_raw_eeglab(fname, preload=True)\n"
     ]
    },
    {
     "name": "stdout",
     "output_type": "stream",
     "text": [
      "Processing row: {'subject_id': 'sub-240', 'orig_participant_id': 'ABV', 'session': 'ses-02', 'age': 'six', 'sex': 'M'}\n",
      "Subject: sub-240 Age: six\n",
      "Processing subject sub-240 with age six\n",
      "/home/common/bonaiuto/devmobeta/derivatives/sub-240/ses-02\n",
      "Processing subject sub-240 with age sixand sessionses-02\n"
     ]
    },
    {
     "name": "stderr",
     "output_type": "stream",
     "text": [
      "/tmp/ipykernel_20728/4108613221.py:27: RuntimeWarning: Limited 1 annotation(s) that were expanding outside the data range.\n",
      "  raw_data=mne.io.read_raw_eeglab(fname, preload=True)\n",
      "/tmp/ipykernel_20728/4108613221.py:27: RuntimeWarning: The data contains 'boundary' events, indicating data discontinuities. Be cautious of filtering and epoching around these events.\n",
      "  raw_data=mne.io.read_raw_eeglab(fname, preload=True)\n"
     ]
    },
    {
     "name": "stdout",
     "output_type": "stream",
     "text": [
      "Processing row: {'subject_id': 'sub-241', 'orig_participant_id': 'IB', 'session': 'ses-01', 'age': 'three', 'sex': 'M'}\n",
      "Subject: sub-241 Age: three\n",
      "Processing row: {'subject_id': 'sub-241', 'orig_participant_id': 'IB', 'session': 'ses-04', 'age': 'six', 'sex': 'M'}\n",
      "Subject: sub-241 Age: six\n",
      "Processing subject sub-241 with age six\n",
      "/home/common/bonaiuto/devmobeta/derivatives/sub-241/ses-04\n",
      "Processing subject sub-241 with age six and ses-04 doesn't exist\n",
      "Processing row: {'subject_id': 'sub-242', 'orig_participant_id': 'LM', 'session': 'ses-01', 'age': 'three', 'sex': 'F'}\n",
      "Subject: sub-242 Age: three\n",
      "Processing row: {'subject_id': 'sub-243', 'orig_participant_id': 'CD', 'session': 'ses-01', 'age': 'three', 'sex': 'F'}\n",
      "Subject: sub-243 Age: three\n",
      "Processing row: {'subject_id': 'sub-244', 'orig_participant_id': 'GB', 'session': 'ses-01', 'age': 'three', 'sex': 'M'}\n",
      "Subject: sub-244 Age: three\n",
      "Processing row: {'subject_id': 'sub-245', 'orig_participant_id': 'MP', 'session': 'ses-01', 'age': 'three', 'sex': 'M'}\n",
      "Subject: sub-245 Age: three\n",
      "Processing row: {'subject_id': 'sub-246', 'orig_participant_id': 'LMD', 'session': 'ses-01', 'age': 'three', 'sex': 'M'}\n",
      "Subject: sub-246 Age: three\n",
      "Processing row: {'subject_id': 'sub-201', 'orig_participant_id': 'LZ', 'session': 'ses-01', 'age': 'three', 'sex': 'M'}\n",
      "Subject: sub-201 Age: three\n",
      "Processing row: {'subject_id': 'sub-201', 'orig_participant_id': 'LZ', 'session': 'ses-04', 'age': 'six', 'sex': 'M'}\n",
      "Subject: sub-201 Age: six\n",
      "Processing row: {'subject_id': 'sub-201', 'orig_participant_id': 'LZ', 'session': 'ses-06', 'age': 'twelve', 'sex': 'M'}\n",
      "Subject: sub-201 Age: twelve\n",
      "Processing subject sub-201 with age twelve\n",
      "/home/common/bonaiuto/devmobeta/derivatives/sub-201/ses-06\n",
      "Processing subject sub-201 with age twelveand sessionses-06\n"
     ]
    },
    {
     "name": "stderr",
     "output_type": "stream",
     "text": [
      "/tmp/ipykernel_20728/4108613221.py:27: RuntimeWarning: Limited 1 annotation(s) that were expanding outside the data range.\n",
      "  raw_data=mne.io.read_raw_eeglab(fname, preload=True)\n",
      "/tmp/ipykernel_20728/4108613221.py:27: RuntimeWarning: The data contains 'boundary' events, indicating data discontinuities. Be cautious of filtering and epoching around these events.\n",
      "  raw_data=mne.io.read_raw_eeglab(fname, preload=True)\n"
     ]
    },
    {
     "name": "stdout",
     "output_type": "stream",
     "text": [
      "Processing row: {'subject_id': 'sub-202', 'orig_participant_id': 'RA', 'session': 'ses-02', 'age': 'six', 'sex': 'F'}\n",
      "Subject: sub-202 Age: six\n",
      "Processing row: {'subject_id': 'sub-203', 'orig_participant_id': 'NP', 'session': 'ses-02', 'age': 'three', 'sex': 'F'}\n",
      "Subject: sub-203 Age: three\n",
      "Processing row: {'subject_id': 'sub-203', 'orig_participant_id': 'NP', 'session': 'ses-04', 'age': 'six', 'sex': 'F'}\n",
      "Subject: sub-203 Age: six\n",
      "Processing row: {'subject_id': 'sub-203', 'orig_participant_id': 'NP', 'session': 'ses-05', 'age': 'twelve', 'sex': 'F'}\n",
      "Subject: sub-203 Age: twelve\n",
      "Processing subject sub-203 with age twelve\n",
      "/home/common/bonaiuto/devmobeta/derivatives/sub-203/ses-05\n",
      "Processing subject sub-203 with age twelveand sessionses-05\n"
     ]
    },
    {
     "name": "stderr",
     "output_type": "stream",
     "text": [
      "/tmp/ipykernel_20728/4108613221.py:27: RuntimeWarning: Limited 1 annotation(s) that were expanding outside the data range.\n",
      "  raw_data=mne.io.read_raw_eeglab(fname, preload=True)\n",
      "/tmp/ipykernel_20728/4108613221.py:27: RuntimeWarning: The data contains 'boundary' events, indicating data discontinuities. Be cautious of filtering and epoching around these events.\n",
      "  raw_data=mne.io.read_raw_eeglab(fname, preload=True)\n"
     ]
    },
    {
     "name": "stdout",
     "output_type": "stream",
     "text": [
      "Processing row: {'subject_id': 'sub-204', 'orig_participant_id': 'AJG', 'session': 'ses-01', 'age': 'six', 'sex': 'F'}\n",
      "Subject: sub-204 Age: six\n",
      "Processing row: {'subject_id': 'sub-204', 'orig_participant_id': 'AJG', 'session': 'ses-04', 'age': 'twelve', 'sex': 'F'}\n",
      "Subject: sub-204 Age: twelve\n",
      "Processing subject sub-204 with age twelve\n",
      "/home/common/bonaiuto/devmobeta/derivatives/sub-204/ses-04\n",
      "Processing subject sub-204 with age twelveand sessionses-04\n"
     ]
    },
    {
     "name": "stderr",
     "output_type": "stream",
     "text": [
      "/tmp/ipykernel_20728/4108613221.py:27: RuntimeWarning: Limited 1 annotation(s) that were expanding outside the data range.\n",
      "  raw_data=mne.io.read_raw_eeglab(fname, preload=True)\n",
      "/tmp/ipykernel_20728/4108613221.py:27: RuntimeWarning: The data contains 'boundary' events, indicating data discontinuities. Be cautious of filtering and epoching around these events.\n",
      "  raw_data=mne.io.read_raw_eeglab(fname, preload=True)\n"
     ]
    },
    {
     "name": "stdout",
     "output_type": "stream",
     "text": [
      "Processing row: {'subject_id': 'sub-205', 'orig_participant_id': 'AL', 'session': 'ses-01', 'age': 'three', 'sex': 'F'}\n",
      "Subject: sub-205 Age: three\n",
      "Processing row: {'subject_id': 'sub-205', 'orig_participant_id': 'AL', 'session': 'ses-02', 'age': 'six', 'sex': 'F'}\n",
      "Subject: sub-205 Age: six\n",
      "Processing row: {'subject_id': 'sub-205', 'orig_participant_id': 'AL', 'session': 'ses-03', 'age': 'twelve', 'sex': 'F'}\n",
      "Subject: sub-205 Age: twelve\n",
      "Processing subject sub-205 with age twelve\n",
      "/home/common/bonaiuto/devmobeta/derivatives/sub-205/ses-03\n",
      "Processing subject sub-205 with age twelve and ses-03 doesn't exist\n",
      "Processing row: {'subject_id': 'sub-206', 'orig_participant_id': 'MF', 'session': 'ses-02', 'age': 'three', 'sex': 'M'}\n",
      "Subject: sub-206 Age: three\n",
      "Processing row: {'subject_id': 'sub-206', 'orig_participant_id': 'MF', 'session': 'ses-04', 'age': 'six', 'sex': 'M'}\n",
      "Subject: sub-206 Age: six\n",
      "Processing row: {'subject_id': 'sub-206', 'orig_participant_id': 'MF', 'session': 'ses-05', 'age': 'twelve', 'sex': 'M'}\n",
      "Subject: sub-206 Age: twelve\n",
      "Processing subject sub-206 with age twelve\n",
      "/home/common/bonaiuto/devmobeta/derivatives/sub-206/ses-05\n",
      "Processing subject sub-206 with age twelve and ses-05 doesn't exist\n",
      "Processing row: {'subject_id': 'sub-207', 'orig_participant_id': 'FM', 'session': 'ses-02', 'age': 'three', 'sex': 'M'}\n",
      "Subject: sub-207 Age: three\n",
      "Processing row: {'subject_id': 'sub-207', 'orig_participant_id': 'FM', 'session': 'ses-04', 'age': 'six', 'sex': 'M'}\n",
      "Subject: sub-207 Age: six\n",
      "Processing row: {'subject_id': 'sub-207', 'orig_participant_id': 'FM', 'session': 'ses-05', 'age': 'twelve', 'sex': 'M'}\n",
      "Subject: sub-207 Age: twelve\n",
      "Processing subject sub-207 with age twelve\n",
      "/home/common/bonaiuto/devmobeta/derivatives/sub-207/ses-05\n",
      "Processing subject sub-207 with age twelveand sessionses-05\n"
     ]
    },
    {
     "name": "stderr",
     "output_type": "stream",
     "text": [
      "/tmp/ipykernel_20728/4108613221.py:27: RuntimeWarning: Limited 1 annotation(s) that were expanding outside the data range.\n",
      "  raw_data=mne.io.read_raw_eeglab(fname, preload=True)\n",
      "/tmp/ipykernel_20728/4108613221.py:27: RuntimeWarning: The data contains 'boundary' events, indicating data discontinuities. Be cautious of filtering and epoching around these events.\n",
      "  raw_data=mne.io.read_raw_eeglab(fname, preload=True)\n"
     ]
    },
    {
     "name": "stdout",
     "output_type": "stream",
     "text": [
      "Processing row: {'subject_id': 'sub-208', 'orig_participant_id': 'MPG', 'session': 'ses-02', 'age': 'three', 'sex': 'F'}\n",
      "Subject: sub-208 Age: three\n",
      "Processing row: {'subject_id': 'sub-208', 'orig_participant_id': 'MPG', 'session': 'ses-03', 'age': 'six', 'sex': 'F'}\n",
      "Subject: sub-208 Age: six\n",
      "Processing row: {'subject_id': 'sub-208', 'orig_participant_id': 'MPG', 'session': 'ses-05', 'age': 'twelve', 'sex': 'F'}\n",
      "Subject: sub-208 Age: twelve\n",
      "Processing subject sub-208 with age twelve\n",
      "/home/common/bonaiuto/devmobeta/derivatives/sub-208/ses-05\n",
      "Processing subject sub-208 with age twelveand sessionses-05\n"
     ]
    },
    {
     "name": "stderr",
     "output_type": "stream",
     "text": [
      "/tmp/ipykernel_20728/4108613221.py:27: RuntimeWarning: Limited 1 annotation(s) that were expanding outside the data range.\n",
      "  raw_data=mne.io.read_raw_eeglab(fname, preload=True)\n",
      "/tmp/ipykernel_20728/4108613221.py:27: RuntimeWarning: The data contains 'boundary' events, indicating data discontinuities. Be cautious of filtering and epoching around these events.\n",
      "  raw_data=mne.io.read_raw_eeglab(fname, preload=True)\n"
     ]
    },
    {
     "name": "stdout",
     "output_type": "stream",
     "text": [
      "Processing row: {'subject_id': 'sub-209', 'orig_participant_id': 'TA', 'session': 'ses-01', 'age': 'three', 'sex': 'M'}\n",
      "Subject: sub-209 Age: three\n",
      "Processing row: {'subject_id': 'sub-209', 'orig_participant_id': 'TA', 'session': 'ses-03', 'age': 'six', 'sex': 'M'}\n",
      "Subject: sub-209 Age: six\n",
      "Processing row: {'subject_id': 'sub-209', 'orig_participant_id': 'TA', 'session': 'ses-05', 'age': 'twelve', 'sex': 'M'}\n",
      "Subject: sub-209 Age: twelve\n",
      "Processing subject sub-209 with age twelve\n",
      "/home/common/bonaiuto/devmobeta/derivatives/sub-209/ses-05\n",
      "Processing subject sub-209 with age twelveand sessionses-05\n"
     ]
    },
    {
     "name": "stderr",
     "output_type": "stream",
     "text": [
      "/tmp/ipykernel_20728/4108613221.py:27: RuntimeWarning: Limited 1 annotation(s) that were expanding outside the data range.\n",
      "  raw_data=mne.io.read_raw_eeglab(fname, preload=True)\n",
      "/tmp/ipykernel_20728/4108613221.py:27: RuntimeWarning: The data contains 'boundary' events, indicating data discontinuities. Be cautious of filtering and epoching around these events.\n",
      "  raw_data=mne.io.read_raw_eeglab(fname, preload=True)\n"
     ]
    },
    {
     "name": "stdout",
     "output_type": "stream",
     "text": [
      "Processing row: {'subject_id': 'sub-210', 'orig_participant_id': 'SLO', 'session': 'ses-01', 'age': 'three', 'sex': 'M'}\n",
      "Subject: sub-210 Age: three\n",
      "Processing row: {'subject_id': 'sub-210', 'orig_participant_id': 'SLO', 'session': 'ses-03', 'age': 'six', 'sex': 'M'}\n",
      "Subject: sub-210 Age: six\n",
      "Processing row: {'subject_id': 'sub-210', 'orig_participant_id': 'SLO', 'session': 'ses-04', 'age': 'twelve', 'sex': 'M'}\n",
      "Subject: sub-210 Age: twelve\n",
      "Processing subject sub-210 with age twelve\n",
      "/home/common/bonaiuto/devmobeta/derivatives/sub-210/ses-04\n",
      "Processing subject sub-210 with age twelve and ses-04 doesn't exist\n",
      "Processing row: {'subject_id': 'sub-211', 'orig_participant_id': 'CMB', 'session': 'ses-01', 'age': 'three', 'sex': 'F'}\n",
      "Subject: sub-211 Age: three\n",
      "Processing row: {'subject_id': 'sub-211', 'orig_participant_id': 'CMB', 'session': 'ses-03', 'age': 'six', 'sex': 'F'}\n",
      "Subject: sub-211 Age: six\n",
      "Processing row: {'subject_id': 'sub-211', 'orig_participant_id': 'CMB', 'session': 'ses-05', 'age': 'twelve', 'sex': 'F'}\n",
      "Subject: sub-211 Age: twelve\n",
      "Processing subject sub-211 with age twelve\n",
      "/home/common/bonaiuto/devmobeta/derivatives/sub-211/ses-05\n",
      "Processing subject sub-211 with age twelve and ses-05 doesn't exist\n",
      "Processing row: {'subject_id': 'sub-212', 'orig_participant_id': 'IV', 'session': 'ses-02', 'age': 'three', 'sex': 'F'}\n",
      "Subject: sub-212 Age: three\n",
      "Processing row: {'subject_id': 'sub-212', 'orig_participant_id': 'IV', 'session': 'ses-03', 'age': 'six', 'sex': 'F'}\n",
      "Subject: sub-212 Age: six\n",
      "Processing row: {'subject_id': 'sub-213', 'orig_participant_id': 'PG', 'session': 'ses-01', 'age': 'three', 'sex': 'F'}\n",
      "Subject: sub-213 Age: three\n",
      "Processing row: {'subject_id': 'sub-213', 'orig_participant_id': 'PG', 'session': 'ses-04', 'age': 'six', 'sex': 'F'}\n",
      "Subject: sub-213 Age: six\n",
      "Processing row: {'subject_id': 'sub-213', 'orig_participant_id': 'PG', 'session': 'ses-05', 'age': 'twelve', 'sex': 'F'}\n",
      "Subject: sub-213 Age: twelve\n",
      "Processing subject sub-213 with age twelve\n",
      "/home/common/bonaiuto/devmobeta/derivatives/sub-213/ses-05\n",
      "Processing subject sub-213 with age twelve and ses-05 doesn't exist\n",
      "Processing row: {'subject_id': 'sub-214', 'orig_participant_id': 'AD', 'session': 'ses-01', 'age': 'three', 'sex': 'F'}\n",
      "Subject: sub-214 Age: three\n",
      "Processing row: {'subject_id': 'sub-214', 'orig_participant_id': 'AD', 'session': 'ses-03', 'age': 'six', 'sex': 'F'}\n",
      "Subject: sub-214 Age: six\n",
      "Processing row: {'subject_id': 'sub-214', 'orig_participant_id': 'AD', 'session': 'ses-04', 'age': 'twelve', 'sex': 'F'}\n",
      "Subject: sub-214 Age: twelve\n",
      "Processing subject sub-214 with age twelve\n",
      "/home/common/bonaiuto/devmobeta/derivatives/sub-214/ses-04\n",
      "Processing subject sub-214 with age twelve and ses-04 doesn't exist\n",
      "Processing row: {'subject_id': 'sub-215', 'orig_participant_id': 'BG', 'session': 'ses-01', 'age': 'three', 'sex': 'F'}\n",
      "Subject: sub-215 Age: three\n",
      "Processing row: {'subject_id': 'sub-215', 'orig_participant_id': 'BG', 'session': 'ses-03', 'age': 'six', 'sex': 'F'}\n",
      "Subject: sub-215 Age: six\n",
      "Processing row: {'subject_id': 'sub-215', 'orig_participant_id': 'BG', 'session': 'ses-05', 'age': 'twelve', 'sex': 'F'}\n",
      "Subject: sub-215 Age: twelve\n",
      "Processing subject sub-215 with age twelve\n",
      "/home/common/bonaiuto/devmobeta/derivatives/sub-215/ses-05\n",
      "Processing subject sub-215 with age twelve and ses-05 doesn't exist\n",
      "Processing row: {'subject_id': 'sub-216', 'orig_participant_id': 'CG', 'session': 'ses-01', 'age': 'three', 'sex': 'F'}\n",
      "Subject: sub-216 Age: three\n",
      "Processing row: {'subject_id': 'sub-216', 'orig_participant_id': 'CG', 'session': 'ses-03', 'age': 'six', 'sex': 'F'}\n",
      "Subject: sub-216 Age: six\n",
      "Processing row: {'subject_id': 'sub-216', 'orig_participant_id': 'CG', 'session': 'ses-05', 'age': 'twelve', 'sex': 'F'}\n",
      "Subject: sub-216 Age: twelve\n",
      "Processing subject sub-216 with age twelve\n",
      "/home/common/bonaiuto/devmobeta/derivatives/sub-216/ses-05\n",
      "Processing subject sub-216 with age twelve and ses-05 doesn't exist\n",
      "Processing row: {'subject_id': 'sub-217', 'orig_participant_id': 'MA', 'session': 'ses-01', 'age': 'three', 'sex': 'M'}\n",
      "Subject: sub-217 Age: three\n",
      "Processing row: {'subject_id': 'sub-217', 'orig_participant_id': 'MA', 'session': 'ses-03', 'age': 'six', 'sex': 'M'}\n",
      "Subject: sub-217 Age: six\n",
      "Processing row: {'subject_id': 'sub-217', 'orig_participant_id': 'MA', 'session': 'ses-04', 'age': 'twelve', 'sex': 'M'}\n",
      "Subject: sub-217 Age: twelve\n",
      "Processing subject sub-217 with age twelve\n",
      "/home/common/bonaiuto/devmobeta/derivatives/sub-217/ses-04\n",
      "Processing subject sub-217 with age twelve and ses-04 doesn't exist\n",
      "Processing row: {'subject_id': 'sub-218', 'orig_participant_id': 'ABL', 'session': 'ses-01', 'age': 'three', 'sex': 'F'}\n",
      "Subject: sub-218 Age: three\n",
      "Processing row: {'subject_id': 'sub-218', 'orig_participant_id': 'ABL', 'session': 'ses-02', 'age': 'six', 'sex': 'F'}\n",
      "Subject: sub-218 Age: six\n",
      "Processing row: {'subject_id': 'sub-218', 'orig_participant_id': 'AB', 'session': 'ses-05', 'age': 'twelve', 'sex': 'F'}\n",
      "Subject: sub-218 Age: twelve\n",
      "Processing subject sub-218 with age twelve\n",
      "/home/common/bonaiuto/devmobeta/derivatives/sub-218/ses-05\n",
      "Processing subject sub-218 with age twelveand sessionses-05\n"
     ]
    },
    {
     "name": "stderr",
     "output_type": "stream",
     "text": [
      "/tmp/ipykernel_20728/4108613221.py:27: RuntimeWarning: Limited 1 annotation(s) that were expanding outside the data range.\n",
      "  raw_data=mne.io.read_raw_eeglab(fname, preload=True)\n",
      "/tmp/ipykernel_20728/4108613221.py:27: RuntimeWarning: The data contains 'boundary' events, indicating data discontinuities. Be cautious of filtering and epoching around these events.\n",
      "  raw_data=mne.io.read_raw_eeglab(fname, preload=True)\n"
     ]
    },
    {
     "name": "stdout",
     "output_type": "stream",
     "text": [
      "Processing row: {'subject_id': 'sub-219', 'orig_participant_id': 'EBL', 'session': 'ses-01', 'age': 'three', 'sex': 'F'}\n",
      "Subject: sub-219 Age: three\n",
      "Processing row: {'subject_id': 'sub-219', 'orig_participant_id': 'EBL', 'session': 'ses-02', 'age': 'six', 'sex': 'F'}\n",
      "Subject: sub-219 Age: six\n",
      "Processing row: {'subject_id': 'sub-220', 'orig_participant_id': 'SM', 'session': 'ses-01', 'age': 'three', 'sex': 'F'}\n",
      "Subject: sub-220 Age: three\n",
      "Processing row: {'subject_id': 'sub-220', 'orig_participant_id': 'SM', 'session': 'ses-03', 'age': 'six', 'sex': 'F'}\n",
      "Subject: sub-220 Age: six\n",
      "Processing row: {'subject_id': 'sub-221', 'orig_participant_id': 'MA', 'session': 'ses-02', 'age': 'three', 'sex': 'F'}\n",
      "Subject: sub-221 Age: three\n",
      "Processing row: {'subject_id': 'sub-221', 'orig_participant_id': 'MA', 'session': 'ses-03', 'age': 'six', 'sex': 'F'}\n",
      "Subject: sub-221 Age: six\n",
      "Processing row: {'subject_id': 'sub-221', 'orig_participant_id': 'MA', 'session': 'ses-05', 'age': 'twelve', 'sex': 'F'}\n",
      "Subject: sub-221 Age: twelve\n",
      "Processing subject sub-221 with age twelve\n",
      "/home/common/bonaiuto/devmobeta/derivatives/sub-221/ses-05\n",
      "Processing subject sub-221 with age twelve and ses-05 doesn't exist\n",
      "Processing row: {'subject_id': 'sub-222', 'orig_participant_id': 'SM', 'session': 'ses-01', 'age': 'three', 'sex': 'F'}\n",
      "Subject: sub-222 Age: three\n",
      "Processing row: {'subject_id': 'sub-222', 'orig_participant_id': 'SM', 'session': 'ses-03', 'age': 'six', 'sex': 'F'}\n",
      "Subject: sub-222 Age: six\n",
      "Processing row: {'subject_id': 'sub-222', 'orig_participant_id': 'SM', 'session': 'ses-04', 'age': 'twelve', 'sex': 'F'}\n",
      "Subject: sub-222 Age: twelve\n",
      "Processing subject sub-222 with age twelve\n",
      "/home/common/bonaiuto/devmobeta/derivatives/sub-222/ses-04\n",
      "Processing subject sub-222 with age twelve and ses-04 doesn't exist\n",
      "Processing row: {'subject_id': 'sub-223', 'orig_participant_id': 'LB', 'session': 'ses-02', 'age': 'three', 'sex': 'M'}\n",
      "Subject: sub-223 Age: three\n",
      "Processing row: {'subject_id': 'sub-223', 'orig_participant_id': 'LB', 'session': 'ses-04', 'age': 'six', 'sex': 'M'}\n",
      "Subject: sub-223 Age: six\n",
      "Processing row: {'subject_id': 'sub-223', 'orig_participant_id': 'LB', 'session': 'ses-05', 'age': 'twelve', 'sex': 'M'}\n",
      "Subject: sub-223 Age: twelve\n",
      "Processing subject sub-223 with age twelve\n",
      "/home/common/bonaiuto/devmobeta/derivatives/sub-223/ses-05\n",
      "Processing subject sub-223 with age twelve and ses-05 doesn't exist\n",
      "Processing row: {'subject_id': 'sub-224', 'orig_participant_id': 'OM', 'session': 'ses-02', 'age': 'three', 'sex': 'M'}\n",
      "Subject: sub-224 Age: three\n",
      "Processing row: {'subject_id': 'sub-224', 'orig_participant_id': 'OM', 'session': 'ses-03', 'age': 'six', 'sex': 'M'}\n",
      "Subject: sub-224 Age: six\n",
      "Processing row: {'subject_id': 'sub-224', 'orig_participant_id': 'OM', 'session': 'ses-04', 'age': 'twelve', 'sex': 'M'}\n",
      "Subject: sub-224 Age: twelve\n",
      "Processing subject sub-224 with age twelve\n",
      "/home/common/bonaiuto/devmobeta/derivatives/sub-224/ses-04\n",
      "Processing subject sub-224 with age twelve and ses-04 doesn't exist\n",
      "Processing row: {'subject_id': 'sub-225', 'orig_participant_id': 'MD', 'session': 'ses-02', 'age': 'three', 'sex': 'M'}\n",
      "Subject: sub-225 Age: three\n",
      "Processing row: {'subject_id': 'sub-225', 'orig_participant_id': 'MD', 'session': 'ses-03', 'age': 'six', 'sex': 'M'}\n",
      "Subject: sub-225 Age: six\n",
      "Processing row: {'subject_id': 'sub-226', 'orig_participant_id': 'DLC', 'session': 'ses-02', 'age': 'three', 'sex': 'M'}\n",
      "Subject: sub-226 Age: three\n",
      "Processing row: {'subject_id': 'sub-226', 'orig_participant_id': 'DLC', 'session': 'ses-04', 'age': 'six', 'sex': 'M'}\n",
      "Subject: sub-226 Age: six\n",
      "Processing row: {'subject_id': 'sub-227', 'orig_participant_id': 'HC', 'session': 'ses-01', 'age': 'three', 'sex': 'M'}\n",
      "Subject: sub-227 Age: three\n",
      "Processing row: {'subject_id': 'sub-227', 'orig_participant_id': 'HC', 'session': 'ses-02', 'age': 'six', 'sex': 'M'}\n",
      "Subject: sub-227 Age: six\n",
      "Processing row: {'subject_id': 'sub-228', 'orig_participant_id': 'AFW', 'session': 'ses-02', 'age': 'three', 'sex': 'F'}\n",
      "Subject: sub-228 Age: three\n",
      "Processing row: {'subject_id': 'sub-229', 'orig_participant_id': 'AE', 'session': 'ses-02', 'age': 'three', 'sex': 'F'}\n",
      "Subject: sub-229 Age: three\n",
      "Processing row: {'subject_id': 'sub-229', 'orig_participant_id': 'AE', 'session': 'ses-03', 'age': 'six', 'sex': 'F'}\n",
      "Subject: sub-229 Age: six\n",
      "Processing row: {'subject_id': 'sub-230', 'orig_participant_id': 'IM', 'session': 'ses-01', 'age': 'three', 'sex': 'M'}\n",
      "Subject: sub-230 Age: three\n",
      "Processing row: {'subject_id': 'sub-230', 'orig_participant_id': 'IM', 'session': 'ses-03', 'age': 'six', 'sex': 'M'}\n",
      "Subject: sub-230 Age: six\n",
      "Processing row: {'subject_id': 'sub-231', 'orig_participant_id': 'JC', 'session': 'ses-01', 'age': 'three', 'sex': 'M'}\n",
      "Subject: sub-231 Age: three\n",
      "Processing row: {'subject_id': 'sub-231', 'orig_participant_id': 'JC', 'session': 'ses-02', 'age': 'six', 'sex': 'M'}\n",
      "Subject: sub-231 Age: six\n",
      "Processing row: {'subject_id': 'sub-232', 'orig_participant_id': 'TG', 'session': 'ses-01', 'age': 'three', 'sex': 'M'}\n",
      "Subject: sub-232 Age: three\n",
      "Processing row: {'subject_id': 'sub-232', 'orig_participant_id': 'TG', 'session': 'ses-04', 'age': 'six', 'sex': 'M'}\n",
      "Subject: sub-232 Age: six\n",
      "Processing row: {'subject_id': 'sub-233', 'orig_participant_id': 'TB', 'session': 'ses-01', 'age': 'three', 'sex': 'M'}\n",
      "Subject: sub-233 Age: three\n",
      "Processing row: {'subject_id': 'sub-233', 'orig_participant_id': 'TB', 'session': 'ses-04', 'age': 'six', 'sex': 'M'}\n",
      "Subject: sub-233 Age: six\n",
      "Processing row: {'subject_id': 'sub-234', 'orig_participant_id': 'MR', 'session': 'ses-02', 'age': 'three', 'sex': 'F'}\n",
      "Subject: sub-234 Age: three\n",
      "Processing row: {'subject_id': 'sub-234', 'orig_participant_id': 'MR', 'session': 'ses-04', 'age': 'six', 'sex': 'F'}\n",
      "Subject: sub-234 Age: six\n",
      "Processing row: {'subject_id': 'sub-235', 'orig_participant_id': 'LC', 'session': 'ses-01', 'age': 'three', 'sex': 'F'}\n",
      "Subject: sub-235 Age: three\n",
      "Processing row: {'subject_id': 'sub-235', 'orig_participant_id': 'LC', 'session': 'ses-02', 'age': 'six', 'sex': 'F'}\n",
      "Subject: sub-235 Age: six\n",
      "Processing row: {'subject_id': 'sub-236', 'orig_participant_id': 'ES', 'session': 'ses-01', 'age': 'three', 'sex': 'F'}\n",
      "Subject: sub-236 Age: three\n",
      "Processing row: {'subject_id': 'sub-236', 'orig_participant_id': 'ES', 'session': 'ses-02', 'age': 'six', 'sex': 'F'}\n",
      "Subject: sub-236 Age: six\n",
      "Processing row: {'subject_id': 'sub-237', 'orig_participant_id': 'LMP', 'session': 'ses-01', 'age': 'three', 'sex': 'M'}\n",
      "Subject: sub-237 Age: three\n",
      "Processing row: {'subject_id': 'sub-238', 'orig_participant_id': 'LM', 'session': 'ses-02', 'age': 'three', 'sex': 'F'}\n",
      "Subject: sub-238 Age: three\n",
      "Processing row: {'subject_id': 'sub-238', 'orig_participant_id': 'LM', 'session': 'ses-03', 'age': 'six', 'sex': 'F'}\n",
      "Subject: sub-238 Age: six\n",
      "Processing row: {'subject_id': 'sub-239', 'orig_participant_id': 'ABV', 'session': 'ses-02', 'age': 'six', 'sex': 'F'}\n",
      "Subject: sub-239 Age: six\n",
      "Processing row: {'subject_id': 'sub-240', 'orig_participant_id': 'ABV', 'session': 'ses-02', 'age': 'six', 'sex': 'M'}\n",
      "Subject: sub-240 Age: six\n",
      "Processing row: {'subject_id': 'sub-241', 'orig_participant_id': 'IB', 'session': 'ses-01', 'age': 'three', 'sex': 'M'}\n",
      "Subject: sub-241 Age: three\n",
      "Processing row: {'subject_id': 'sub-241', 'orig_participant_id': 'IB', 'session': 'ses-04', 'age': 'six', 'sex': 'M'}\n",
      "Subject: sub-241 Age: six\n",
      "Processing row: {'subject_id': 'sub-242', 'orig_participant_id': 'LM', 'session': 'ses-01', 'age': 'three', 'sex': 'F'}\n",
      "Subject: sub-242 Age: three\n",
      "Processing row: {'subject_id': 'sub-243', 'orig_participant_id': 'CD', 'session': 'ses-01', 'age': 'three', 'sex': 'F'}\n",
      "Subject: sub-243 Age: three\n",
      "Processing row: {'subject_id': 'sub-244', 'orig_participant_id': 'GB', 'session': 'ses-01', 'age': 'three', 'sex': 'M'}\n",
      "Subject: sub-244 Age: three\n",
      "Processing row: {'subject_id': 'sub-245', 'orig_participant_id': 'MP', 'session': 'ses-01', 'age': 'three', 'sex': 'M'}\n",
      "Subject: sub-245 Age: three\n",
      "Processing row: {'subject_id': 'sub-246', 'orig_participant_id': 'LMD', 'session': 'ses-01', 'age': 'three', 'sex': 'M'}\n",
      "Subject: sub-246 Age: three\n"
     ]
    }
   ],
   "source": [
    "freqs, sub_three_psds=compute_psds('three')\n",
    "freqs, sub_six_psds=compute_psds('six')\n",
    "freqs, sub_twelve_psds=compute_psds('twelve')"
   ]
  },
  {
   "cell_type": "code",
   "execution_count": 90,
   "id": "85a4cb20",
   "metadata": {},
   "outputs": [
    {
     "name": "stdout",
     "output_type": "stream",
     "text": [
      "N 3m: 33\n",
      "N 6m: 31\n",
      "N 12m: 7\n"
     ]
    }
   ],
   "source": [
    "print(f'N 3m: {sub_three_psds.shape[0]}')\n",
    "print(f'N 6m: {sub_six_psds.shape[0]}')\n",
    "print(f'N 12m: {sub_twelve_psds.shape[0]}')"
   ]
  },
  {
   "cell_type": "code",
   "execution_count": 91,
   "id": "9f9635f4",
   "metadata": {},
   "outputs": [
    {
     "data": {
      "text/plain": [
       "<matplotlib.legend.Legend at 0x7f6acf6af050>"
      ]
     },
     "execution_count": 91,
     "metadata": {},
     "output_type": "execute_result"
    },
    {
     "data": {
      "image/png": "[encoded data removed]",
      "text/plain": [
       "<Figure size 640x480 with 1 Axes>"
      ]
     },
     "metadata": {},
     "output_type": "display_data"
    }
   ],
   "source": [
    "plt.plot(freqs,np.log10(np.mean(np.mean(sub_three_psds,axis=1),axis=0)),label='3m')\n",
    "plt.plot(freqs,np.log10(np.mean(np.mean(sub_six_psds,axis=1),axis=0)),label='6m')\n",
    "plt.plot(freqs,np.log10(np.mean(np.mean(sub_twelve_psds,axis=1),axis=0)),label='12m')\n",
    "plt.legend()"
   ]
  },
  {
   "cell_type": "code",
   "execution_count": 92,
   "id": "d307e057",
   "metadata": {},
   "outputs": [],
   "source": [
    "def parameterize_psds(freqs, sub_psds):\n",
    "    n_chans=sub_psds.shape[1]\n",
    "    fg = FOOOFGroup()\n",
    "    fgs=fit_fooof_3d(fg, freqs, sub_psds, [.05, 40])\n",
    "    \n",
    "    sub_periodic=np.zeros(sub_psds.shape)\n",
    "    sub_aperiodic=np.zeros(sub_psds.shape)\n",
    "    for s_idx, fg in enumerate(fgs):\n",
    "        for chan in range(n_chans):\n",
    "            if chan in fg.null_inds_:\n",
    "                sub_aperiodic[s_idx,chan,:]=float('NaN')\n",
    "                sub_periodic[s_idx,chan,:]=float('NaN')\n",
    "            else:\n",
    "                fm = fg.get_fooof(ind=chan, regenerate=True)\n",
    "                ap_params=fm.get_params('aperiodic_params')\n",
    "                sub_aperiodic[s_idx,chan,:] = gen_aperiodic(freqs, ap_params)\n",
    "                sub_periodic[s_idx,chan,:]=np.log10(sub_psds[s_idx,chan,:])-sub_aperiodic[s_idx,chan,:]\n",
    "    return fgs, sub_periodic, sub_aperiodic"
   ]
  },
  {
   "cell_type": "code",
   "execution_count": 93,
   "id": "65c93a73",
   "metadata": {},
   "outputs": [
    {
     "name": "stdout",
     "output_type": "stream",
     "text": [
      "Running FOOOFGroup across 528 power spectra.\n"
     ]
    },
    {
     "name": "stderr",
     "output_type": "stream",
     "text": [
      "/home/mgautier/anaconda3/envs/devmobeta_grasp/lib/python3.12/site-packages/fooof/core/funcs.py:87: RuntimeWarning: divide by zero encountered in log10\n",
      "  ys = offset - np.log10(xs**exp)\n"
     ]
    },
    {
     "name": "stdout",
     "output_type": "stream",
     "text": [
      "Running FOOOFGroup across 496 power spectra.\n"
     ]
    },
    {
     "name": "stderr",
     "output_type": "stream",
     "text": [
      "/home/mgautier/anaconda3/envs/devmobeta_grasp/lib/python3.12/site-packages/fooof/core/funcs.py:87: RuntimeWarning: divide by zero encountered in log10\n",
      "  ys = offset - np.log10(xs**exp)\n"
     ]
    },
    {
     "name": "stdout",
     "output_type": "stream",
     "text": [
      "Running FOOOFGroup across 112 power spectra.\n"
     ]
    },
    {
     "name": "stderr",
     "output_type": "stream",
     "text": [
      "/home/mgautier/anaconda3/envs/devmobeta_grasp/lib/python3.12/site-packages/fooof/core/funcs.py:87: RuntimeWarning: divide by zero encountered in log10\n",
      "  ys = offset - np.log10(xs**exp)\n"
     ]
    }
   ],
   "source": [
    "fgs_3m, sub_three_periodic, sub_three_aperiodic=parameterize_psds(freqs, sub_three_psds)\n",
    "fgs_6m, sub_six_periodic, sub_six_aperiodic=parameterize_psds(freqs, sub_six_psds)\n",
    "fgs_12m, sub_twelve_periodic, sub_twelve_aperiodic=parameterize_psds(freqs, sub_twelve_psds)"
   ]
  },
  {
   "cell_type": "code",
   "execution_count": 101,
   "id": "197e4684",
   "metadata": {},
   "outputs": [
    {
     "data": {
      "text/plain": [
       "<matplotlib.legend.Legend at 0x7f6acf6c4b90>"
      ]
     },
     "execution_count": 101,
     "metadata": {},
     "output_type": "execute_result"
    },
    {
     "data": {
      "image/png": "[encoded data removed]",
      "text/plain": [
       "<Figure size 640x480 with 1 Axes>"
      ]
     },
     "metadata": {},
     "output_type": "display_data"
    }
   ],
   "source": [
    "mean_psd_3m=np.mean(np.mean(sub_three_periodic,axis=1),axis=0)\n",
    "mean_psd_3m[mean_psd_3m<0]=0\n",
    "mean_psd_6m=np.mean(np.mean(sub_six_periodic,axis=1),axis=0)\n",
    "mean_psd_6m[mean_psd_6m<0]=0\n",
    "mean_psd_12m=np.mean(np.mean(sub_twelve_periodic,axis=1),axis=0)\n",
    "mean_psd_12m[mean_psd_12m<0]=0\n",
    "\n",
    "plt.plot(freqs,mean_psd_3m,label='3m')\n",
    "plt.plot(freqs,mean_psd_6m,label='6m')\n",
    "plt.plot(freqs,mean_psd_12m,label='12m')\n",
    "plt.plot(plt.xlim(), [0, 0],'k--')\n",
    "plt.title('Mean Power Spectral Density (PSD)')\n",
    "plt.legend()"
   ]
  },
  {
   "cell_type": "code",
   "execution_count": 95,
   "id": "176ba3a9",
   "metadata": {},
   "outputs": [
    {
     "data": {
      "text/plain": [
       "<matplotlib.legend.Legend at 0x7f6acee71520>"
      ]
     },
     "execution_count": 95,
     "metadata": {},
     "output_type": "execute_result"
    },
    {
     "data": {
      "image/png": "[encoded data removed]",
      "text/plain": [
       "<Figure size 640x480 with 1 Axes>"
      ]
     },
     "metadata": {},
     "output_type": "display_data"
    }
   ],
   "source": [
    "all_peaks_3m=[]\n",
    "all_peaks_6m=[]\n",
    "all_peaks_12m=[]\n",
    "for s_idx, fg in enumerate(fgs_3m):\n",
    "    for chan in range(len(c_chans)):\n",
    "        fm = fg.get_fooof(ind=chan, regenerate=True)\n",
    "        peaks=fm.get_params('peak_params','CF')\n",
    "        if isinstance(peaks, np.ndarray):\n",
    "            all_peaks_3m.extend(peaks)\n",
    "        else:\n",
    "            all_peaks_3m.append(peaks)\n",
    "for s_idx, fg in enumerate(fgs_6m):\n",
    "    for chan in range(len(c_chans)):\n",
    "        fm = fg.get_fooof(ind=chan, regenerate=True)\n",
    "        peaks=fm.get_params('peak_params','CF')\n",
    "        if isinstance(peaks, np.ndarray):\n",
    "            all_peaks_6m.extend(peaks)\n",
    "        else:\n",
    "            all_peaks_6m.append(peaks)\n",
    "for s_idx, fg in enumerate(fgs_12m):\n",
    "    for chan in range(len(c_chans)):\n",
    "        fm = fg.get_fooof(ind=chan, regenerate=True)\n",
    "        peaks=fm.get_params('peak_params','CF')\n",
    "        if isinstance(peaks, np.ndarray):\n",
    "            all_peaks_12m.extend(peaks)\n",
    "        else:\n",
    "            all_peaks_12m.append(peaks)\n",
    "plt.hist(all_peaks_3m,75,alpha=.2,density=True,label='3m')\n",
    "plt.hist(all_peaks_6m,75,alpha=.2,density=True,label='6m')\n",
    "plt.hist(all_peaks_12m,75,alpha=.2,density=True,label='12m')\n",
    "plt.legend()"
   ]
  },
  {
   "cell_type": "code",
   "execution_count": 108,
   "id": "1b3ce06b",
   "metadata": {},
   "outputs": [],
   "source": [
    "def define_fois(freqs, mean_psd, age, debug=False):\n",
    "    mean_resid=mean_psd\n",
    "    foi_pk_freqs=[]\n",
    "    foi_pk_vals=[]    \n",
    "    foi_fwhms=[]\n",
    "    foi_ranges=[]\n",
    "    foi_info = {} \n",
    "    foi_counter = 1  \n",
    "    \n",
    "    orig_pks,properties=scipy.signal.find_peaks(mean_resid)\n",
    "    while True:\n",
    "        pks,properties=scipy.signal.find_peaks(mean_resid)\n",
    "\n",
    "        pk_vals=mean_resid[pks]\n",
    "        sorted_idx=np.argsort(-pk_vals)\n",
    "        pk_vals=pk_vals[sorted_idx]\n",
    "        pks=pks[sorted_idx]\n",
    "\n",
    "        pk_idx=pks[0]\n",
    "        pk_val=pk_vals[0]\n",
    "        pk_freq=freqs[pk_idx]\n",
    "        \n",
    "        if pk_val<np.std(mean_resid):\n",
    "            if debug:\n",
    "                print('Peak val={}, thresh={}'.format(pk_val,.5*np.std(mean_resid)))\n",
    "            break\n",
    "        \n",
    "        l_idx=np.where(mean_resid[:pk_idx]<=pk_val*.5)[0]\n",
    "        r_idx=np.where(mean_resid[pk_idx:]<=pk_val*.5)[0]\n",
    "\n",
    "        if len(l_idx) and len(r_idx):\n",
    "            l_freq=freqs[l_idx[-1]]\n",
    "            r_freq=freqs[pk_idx+r_idx[0]]\n",
    "            r_side=(r_freq-pk_freq)\n",
    "            l_side=(pk_freq-l_freq)\n",
    "            fwhm=2*np.min([r_side, l_side])\n",
    "        elif len(l_idx):\n",
    "            l_freq=freqs[l_idx[-1]]\n",
    "            fwhm=2*(pk_freq-l_freq)\n",
    "        elif len(r_idx):\n",
    "            r_freq=freqs[pk_idx+r_idx[0]+1]\n",
    "            fwhm=2*(r_freq-pk_freq)\n",
    "\n",
    "        l_freq=pk_freq-fwhm*.5\n",
    "        r_freq=pk_freq+fwhm*.5\n",
    "        sd=fwhm/(2*np.sqrt(2*np.log(2)))\n",
    "        A=pk_vals[0]*np.exp(-.5*((freqs-pk_freq)/sd)**2)\n",
    "        nearest_orig=np.min(np.abs(freqs[np.array(orig_pks)]-pk_freq))\n",
    "            \n",
    "        if pk_val>np.std(mean_resid) and ((pk_freq<10 and fwhm>2) or (pk_freq>=10 and fwhm>2.4)):# and nearest_orig<3:\n",
    "            print('Peak: freq={}, val={}, width={}, range={}-{}'.format(pk_freq, pk_val, fwhm, pk_freq-fwhm*.5, pk_freq+fwhm*.5))\n",
    "            print('Distance to nearest original peak={}'.format(nearest_orig))\n",
    "            if debug:\n",
    "                plt.figure(figsize=(12,4))\n",
    "                plt.subplot(1,2,1)\n",
    "                plt.plot(freqs,mean_resid)\n",
    "                plt.plot(freqs[pks],mean_resid[pks],'ro')\n",
    "                plt.subplot(1,2,2)\n",
    "                plt.plot(freqs,mean_resid)\n",
    "                plt.plot(freqs,A)\n",
    "            \n",
    "            foi_pk_freqs.append(pk_freq)\n",
    "            foi_pk_vals.append(pk_val)\n",
    "            foi_fwhms.append(fwhm)\n",
    "            foi_ranges.append([l_freq,r_freq])\n",
    "\n",
    "            band_name = f'FOI_{foi_counter}'\n",
    "            foi_info[band_name] = {'frequency_range': [l_freq, r_freq], 'peak_frequency': pk_freq}\n",
    "            foi_counter += 1\n",
    "            \n",
    "        elif debug:\n",
    "            if not ((pk_freq<10 and fwhm>2) or (pk_freq>=10 and fwhm>2.4)):\n",
    "                print('Peak: freq={}, fhwm={} to narrow'.format(pk_freq, fwhm))\n",
    "            if pk_val<=np.std(mean_resid):\n",
    "                print('Peak: freq={} too low amplitude'.format(pk_freq))\n",
    "            #if nearest_orig>=3:\n",
    "            #    print('Peak: freq={} too far from original peaks'.format(pk_freq))\n",
    "\n",
    "        mean_resid=mean_resid-A\n",
    "        #mean_resid[mean_resid<0]=0\n",
    "    sorted_idx=np.argsort(foi_pk_freqs)\n",
    "    \n",
    "    foi_pk_freqs=np.array(foi_pk_freqs)\n",
    "    foi_pk_vals=np.array(foi_pk_vals)\n",
    "    foi_fwhms=np.array(foi_fwhms)\n",
    "    foi_ranges=np.array(foi_ranges)\n",
    "    \n",
    "    foi_pk_freqs=foi_pk_freqs[sorted_idx]\n",
    "    foi_pk_vals=foi_pk_vals[sorted_idx]\n",
    "    foi_fwhms=foi_fwhms[sorted_idx]\n",
    "    foi_ranges=foi_ranges[sorted_idx,:]\n",
    "\n",
    "    with open(f'frequency_ranges_{age}.json', 'w') as json_file:\n",
    "        json.dump(foi_info, json_file)\n",
    "    \n",
    "    plt.figure()\n",
    "    plt.plot(freqs,mean_psd, label='Mean PSD')\n",
    "    for f_idx in range(foi_ranges.shape[0]):\n",
    "        sd=foi_fwhms[f_idx]/(2*np.sqrt(2*np.log(2)))\n",
    "        A=foi_pk_vals[f_idx]*np.exp(-.5*((freqs-foi_pk_freqs[f_idx])/sd)**2)\n",
    "        plt.plot(freqs,A)\n",
    "        plt.title('Peak Detection for 12 mo')\n",
    "    \n",
    "    return foi_info, foi_pk_freqs,foi_pk_vals,foi_fwhms,foi_ranges"
   ]
  },
  {
   "cell_type": "code",
   "execution_count": 105,
   "id": "7937c441",
   "metadata": {},
   "outputs": [
    {
     "name": "stdout",
     "output_type": "stream",
     "text": [
      "Peak: freq=2.6, val=1.0350702884557128, width=3.6, range=0.8-4.4\n",
      "Distance to nearest original peak=0.0\n",
      "Peak: freq=6.2, val=0.5627372006266693, width=3.9000000000000004, range=4.25-8.15\n",
      "Distance to nearest original peak=3.6\n",
      "Peak: freq=10.25, val=0.2732189962893324, width=4.300000000000001, range=8.1-12.4\n",
      "Distance to nearest original peak=7.65\n",
      "Peak: freq=14.25, val=0.09475048474323117, width=3.8999999999999986, range=12.3-16.2\n",
      "Distance to nearest original peak=8.950000000000003\n",
      "Peak: freq=17.6, val=0.043010946576787064, width=2.700000000000003, range=16.25-18.950000000000003\n",
      "Distance to nearest original peak=5.600000000000001\n"
     ]
    },
    {
     "data": {
      "image/png": "[encoded data removed]",
      "text/plain": [
       "<Figure size 640x480 with 1 Axes>"
      ]
     },
     "metadata": {},
     "output_type": "display_data"
    }
   ],
   "source": [
    "foi_info_3m, foi_pk_freqs_3m,foi_pk_vals_3m,foi_fwhms_3m,foi_ranges_3m=define_fois(freqs, mean_psd_3m, 'three', debug=False)"
   ]
  },
  {
   "cell_type": "code",
   "execution_count": 107,
   "id": "6eaf30e8",
   "metadata": {
    "scrolled": true
   },
   "outputs": [
    {
     "name": "stdout",
     "output_type": "stream",
     "text": [
      "Peak: freq=2.45, val=0.9849860945009931, width=3.4000000000000004, range=0.75-4.15\n",
      "Distance to nearest original peak=0.0\n",
      "Peak: freq=6.050000000000001, val=0.5511481251769543, width=4.000000000000002, range=4.05-8.05\n",
      "Distance to nearest original peak=3.6000000000000005\n",
      "Peak: freq=10.0, val=0.1972238471305423, width=4.799999999999999, range=7.6000000000000005-12.399999999999999\n",
      "Distance to nearest original peak=7.55\n",
      "Peak: freq=27.1, val=0.10048843531788995, width=5.700000000000003, range=24.25-29.950000000000003\n",
      "Distance to nearest original peak=0.0\n"
     ]
    },
    {
     "data": {
      "image/png": "[encoded data removed]",
      "text/plain": [
       "<Figure size 640x480 with 1 Axes>"
      ]
     },
     "metadata": {},
     "output_type": "display_data"
    }
   ],
   "source": [
    "foi_info_6m, foi_pk_freqs_6m,foi_pk_vals_6m,foi_fwhms_6m,foi_ranges_6m=define_fois(freqs, mean_psd_6m, 'six', debug=False)"
   ]
  },
  {
   "cell_type": "code",
   "execution_count": 109,
   "id": "b50b3bd6",
   "metadata": {
    "scrolled": true
   },
   "outputs": [
    {
     "name": "stdout",
     "output_type": "stream",
     "text": [
      "Peak: freq=2.35, val=0.864796914325913, width=3.2, range=0.75-3.95\n",
      "Distance to nearest original peak=0.0\n",
      "Peak: freq=6.7, val=0.5750765270490543, width=5.8, range=3.8000000000000003-9.6\n",
      "Distance to nearest original peak=4.35\n",
      "Peak: freq=26.5, val=0.09048501311754953, width=8.400000000000006, range=22.299999999999997-30.700000000000003\n",
      "Distance to nearest original peak=0.0\n",
      "Peak: freq=14.950000000000001, val=0.08698026548561119, width=2.8000000000000007, range=13.55-16.35\n",
      "Distance to nearest original peak=0.05000000000000071\n",
      "Peak: freq=11.450000000000001, val=0.0759258147988381, width=2.6000000000000014, range=10.15-12.750000000000002\n",
      "Distance to nearest original peak=3.4499999999999993\n"
     ]
    },
    {
     "data": {
      "image/png": "[encoded data removed]",
      "text/plain": [
       "<Figure size 640x480 with 1 Axes>"
      ]
     },
     "metadata": {},
     "output_type": "display_data"
    }
   ],
   "source": [
    "foi_info_12m,foi_pk_freqs_12m,foi_pk_vals_12m,foi_fwhms_12m,foi_ranges_12m=define_fois(freqs, mean_psd_12m, 'twelve', debug=False)"
   ]
  },
  {
   "cell_type": "code",
   "execution_count": null,
   "id": "372010bd",
   "metadata": {},
   "outputs": [],
   "source": []
  }
 ],
 "metadata": {
  "kernelspec": {
   "display_name": "devmobeta_grasp",
   "language": "python",
   "name": "devmobeta_grasp"
  },
  "language_info": {
   "codemirror_mode": {
    "name": "ipython",
    "version": 3
   },
   "file_extension": ".py",
   "mimetype": "text/x-python",
   "name": "python",
   "nbconvert_exporter": "python",
   "pygments_lexer": "ipython3",
   "version": "3.12.2"
  }
 },
 "nbformat": 4,
 "nbformat_minor": 5
}
